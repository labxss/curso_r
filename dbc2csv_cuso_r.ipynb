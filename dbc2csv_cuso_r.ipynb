{
  "nbformat": 4,
  "nbformat_minor": 0,
  "metadata": {
    "colab": {
      "provenance": []
    },
    "kernelspec": {
      "name": "ir",
      "display_name": "R"
    },
    "language_info": {
      "name": "R"
    }
  },
  "cells": [
    {
      "cell_type": "markdown",
      "source": [
        "# Extração, Tarnformação e Carga (ETL) de dados do SUS via Protocolo de Transferência de Arquivos (FTP)\n",
        "\n",
        "## Bibliotecas do R\n",
        "As operações a seguir baixam e carregam os pacotes necessários o para processamento dos dados."
      ],
      "metadata": {
        "id": "VRgAOxj4l9DB"
      }
    },
    {
      "cell_type": "code",
      "execution_count": 14,
      "metadata": {
        "colab": {
          "base_uri": "https://localhost:8080/"
        },
        "id": "pehR-WvOkgAo",
        "outputId": "febffdee-aa12-4a5f-e538-820717f9eca2"
      },
      "outputs": [
        {
          "output_type": "stream",
          "name": "stderr",
          "text": [
            "Loading required package: read.dbc\n",
            "\n",
            "Warning message in library(package, lib.loc = lib.loc, character.only = TRUE, logical.return = TRUE, :\n",
            "“there is no package called ‘read.dbc’”\n",
            "Installing package into ‘/usr/local/lib/R/site-library’\n",
            "(as ‘lib’ is unspecified)\n",
            "\n",
            "Warning message:\n",
            "“package ‘read.dbc’ is not available for this version of R\n",
            "\n",
            "A version of this package for your version of R might be available elsewhere,\n",
            "see the ideas at\n",
            "https://cran.r-project.org/doc/manuals/r-patched/R-admin.html#Installing-packages”\n",
            "Loading required package: read.dbc\n",
            "\n",
            "Warning message in library(package, lib.loc = lib.loc, character.only = TRUE, logical.return = TRUE, :\n",
            "“there is no package called ‘read.dbc’”\n"
          ]
        }
      ],
      "source": [
        "if(!require(RCurl)) {install.packages(\"RCurl\"); require(RCurl)}\n",
        "# funcao getURL\n",
        "\n",
        "if(!require(downloader)) {install.packages(\"downloader\"); require(downloader)}\n",
        "# funcao download\n",
        "\n",
        "if(!require(stringr)) {install.packages(\"stringr\"); require(stringr)} \n",
        "# lpad str_pad\n",
        "\n",
        "if(!require(gsubfn)) {install.packages(\"gsubfn\"); require(gsubfn)}\n"
      ]
    },
    {
      "cell_type": "markdown",
      "source": [
        "## pacote read.dbc\n",
        "\n",
        "> Saiba mais sobre o read.dbc em https://pt.linkedin.com/pulse/datasus-conhe%C3%A7a-nova-ferramenta-para-ler-arquivos-dbc-petruzalek\n"
      ],
      "metadata": {
        "id": "Olbm2UL9tMnt"
      }
    },
    {
      "cell_type": "code",
      "source": [
        " if(!require(read.dbc)) {devtools::install_github(\"danicat/read.dbc\"); require(read.dbc)}\n",
        " # le arquivo DBC da estrategia tabnet/tabwin de disseminacao"
      ],
      "metadata": {
        "colab": {
          "base_uri": "https://localhost:8080/"
        },
        "id": "Q-7rf0gHtO2U",
        "outputId": "4341799e-41e8-4201-bcf3-86347684c738"
      },
      "execution_count": 15,
      "outputs": [
        {
          "output_type": "stream",
          "name": "stderr",
          "text": [
            "Downloading GitHub repo danicat/read.dbc@HEAD\n",
            "\n"
          ]
        },
        {
          "output_type": "stream",
          "name": "stdout",
          "text": [
            "\u001b[36m──\u001b[39m \u001b[36mR CMD build\u001b[39m \u001b[36m─────────────────────────────────────────────────────────────────\u001b[39m\n",
            "* checking for file ‘/tmp/RtmpvSL86P/remotesdc15ee3160/danicat-read.dbc-eb654e5/DESCRIPTION’ ... OK\n",
            "* preparing ‘read.dbc’:\n",
            "* checking DESCRIPTION meta-information ... OK\n",
            "* cleaning src\n",
            "* checking for LF line-endings in source and make files and shell scripts\n",
            "* checking for empty or unneeded directories\n",
            "Omitted ‘LazyData’ from DESCRIPTION\n",
            "* building ‘read.dbc_1.0.5.tar.gz’\n",
            "\n"
          ]
        },
        {
          "output_type": "stream",
          "name": "stderr",
          "text": [
            "Installing package into ‘/usr/local/lib/R/site-library’\n",
            "(as ‘lib’ is unspecified)\n",
            "\n",
            "Loading required package: read.dbc\n",
            "\n"
          ]
        }
      ]
    },
    {
      "cell_type": "markdown",
      "source": [
        "## Parâmetros\n",
        "\n",
        "A título de exemplo vamos trabalhar com o Protocolo Clínico e Diretriz Terapêutica **Espondilite Ancilosante**, disponível em https://www.gov.br/conitec/pt-br/midias/protocolos/20210428_pcdt-espondilite-ancilosante-1.pdf ."
      ],
      "metadata": {
        "id": "GGR1ro5hmk-C"
      }
    },
    {
      "cell_type": "code",
      "source": [
        "cid10=c(\"M45\", \"M468\") # Espondilite Ancilosante\n",
        "sigtap=c(\n",
        "  \"0601010019\", # ADALIMUMABE (A) 40 MG INJETAVEL- SERINGA PREENCHIDA (POR TRATAMENTO MENSAL)\tRevogado desde 06/2010\n",
        "  \"0604380011\", # ADALIMUMABE 40 MG INJETAVEL (POR SERINGA PREENCHIDA)\t\n",
        "  \"0604380062\", # ADALIMUMABE 40 MG INJETÁVEL (POR SERINGA PREENCHIDA)\t\n",
        "  \"0604380097\", # ADALIMUMABE 40 MG INJETÁVEL (FRASCO AMPOLA)\t\n",
        "  \"0604380127\", # ADALIMUMABE 40 MG INJETÁVEL ( POR SERINGA PREENCHIDA)( BIOSSIMILAR A)\t\n",
        "  \"0604380135\", # ADALIMUMABE 40 MG INJETÁVEL (POR SERINGA PREENCHIDA) (BIOSSIMILAR B)\n",
        "  \"0601010027\", # ETANERCEPTE (A)25 MG INJETAVEL -FRASCO-AMPOLA (POR TRATAMENTO MENSAL)\tRevogado desde 06/2010\n",
        "  \"0601010051\", # ETANERCEPTE 50MG INJETAVEL- FRASCO AMPOLA (POR TRATAMENTO MENSAL)\tRevogado desde 06/2010\n",
        "  \"0604380020\", # ETANERCEPTE 25 MG INJETÁVEL (POR FRASCO-AMPOLA OU SERINGA PREENCHIDA)\t\n",
        "  \"0604380038\", # ETANERCEPTE 50MG INJETAVEL (POR FRASCO-AMPOLA OU SERINGA PREENCHIDA)(ORIGINADOR)\t\n",
        "  \"0604380100\", # ETANERCEPTE 50 MG INJETÁVEL (POR FRASCO-AMPOLA OU SERINGA PREENCHIDA)(BIOSSIMILAR A)\n",
        "  \"0601010035\", # INFLIXIMABE (A)10 MG/ML 10 ML INJETAVEL (FRASCO-AMPOLA- POR TRATAMENTO MENSAL)\tRevogado desde 06/2010\n",
        "  \"0601010043\", # INFLIXIMABE 10 MG/ML INJETAVEL (POR FRASCO-AMPOLA 10 ML)\tRevogado desde 06/2010\n",
        "  \"0604380046\", # INFLIXIMABE 10 MG/ML INJETAVEL (POR FRASCO-AMPOLA COM 10 ML)\t\n",
        "  \"0604380054\", # INFLIXIMABE 10 MG/ML INJETAVEL (POR FRASCO-AMPOLA COM 10 ML)\t\n",
        "  \"0604380119\", # INFLIXIMABE 10 MG /ML INJETÁVEL (POR FRASCO-AMPOLA COM 10 ML) (BIOSSIMILAR A)\n",
        "  \"0604380089\", # GOLIMUMABE 50 MG INJETÁVEL (POR SERINGA PREENCHIDA\n",
        "  \"0604380070\", # CERTOLIZUMABE PEGOL 200 MG/ML INJETÁVEL (POR SERINGA PREENCHIDA)\n",
        "  \"0604690029\" # SECUQUINUMABE 150 MG/ML SOLUÇÃO INJETÁVEL (POR SERINGA PREENCHIDA)\n",
        ") # biologicos\n",
        "\n",
        "\n",
        "ufs=c('AC', 'AM', 'AP', 'PA', 'RO', 'RR', 'TO', \n",
        "      'AL', 'BA', 'CE', 'MA', 'PB', 'PE', 'PI', 'RN', 'SE', \n",
        "      'ES', 'MG', 'RJ', 'SP', 'PR', 'RS', 'SC', 'DF', 'GO', 'MS', 'MT')\n",
        "\n",
        "ano=18:22\n",
        "mes=str_pad(1:12, 2, pad=\"0\")\n",
        "\n",
        "url=\"ftp://ftp.datasus.gov.br/dissemin/publicos/SIASUS/200801_/Dados/\""
      ],
      "metadata": {
        "id": "rsaXLIUcm4Ck"
      },
      "execution_count": 11,
      "outputs": []
    },
    {
      "cell_type": "markdown",
      "source": [
        "## Estrutura dos dados\n",
        "\n",
        "Criar tabelas vazias no formato **data.frame** contendo as variáveis desejadas. \n",
        "\n",
        "O dicionário de dados do Sistema de Informações Ambulatoriais está disponível em  ftp://ftp.datasus.gov.br/dissemin/publicos/SIASUS/200801_/Doc/.\n",
        "\n",
        "### Como baixar o dicionário de dados\n",
        "\n",
        "\n",
        "> **Alternativa 1** \n",
        "> \n",
        "> Os enderelos do tipo ftp:// usualmente não funcionam no navegador de internet. Cole o endereço no navegador de arquivos.\n",
        "\n",
        "> **Alternativa 2** \n",
        ">\n",
        "> Baixe usando o R em sua máquina local com a função `download.file`.\n",
        "\n",
        "```\n",
        "# R\n",
        "download.file(\n",
        "  \"ftp://ftp.datasus.gov.br/dissemin/publicos/SIASUS/200801_/Doc/Informe_Tecnico_SIASUS_2019_07.pdf\", \n",
        "  destfile = \"Informe_Tecnico_SIASUS_2019_07.pdf\"\n",
        ") \n",
        "```\n",
        "\n"
      ],
      "metadata": {
        "id": "y5g02XhVnEUs"
      }
    },
    {
      "cell_type": "code",
      "source": [
        "   paam_estrutura=data.frame(\n",
        "    PA_AUTORIZ = numeric(), \n",
        "    PA_CMP = numeric(),\n",
        "    PA_MVM = numeric(),\n",
        "    PA_CIDPRI = character(),\n",
        "    PA_CIDSEC = character(),\n",
        "    PA_PROC_ID = character(),\n",
        "    PA_QTDAPR = numeric(),\n",
        "    PA_SEXO = character(),\n",
        "    PA_IDADE = numeric(),\n",
        "    PA_MUNPCN = numeric(),\n",
        "    uf_processamento  = character(),\n",
        "    AP_CNSPCN = character()\n",
        "  )\n",
        "  \n",
        "  pa_estrutura=data.frame(\n",
        "    PA_AUTORIZ = numeric(), \n",
        "    PA_CMP = numeric(),\n",
        "    PA_MVM = numeric(),    \n",
        "    PA_CIDPRI = character(),\n",
        "    PA_CIDSEC = character(),\n",
        "    PA_PROC_ID = character(),\n",
        "    PA_QTDAPR = numeric(),\n",
        "    PA_SEXO = character(),\n",
        "    PA_IDADE = numeric(),\n",
        "    PA_MUNPCN = numeric(),\n",
        "    uf_processamento  = character()\n",
        "  )\n",
        "\n",
        "  am_estrutura=data.frame(\n",
        "    AP_AUTORIZ = numeric(), \n",
        "    AP_PRIPAL = character(),\n",
        "    AP_CIDPRI = character(),\n",
        "    AP_CNSPCN = character()\n",
        "  )  "
      ],
      "metadata": {
        "id": "Eq-Ofn4moBHR"
      },
      "execution_count": 29,
      "outputs": []
    },
    {
      "cell_type": "markdown",
      "source": [
        "### Exemplo de dado\n",
        "\n",
        "O Sistema de Informação Ambulatorial (SIA) apreenta vários subsistemas, a saber:\n",
        "\n",
        "\n",
        "*    **PA Produção Ambulatorial**\n",
        "*    AB Laudo de Acompanhamento à Cirurgia Bariátrica\n",
        "*    ABO Acompanhamento Pós Cirurgia Bariátrica\n",
        "*    ACF Laudo de Confecção de Fístula\n",
        "*    AD Laudos Diversos\n",
        "*    **AM Laudo de Medicamentos**\n",
        "*    AMP Laudo de Acompanhamento Multiprofissional\n",
        "*    AN Laudo de Nefrologia\n",
        "*    AQ Laudo de Quimioterapia\n",
        "*    AR Laudo de Radioterapia\n",
        "*    ATD Laudo de Tratamento Dialítico\n",
        "*    BI Boletim Individual\n",
        "\n",
        "Os arquivos estão no formado DBF, cujo nome é padronizado:\n",
        "\n",
        "prefixo | UF | ano com dois dígitos | mês com dois dídigos.\n",
        "\n",
        "Exemplos: PARR2301.dbc, AMPR2201.dbc, AQBA1801.dbc.\n",
        "\n",
        "Vamos usar o `download.file` e o `read.dbc` para ler um arquivo direto do diretório FTP.\n",
        "\n"
      ],
      "metadata": {
        "id": "dqIPtH7hpQLm"
      }
    },
    {
      "cell_type": "code",
      "source": [
        " download.file(\n",
        "  paste0(url,'PAAC2212.dbc'), \n",
        "  destfile = \"arquivo.dbc\"\n",
        ")\n",
        "paac2212=read.dbc(\"arquivo.dbc\")\n",
        "head(paac2212)"
      ],
      "metadata": {
        "colab": {
          "base_uri": "https://localhost:8080/",
          "height": 286
        },
        "id": "Tmjo2yocql1h",
        "outputId": "ef4cb018-ba1f-4127-ce15-5f6d8bcd71c0"
      },
      "execution_count": 16,
      "outputs": [
        {
          "output_type": "display_data",
          "data": {
            "text/html": [
              "<table class=\"dataframe\">\n",
              "<caption>A data.frame: 6 × 60</caption>\n",
              "<thead>\n",
              "\t<tr><th></th><th scope=col>PA_CODUNI</th><th scope=col>PA_GESTAO</th><th scope=col>PA_CONDIC</th><th scope=col>PA_UFMUN</th><th scope=col>PA_REGCT</th><th scope=col>PA_INCOUT</th><th scope=col>PA_INCURG</th><th scope=col>PA_TPUPS</th><th scope=col>PA_TIPPRE</th><th scope=col>PA_MN_IND</th><th scope=col>⋯</th><th scope=col>PA_CODOCO</th><th scope=col>PA_FLQT</th><th scope=col>PA_FLER</th><th scope=col>PA_ETNIA</th><th scope=col>PA_VL_CF</th><th scope=col>PA_VL_CL</th><th scope=col>PA_VL_INC</th><th scope=col>PA_SRV_C</th><th scope=col>PA_INE</th><th scope=col>PA_NAT_JUR</th></tr>\n",
              "\t<tr><th></th><th scope=col>&lt;fct&gt;</th><th scope=col>&lt;fct&gt;</th><th scope=col>&lt;fct&gt;</th><th scope=col>&lt;fct&gt;</th><th scope=col>&lt;fct&gt;</th><th scope=col>&lt;fct&gt;</th><th scope=col>&lt;fct&gt;</th><th scope=col>&lt;fct&gt;</th><th scope=col>&lt;fct&gt;</th><th scope=col>&lt;fct&gt;</th><th scope=col>⋯</th><th scope=col>&lt;fct&gt;</th><th scope=col>&lt;fct&gt;</th><th scope=col>&lt;fct&gt;</th><th scope=col>&lt;fct&gt;</th><th scope=col>&lt;dbl&gt;</th><th scope=col>&lt;dbl&gt;</th><th scope=col>&lt;dbl&gt;</th><th scope=col>&lt;fct&gt;</th><th scope=col>&lt;fct&gt;</th><th scope=col>&lt;fct&gt;</th></tr>\n",
              "</thead>\n",
              "<tbody>\n",
              "\t<tr><th scope=row>1</th><td>2001586</td><td>120000</td><td>EP</td><td>120040</td><td>0000</td><td>0000</td><td>0000</td><td>05</td><td>00</td><td>I</td><td>⋯</td><td>1</td><td>K</td><td>0</td><td>NA</td><td>0</td><td>0</td><td>0</td><td>NA    </td><td>NA</td><td>1147</td></tr>\n",
              "\t<tr><th scope=row>2</th><td>5336171</td><td>120000</td><td>EP</td><td>120020</td><td>0000</td><td>0000</td><td>0000</td><td>05</td><td>00</td><td>M</td><td>⋯</td><td>1</td><td>K</td><td>0</td><td>NA</td><td>0</td><td>0</td><td>0</td><td>145003</td><td>NA</td><td>1023</td></tr>\n",
              "\t<tr><th scope=row>3</th><td>0128619</td><td>120000</td><td>EP</td><td>120040</td><td>0000</td><td>0000</td><td>0000</td><td>36</td><td>00</td><td>M</td><td>⋯</td><td>1</td><td>K</td><td>0</td><td>NA</td><td>0</td><td>0</td><td>0</td><td>135003</td><td>NA</td><td>1023</td></tr>\n",
              "\t<tr><th scope=row>4</th><td>2000393</td><td>120000</td><td>EP</td><td>120070</td><td>0000</td><td>0000</td><td>0000</td><td>05</td><td>00</td><td>M</td><td>⋯</td><td>1</td><td>K</td><td>0</td><td>NA</td><td>0</td><td>0</td><td>0</td><td>NA    </td><td>NA</td><td>1023</td></tr>\n",
              "\t<tr><th scope=row>5</th><td>2000970</td><td>120000</td><td>EP</td><td>120034</td><td>0000</td><td>0000</td><td>0000</td><td>15</td><td>00</td><td>M</td><td>⋯</td><td>1</td><td>K</td><td>0</td><td>NA</td><td>0</td><td>0</td><td>0</td><td>126005</td><td>NA</td><td>1023</td></tr>\n",
              "\t<tr><th scope=row>6</th><td>2001063</td><td>120000</td><td>EP</td><td>120040</td><td>0000</td><td>0000</td><td>0000</td><td>36</td><td>00</td><td>M</td><td>⋯</td><td>1</td><td>K</td><td>0</td><td>NA</td><td>0</td><td>0</td><td>0</td><td>121012</td><td>NA</td><td>1023</td></tr>\n",
              "</tbody>\n",
              "</table>\n"
            ],
            "text/markdown": "\nA data.frame: 6 × 60\n\n| <!--/--> | PA_CODUNI &lt;fct&gt; | PA_GESTAO &lt;fct&gt; | PA_CONDIC &lt;fct&gt; | PA_UFMUN &lt;fct&gt; | PA_REGCT &lt;fct&gt; | PA_INCOUT &lt;fct&gt; | PA_INCURG &lt;fct&gt; | PA_TPUPS &lt;fct&gt; | PA_TIPPRE &lt;fct&gt; | PA_MN_IND &lt;fct&gt; | ⋯ ⋯ | PA_CODOCO &lt;fct&gt; | PA_FLQT &lt;fct&gt; | PA_FLER &lt;fct&gt; | PA_ETNIA &lt;fct&gt; | PA_VL_CF &lt;dbl&gt; | PA_VL_CL &lt;dbl&gt; | PA_VL_INC &lt;dbl&gt; | PA_SRV_C &lt;fct&gt; | PA_INE &lt;fct&gt; | PA_NAT_JUR &lt;fct&gt; |\n|---|---|---|---|---|---|---|---|---|---|---|---|---|---|---|---|---|---|---|---|---|---|\n| 1 | 2001586 | 120000 | EP | 120040 | 0000 | 0000 | 0000 | 05 | 00 | I | ⋯ | 1 | K | 0 | NA | 0 | 0 | 0 | NA     | NA | 1147 |\n| 2 | 5336171 | 120000 | EP | 120020 | 0000 | 0000 | 0000 | 05 | 00 | M | ⋯ | 1 | K | 0 | NA | 0 | 0 | 0 | 145003 | NA | 1023 |\n| 3 | 0128619 | 120000 | EP | 120040 | 0000 | 0000 | 0000 | 36 | 00 | M | ⋯ | 1 | K | 0 | NA | 0 | 0 | 0 | 135003 | NA | 1023 |\n| 4 | 2000393 | 120000 | EP | 120070 | 0000 | 0000 | 0000 | 05 | 00 | M | ⋯ | 1 | K | 0 | NA | 0 | 0 | 0 | NA     | NA | 1023 |\n| 5 | 2000970 | 120000 | EP | 120034 | 0000 | 0000 | 0000 | 15 | 00 | M | ⋯ | 1 | K | 0 | NA | 0 | 0 | 0 | 126005 | NA | 1023 |\n| 6 | 2001063 | 120000 | EP | 120040 | 0000 | 0000 | 0000 | 36 | 00 | M | ⋯ | 1 | K | 0 | NA | 0 | 0 | 0 | 121012 | NA | 1023 |\n\n",
            "text/latex": "A data.frame: 6 × 60\n\\begin{tabular}{r|lllllllllllllllllllll}\n  & PA\\_CODUNI & PA\\_GESTAO & PA\\_CONDIC & PA\\_UFMUN & PA\\_REGCT & PA\\_INCOUT & PA\\_INCURG & PA\\_TPUPS & PA\\_TIPPRE & PA\\_MN\\_IND & ⋯ & PA\\_CODOCO & PA\\_FLQT & PA\\_FLER & PA\\_ETNIA & PA\\_VL\\_CF & PA\\_VL\\_CL & PA\\_VL\\_INC & PA\\_SRV\\_C & PA\\_INE & PA\\_NAT\\_JUR\\\\\n  & <fct> & <fct> & <fct> & <fct> & <fct> & <fct> & <fct> & <fct> & <fct> & <fct> & ⋯ & <fct> & <fct> & <fct> & <fct> & <dbl> & <dbl> & <dbl> & <fct> & <fct> & <fct>\\\\\n\\hline\n\t1 & 2001586 & 120000 & EP & 120040 & 0000 & 0000 & 0000 & 05 & 00 & I & ⋯ & 1 & K & 0 & NA & 0 & 0 & 0 & NA     & NA & 1147\\\\\n\t2 & 5336171 & 120000 & EP & 120020 & 0000 & 0000 & 0000 & 05 & 00 & M & ⋯ & 1 & K & 0 & NA & 0 & 0 & 0 & 145003 & NA & 1023\\\\\n\t3 & 0128619 & 120000 & EP & 120040 & 0000 & 0000 & 0000 & 36 & 00 & M & ⋯ & 1 & K & 0 & NA & 0 & 0 & 0 & 135003 & NA & 1023\\\\\n\t4 & 2000393 & 120000 & EP & 120070 & 0000 & 0000 & 0000 & 05 & 00 & M & ⋯ & 1 & K & 0 & NA & 0 & 0 & 0 & NA     & NA & 1023\\\\\n\t5 & 2000970 & 120000 & EP & 120034 & 0000 & 0000 & 0000 & 15 & 00 & M & ⋯ & 1 & K & 0 & NA & 0 & 0 & 0 & 126005 & NA & 1023\\\\\n\t6 & 2001063 & 120000 & EP & 120040 & 0000 & 0000 & 0000 & 36 & 00 & M & ⋯ & 1 & K & 0 & NA & 0 & 0 & 0 & 121012 & NA & 1023\\\\\n\\end{tabular}\n",
            "text/plain": [
              "  PA_CODUNI PA_GESTAO PA_CONDIC PA_UFMUN PA_REGCT PA_INCOUT PA_INCURG PA_TPUPS\n",
              "1 2001586   120000    EP        120040   0000     0000      0000      05      \n",
              "2 5336171   120000    EP        120020   0000     0000      0000      05      \n",
              "3 0128619   120000    EP        120040   0000     0000      0000      36      \n",
              "4 2000393   120000    EP        120070   0000     0000      0000      05      \n",
              "5 2000970   120000    EP        120034   0000     0000      0000      15      \n",
              "6 2001063   120000    EP        120040   0000     0000      0000      36      \n",
              "  PA_TIPPRE PA_MN_IND ⋯ PA_CODOCO PA_FLQT PA_FLER PA_ETNIA PA_VL_CF PA_VL_CL\n",
              "1 00        I         ⋯ 1         K       0       NA       0        0       \n",
              "2 00        M         ⋯ 1         K       0       NA       0        0       \n",
              "3 00        M         ⋯ 1         K       0       NA       0        0       \n",
              "4 00        M         ⋯ 1         K       0       NA       0        0       \n",
              "5 00        M         ⋯ 1         K       0       NA       0        0       \n",
              "6 00        M         ⋯ 1         K       0       NA       0        0       \n",
              "  PA_VL_INC PA_SRV_C PA_INE PA_NAT_JUR\n",
              "1 0         NA       NA     1147      \n",
              "2 0         145003   NA     1023      \n",
              "3 0         135003   NA     1023      \n",
              "4 0         NA       NA     1023      \n",
              "5 0         126005   NA     1023      \n",
              "6 0         121012   NA     1023      "
            ]
          },
          "metadata": {}
        }
      ]
    },
    {
      "cell_type": "markdown",
      "source": [
        "## Lista de arquivos DBC\n",
        "\n",
        "A lista completa dos arquivos dbc do SIA é obtida com a função `getURL`."
      ],
      "metadata": {
        "id": "3Bhbm0_5uYtn"
      }
    },
    {
      "cell_type": "code",
      "source": [
        "url=\"ftp://ftp.datasus.gov.br/dissemin/publicos/SIASUS/200801_/Dados/\"\n",
        "\n",
        "# lista arquivos dbc do diretorio FTP\n",
        "aux <-\n",
        "  getURL(\n",
        "    url,\n",
        "    verbose = TRUE,\n",
        "    ftp.use.epsv = FALSE,\n",
        "    dirlistonly = TRUE,\n",
        "    crlf = TRUE\n",
        "  )\n",
        "listadbc=strsplit(aux, \"\\r*\\n\")[[1]]\n",
        "\n",
        "length(listadbc) # numero de arquivos\n",
        "\n",
        "listadbc[sample(1:length(listadbc),20, replace = TRUE)] \n",
        "# amostra de arquivos DBC"
      ],
      "metadata": {
        "colab": {
          "base_uri": "https://localhost:8080/",
          "height": 52
        },
        "id": "owjEBvY0r5K9",
        "outputId": "ff515087-e6da-4466-9482-48efbd91a25c"
      },
      "execution_count": 19,
      "outputs": [
        {
          "output_type": "display_data",
          "data": {
            "text/html": [
              "43158"
            ],
            "text/markdown": "43158",
            "text/latex": "43158",
            "text/plain": [
              "[1] 43158"
            ]
          },
          "metadata": {}
        },
        {
          "output_type": "display_data",
          "data": {
            "text/html": [
              "<style>\n",
              ".list-inline {list-style: none; margin:0; padding: 0}\n",
              ".list-inline>li {display: inline-block}\n",
              ".list-inline>li:not(:last-child)::after {content: \"\\00b7\"; padding: 0 .5ex}\n",
              "</style>\n",
              "<ol class=list-inline><li>'PSRJ1711.dbc'</li><li>'AQMT2010.dbc'</li><li>'BIPR1408.dbc'</li><li>'ARMS1907.dbc'</li><li>'AMRR1304.dbc'</li></ol>\n"
            ],
            "text/markdown": "1. 'PSRJ1711.dbc'\n2. 'AQMT2010.dbc'\n3. 'BIPR1408.dbc'\n4. 'ARMS1907.dbc'\n5. 'AMRR1304.dbc'\n\n\n",
            "text/latex": "\\begin{enumerate*}\n\\item 'PSRJ1711.dbc'\n\\item 'AQMT2010.dbc'\n\\item 'BIPR1408.dbc'\n\\item 'ARMS1907.dbc'\n\\item 'AMRR1304.dbc'\n\\end{enumerate*}\n",
            "text/plain": [
              "[1] \"PSRJ1711.dbc\" \"AQMT2010.dbc\" \"BIPR1408.dbc\" \"ARMS1907.dbc\" \"AMRR1304.dbc\""
            ]
          },
          "metadata": {}
        }
      ]
    },
    {
      "cell_type": "markdown",
      "source": [
        "## Lista de UF por mês de competência\n",
        "\n",
        "O controle da ordem de manipulação dos arquivos segundo estado e mês é fundamental na carga.\n",
        "\n",
        "A função `expand.grid` é empregada para gerar as combinações de UF, ano e mês\n",
        "que integram o nome dos arquivos a serem manipulados."
      ],
      "metadata": {
        "id": "qaURSU262h_Z"
      }
    },
    {
      "cell_type": "code",
      "source": [
        "  uf='GO'\n",
        "  aux=as.matrix(expand.grid(uf,ano,mes))\n",
        "  ufaamm=sort(paste0(\n",
        "    aux[,1],\n",
        "    aux[,2],\n",
        "    aux[,3]\n",
        "  ))\n",
        "  ufaamm"
      ],
      "metadata": {
        "colab": {
          "base_uri": "https://localhost:8080/",
          "height": 69
        },
        "id": "ROY6WIDM3Gjf",
        "outputId": "e6d9175d-9db1-4c90-8f6c-ac730e393074"
      },
      "execution_count": 20,
      "outputs": [
        {
          "output_type": "display_data",
          "data": {
            "text/html": [
              "<style>\n",
              ".list-inline {list-style: none; margin:0; padding: 0}\n",
              ".list-inline>li {display: inline-block}\n",
              ".list-inline>li:not(:last-child)::after {content: \"\\00b7\"; padding: 0 .5ex}\n",
              "</style>\n",
              "<ol class=list-inline><li>'GO1801'</li><li>'GO1802'</li><li>'GO1803'</li><li>'GO1804'</li><li>'GO1805'</li><li>'GO1806'</li><li>'GO1807'</li><li>'GO1808'</li><li>'GO1809'</li><li>'GO1810'</li><li>'GO1811'</li><li>'GO1812'</li><li>'GO1901'</li><li>'GO1902'</li><li>'GO1903'</li><li>'GO1904'</li><li>'GO1905'</li><li>'GO1906'</li><li>'GO1907'</li><li>'GO1908'</li><li>'GO1909'</li><li>'GO1910'</li><li>'GO1911'</li><li>'GO1912'</li><li>'GO2001'</li><li>'GO2002'</li><li>'GO2003'</li><li>'GO2004'</li><li>'GO2005'</li><li>'GO2006'</li><li>'GO2007'</li><li>'GO2008'</li><li>'GO2009'</li><li>'GO2010'</li><li>'GO2011'</li><li>'GO2012'</li><li>'GO2101'</li><li>'GO2102'</li><li>'GO2103'</li><li>'GO2104'</li><li>'GO2105'</li><li>'GO2106'</li><li>'GO2107'</li><li>'GO2108'</li><li>'GO2109'</li><li>'GO2110'</li><li>'GO2111'</li><li>'GO2112'</li><li>'GO2201'</li><li>'GO2202'</li><li>'GO2203'</li><li>'GO2204'</li><li>'GO2205'</li><li>'GO2206'</li><li>'GO2207'</li><li>'GO2208'</li><li>'GO2209'</li><li>'GO2210'</li><li>'GO2211'</li><li>'GO2212'</li></ol>\n"
            ],
            "text/markdown": "1. 'GO1801'\n2. 'GO1802'\n3. 'GO1803'\n4. 'GO1804'\n5. 'GO1805'\n6. 'GO1806'\n7. 'GO1807'\n8. 'GO1808'\n9. 'GO1809'\n10. 'GO1810'\n11. 'GO1811'\n12. 'GO1812'\n13. 'GO1901'\n14. 'GO1902'\n15. 'GO1903'\n16. 'GO1904'\n17. 'GO1905'\n18. 'GO1906'\n19. 'GO1907'\n20. 'GO1908'\n21. 'GO1909'\n22. 'GO1910'\n23. 'GO1911'\n24. 'GO1912'\n25. 'GO2001'\n26. 'GO2002'\n27. 'GO2003'\n28. 'GO2004'\n29. 'GO2005'\n30. 'GO2006'\n31. 'GO2007'\n32. 'GO2008'\n33. 'GO2009'\n34. 'GO2010'\n35. 'GO2011'\n36. 'GO2012'\n37. 'GO2101'\n38. 'GO2102'\n39. 'GO2103'\n40. 'GO2104'\n41. 'GO2105'\n42. 'GO2106'\n43. 'GO2107'\n44. 'GO2108'\n45. 'GO2109'\n46. 'GO2110'\n47. 'GO2111'\n48. 'GO2112'\n49. 'GO2201'\n50. 'GO2202'\n51. 'GO2203'\n52. 'GO2204'\n53. 'GO2205'\n54. 'GO2206'\n55. 'GO2207'\n56. 'GO2208'\n57. 'GO2209'\n58. 'GO2210'\n59. 'GO2211'\n60. 'GO2212'\n\n\n",
            "text/latex": "\\begin{enumerate*}\n\\item 'GO1801'\n\\item 'GO1802'\n\\item 'GO1803'\n\\item 'GO1804'\n\\item 'GO1805'\n\\item 'GO1806'\n\\item 'GO1807'\n\\item 'GO1808'\n\\item 'GO1809'\n\\item 'GO1810'\n\\item 'GO1811'\n\\item 'GO1812'\n\\item 'GO1901'\n\\item 'GO1902'\n\\item 'GO1903'\n\\item 'GO1904'\n\\item 'GO1905'\n\\item 'GO1906'\n\\item 'GO1907'\n\\item 'GO1908'\n\\item 'GO1909'\n\\item 'GO1910'\n\\item 'GO1911'\n\\item 'GO1912'\n\\item 'GO2001'\n\\item 'GO2002'\n\\item 'GO2003'\n\\item 'GO2004'\n\\item 'GO2005'\n\\item 'GO2006'\n\\item 'GO2007'\n\\item 'GO2008'\n\\item 'GO2009'\n\\item 'GO2010'\n\\item 'GO2011'\n\\item 'GO2012'\n\\item 'GO2101'\n\\item 'GO2102'\n\\item 'GO2103'\n\\item 'GO2104'\n\\item 'GO2105'\n\\item 'GO2106'\n\\item 'GO2107'\n\\item 'GO2108'\n\\item 'GO2109'\n\\item 'GO2110'\n\\item 'GO2111'\n\\item 'GO2112'\n\\item 'GO2201'\n\\item 'GO2202'\n\\item 'GO2203'\n\\item 'GO2204'\n\\item 'GO2205'\n\\item 'GO2206'\n\\item 'GO2207'\n\\item 'GO2208'\n\\item 'GO2209'\n\\item 'GO2210'\n\\item 'GO2211'\n\\item 'GO2212'\n\\end{enumerate*}\n",
            "text/plain": [
              " [1] \"GO1801\" \"GO1802\" \"GO1803\" \"GO1804\" \"GO1805\" \"GO1806\" \"GO1807\" \"GO1808\"\n",
              " [9] \"GO1809\" \"GO1810\" \"GO1811\" \"GO1812\" \"GO1901\" \"GO1902\" \"GO1903\" \"GO1904\"\n",
              "[17] \"GO1905\" \"GO1906\" \"GO1907\" \"GO1908\" \"GO1909\" \"GO1910\" \"GO1911\" \"GO1912\"\n",
              "[25] \"GO2001\" \"GO2002\" \"GO2003\" \"GO2004\" \"GO2005\" \"GO2006\" \"GO2007\" \"GO2008\"\n",
              "[33] \"GO2009\" \"GO2010\" \"GO2011\" \"GO2012\" \"GO2101\" \"GO2102\" \"GO2103\" \"GO2104\"\n",
              "[41] \"GO2105\" \"GO2106\" \"GO2107\" \"GO2108\" \"GO2109\" \"GO2110\" \"GO2111\" \"GO2112\"\n",
              "[49] \"GO2201\" \"GO2202\" \"GO2203\" \"GO2204\" \"GO2205\" \"GO2206\" \"GO2207\" \"GO2208\"\n",
              "[57] \"GO2209\" \"GO2210\" \"GO2211\" \"GO2212\""
            ]
          },
          "metadata": {}
        }
      ]
    },
    {
      "cell_type": "markdown",
      "source": [
        "## Enriquecimento do subsistema principal do SIA\n",
        "\n",
        "O subsistema principal do **SIA** é chamado de corpo da Autorização de Procedimentos Ambulatoriais (antiga sigla APAC) e são disseminados sob o prefixo **PA**.\n",
        "\n",
        "Por meio do número de autorização, em geral, **PA_AUTORIZ** ou **AP_AUTORIZ**, é possível completar o arquivo principal.\n",
        "\n",
        "A tarefa é fundamental para computar o número de usuários com quantidade aprovada de dado procedimento, sobretudo a partir do arquivo de medicamentos de prefixo **AM**.\n",
        "\n",
        "Veja o exemplo ilustrado para o primeiro valor no índice do vetor `ufaamm`.\n",
        "\n",
        "### Processamento dos arquivos PA da mesma UF e mês\n",
        "\n",
        "Eventualmente arquivos do mês mês que ultrapassam cerca de dois milhões de registros são fragmentados e mais de um arquivo, por exemplo, **PASP2301a.dbc**, **PASP2301b.dbc** e **PASP2301c.dbc**.\n",
        "\n",
        "Por isso é utilizada a estrutura de repetição `for`.\n",
        "\n",
        "Note que os filtros de **CID10** e procedimento **SIGTAP** são usados logo após a carga para reduzir a ocupação na memória e, portanto, o recurso computacional necessário.\n",
        "\n",
        "Foram estabelecidos filtros segundo a doença selecionada em `PA_CIDPRI %in% cid10` e procedimento em `PA_PROC_ID %in% sigtap`.\n",
        "\n",
        "Adicionalmente, o vetor de atributos foi aplicado a fim de desprezar os demais.\n",
        "\n",
        "```\n",
        "c(\"PA_AUTORIZ\",\"PA_CMP\",\"PA_MVM\" ,\"PA_CIDPRI\", \"PA_CIDSEC\", \n",
        "  \"PA_PROC_ID\", \"PA_QTDAPR\",\"PA_SEXO\", \"PA_IDADE\", \"PA_MUNPCN\"\n",
        ")\n",
        "```\n",
        "\n",
        "\n",
        "\n",
        "> **Nota:**\n",
        "> É recomendável baixar previamente os arquivo DBC para o disco local\n",
        "> Assim, basta substituir a linha de comando\n",
        ">\n",
        "> `download.file(paste0(url,listadbc_pa[j]), destfile = \"arquivo.dbc\")`\n",
        ">\n",
        "> por\n",
        "> \n",
        "> `arquivo=paste0(dirdbc,listadbc_pa[j])`"
      ],
      "metadata": {
        "id": "qtarojLe3y5w"
      }
    },
    {
      "cell_type": "code",
      "source": [
        "i=1\n",
        "ufaamm[i]\n",
        "\n",
        "# filtra apenas arquivos contendo o respectivo UFAAMM \n",
        "listadbc_pa=subset(\n",
        "      listadbc,\n",
        "      grepl(paste0(\"^PA\",ufaamm[i]), listadbc)\n",
        "    )\n",
        "listadbc_pa\n",
        "\n",
        "pa=pa_estrutura\n",
        "\n",
        "# incorpora o arquivo PA\n",
        "    for (j in 1:length(listadbc_pa)) {\n",
        "      arquivo = \"arquivo.dbc\"\n",
        "      download.file(paste0(url,listadbc_pa[j]), destfile = arquivo) \n",
        "      # arquivo=paste0(dirdbc,listadbc_pa[j])\n",
        "      aux=subset(\n",
        "        read.dbc(arquivo)[,c(\n",
        "          \"PA_AUTORIZ\",\"PA_CMP\",\"PA_MVM\" ,\"PA_CIDPRI\", \"PA_CIDSEC\", \n",
        "          \"PA_PROC_ID\", \"PA_QTDAPR\",\"PA_SEXO\", \"PA_IDADE\", \"PA_MUNPCN\"\n",
        "        )],\n",
        "        PA_CIDPRI %in% cid10 & \n",
        "          PA_PROC_ID %in% sigtap\n",
        "      )\n",
        "      \n",
        "      if (nrow(aux)==0) {\n",
        "        aux=pa\n",
        "      } else {\n",
        "        aux$uf_processamento = uf\n",
        "        pa=rbind(pa,aux)  \n",
        "      }\n",
        "      \n",
        "    }\n",
        "head(pa)"
      ],
      "metadata": {
        "colab": {
          "base_uri": "https://localhost:8080/",
          "height": 321
        },
        "id": "yeNVitil5HLD",
        "outputId": "f9c46e9c-11b1-43ec-e675-841c0b326609"
      },
      "execution_count": 30,
      "outputs": [
        {
          "output_type": "display_data",
          "data": {
            "text/html": [
              "'GO1801'"
            ],
            "text/markdown": "'GO1801'",
            "text/latex": "'GO1801'",
            "text/plain": [
              "[1] \"GO1801\""
            ]
          },
          "metadata": {}
        },
        {
          "output_type": "display_data",
          "data": {
            "text/html": [
              "'PAGO1801.dbc'"
            ],
            "text/markdown": "'PAGO1801.dbc'",
            "text/latex": "'PAGO1801.dbc'",
            "text/plain": [
              "[1] \"PAGO1801.dbc\""
            ]
          },
          "metadata": {}
        },
        {
          "output_type": "display_data",
          "data": {
            "text/html": [
              "<table class=\"dataframe\">\n",
              "<caption>A data.frame: 6 × 11</caption>\n",
              "<thead>\n",
              "\t<tr><th></th><th scope=col>PA_AUTORIZ</th><th scope=col>PA_CMP</th><th scope=col>PA_MVM</th><th scope=col>PA_CIDPRI</th><th scope=col>PA_CIDSEC</th><th scope=col>PA_PROC_ID</th><th scope=col>PA_QTDAPR</th><th scope=col>PA_SEXO</th><th scope=col>PA_IDADE</th><th scope=col>PA_MUNPCN</th><th scope=col>uf_processamento</th></tr>\n",
              "\t<tr><th></th><th scope=col>&lt;fct&gt;</th><th scope=col>&lt;fct&gt;</th><th scope=col>&lt;fct&gt;</th><th scope=col>&lt;fct&gt;</th><th scope=col>&lt;fct&gt;</th><th scope=col>&lt;fct&gt;</th><th scope=col>&lt;int&gt;</th><th scope=col>&lt;fct&gt;</th><th scope=col>&lt;fct&gt;</th><th scope=col>&lt;fct&gt;</th><th scope=col>&lt;chr&gt;</th></tr>\n",
              "</thead>\n",
              "<tbody>\n",
              "\t<tr><th scope=row>1975</th><td>5217202829366</td><td>201801</td><td>201801</td><td>M45</td><td>0000</td><td>0604380011</td><td>2</td><td>F</td><td>033</td><td>520870</td><td>GO</td></tr>\n",
              "\t<tr><th scope=row>2015</th><td>5218200283483</td><td>201801</td><td>201801</td><td>M45</td><td>0000</td><td>0604380054</td><td>2</td><td>M</td><td>038</td><td>520870</td><td>GO</td></tr>\n",
              "\t<tr><th scope=row>3967</th><td>5217203323300</td><td>201801</td><td>201801</td><td>M45</td><td>0000</td><td>0604380011</td><td>2</td><td>M</td><td>020</td><td>520110</td><td>GO</td></tr>\n",
              "\t<tr><th scope=row>3969</th><td>5217203318943</td><td>201801</td><td>201801</td><td>M45</td><td>0000</td><td>0604380011</td><td>2</td><td>M</td><td>050</td><td>521230</td><td>GO</td></tr>\n",
              "\t<tr><th scope=row>3971</th><td>5218200003445</td><td>201801</td><td>201801</td><td>M45</td><td>0000</td><td>0604380011</td><td>2</td><td>M</td><td>037</td><td>521380</td><td>GO</td></tr>\n",
              "\t<tr><th scope=row>3975</th><td>5217203358136</td><td>201801</td><td>201801</td><td>M45</td><td>0000</td><td>0604380011</td><td>2</td><td>M</td><td>034</td><td>520870</td><td>GO</td></tr>\n",
              "</tbody>\n",
              "</table>\n"
            ],
            "text/markdown": "\nA data.frame: 6 × 11\n\n| <!--/--> | PA_AUTORIZ &lt;fct&gt; | PA_CMP &lt;fct&gt; | PA_MVM &lt;fct&gt; | PA_CIDPRI &lt;fct&gt; | PA_CIDSEC &lt;fct&gt; | PA_PROC_ID &lt;fct&gt; | PA_QTDAPR &lt;int&gt; | PA_SEXO &lt;fct&gt; | PA_IDADE &lt;fct&gt; | PA_MUNPCN &lt;fct&gt; | uf_processamento &lt;chr&gt; |\n|---|---|---|---|---|---|---|---|---|---|---|---|\n| 1975 | 5217202829366 | 201801 | 201801 | M45 | 0000 | 0604380011 | 2 | F | 033 | 520870 | GO |\n| 2015 | 5218200283483 | 201801 | 201801 | M45 | 0000 | 0604380054 | 2 | M | 038 | 520870 | GO |\n| 3967 | 5217203323300 | 201801 | 201801 | M45 | 0000 | 0604380011 | 2 | M | 020 | 520110 | GO |\n| 3969 | 5217203318943 | 201801 | 201801 | M45 | 0000 | 0604380011 | 2 | M | 050 | 521230 | GO |\n| 3971 | 5218200003445 | 201801 | 201801 | M45 | 0000 | 0604380011 | 2 | M | 037 | 521380 | GO |\n| 3975 | 5217203358136 | 201801 | 201801 | M45 | 0000 | 0604380011 | 2 | M | 034 | 520870 | GO |\n\n",
            "text/latex": "A data.frame: 6 × 11\n\\begin{tabular}{r|lllllllllll}\n  & PA\\_AUTORIZ & PA\\_CMP & PA\\_MVM & PA\\_CIDPRI & PA\\_CIDSEC & PA\\_PROC\\_ID & PA\\_QTDAPR & PA\\_SEXO & PA\\_IDADE & PA\\_MUNPCN & uf\\_processamento\\\\\n  & <fct> & <fct> & <fct> & <fct> & <fct> & <fct> & <int> & <fct> & <fct> & <fct> & <chr>\\\\\n\\hline\n\t1975 & 5217202829366 & 201801 & 201801 & M45 & 0000 & 0604380011 & 2 & F & 033 & 520870 & GO\\\\\n\t2015 & 5218200283483 & 201801 & 201801 & M45 & 0000 & 0604380054 & 2 & M & 038 & 520870 & GO\\\\\n\t3967 & 5217203323300 & 201801 & 201801 & M45 & 0000 & 0604380011 & 2 & M & 020 & 520110 & GO\\\\\n\t3969 & 5217203318943 & 201801 & 201801 & M45 & 0000 & 0604380011 & 2 & M & 050 & 521230 & GO\\\\\n\t3971 & 5218200003445 & 201801 & 201801 & M45 & 0000 & 0604380011 & 2 & M & 037 & 521380 & GO\\\\\n\t3975 & 5217203358136 & 201801 & 201801 & M45 & 0000 & 0604380011 & 2 & M & 034 & 520870 & GO\\\\\n\\end{tabular}\n",
            "text/plain": [
              "     PA_AUTORIZ    PA_CMP PA_MVM PA_CIDPRI PA_CIDSEC PA_PROC_ID PA_QTDAPR\n",
              "1975 5217202829366 201801 201801 M45       0000      0604380011 2        \n",
              "2015 5218200283483 201801 201801 M45       0000      0604380054 2        \n",
              "3967 5217203323300 201801 201801 M45       0000      0604380011 2        \n",
              "3969 5217203318943 201801 201801 M45       0000      0604380011 2        \n",
              "3971 5218200003445 201801 201801 M45       0000      0604380011 2        \n",
              "3975 5217203358136 201801 201801 M45       0000      0604380011 2        \n",
              "     PA_SEXO PA_IDADE PA_MUNPCN uf_processamento\n",
              "1975 F       033      520870    GO              \n",
              "2015 M       038      520870    GO              \n",
              "3967 M       020      520110    GO              \n",
              "3969 M       050      521230    GO              \n",
              "3971 M       037      521380    GO              \n",
              "3975 M       034      520870    GO              "
            ]
          },
          "metadata": {}
        }
      ]
    },
    {
      "cell_type": "markdown",
      "source": [
        "### Processamento do arquivo AM por UF e mês\n",
        "\n",
        "Analogamente ao que ocorreu com o arquivo **PA**, é processado o arquivo **AM**."
      ],
      "metadata": {
        "id": "_T0X4nZ88tjo"
      }
    },
    {
      "cell_type": "code",
      "source": [
        "    listadbc_am=subset(\n",
        "      listadbc,\n",
        "      grepl(paste0(\"^AM\",ufaamm[i]), listadbc)\n",
        "    )\n",
        "\n",
        "       for (j in 1:length(listadbc_am)) {\n",
        "        arquivo = \"arquivo.dbc\"\n",
        "        download.file(paste0(url,listadbc_am[j]), destfile = arquivo) \n",
        "        # arquivo=paste0(dirdbc,listadbc_am[j])\n",
        "        if (file.exists(arquivo)) {\n",
        "          aux=subset(\n",
        "            read.dbc(arquivo)[,c(\n",
        "              \"AP_AUTORIZ\", \"AP_PRIPAL\",\n",
        "              \"AP_CIDPRI\",  \"AP_CNSPCN\"\n",
        "            )],\n",
        "            AP_CIDPRI %in% cid10 & AP_PRIPAL %in% sigtap\n",
        "          )\n",
        "          am=rbind(am,aux)        \n",
        "        }\n",
        "      }   \n",
        "head(am)      "
      ],
      "metadata": {
        "colab": {
          "base_uri": "https://localhost:8080/",
          "height": 1000
        },
        "id": "-zOjGbYg9OHj",
        "outputId": "15e0de11-5d25-4343-cd80-8ce2da8180dc"
      },
      "execution_count": 31,
      "outputs": [
        {
          "output_type": "stream",
          "name": "stderr",
          "text": [
            "Warning message in FUN(X[[i]], ...):\n",
            "“input string 4 is invalid in this locale”\n",
            "Warning message in FUN(X[[i]], ...):\n",
            "“input string 4 is invalid in this locale”\n",
            "Warning message in FUN(X[[i]], ...):\n",
            "“input string 4 is invalid in this locale”\n",
            "Warning message in FUN(X[[i]], ...):\n",
            "“input string 4 is invalid in this locale”\n",
            "Warning message in FUN(X[[i]], ...):\n",
            "“input string 4 is invalid in this locale”\n",
            "Warning message in FUN(X[[i]], ...):\n",
            "“input string 4 is invalid in this locale”\n",
            "Warning message in FUN(X[[i]], ...):\n",
            "“input string 4 is invalid in this locale”\n",
            "Warning message in FUN(X[[i]], ...):\n",
            "“input string 4 is invalid in this locale”\n",
            "Warning message in FUN(X[[i]], ...):\n",
            "“input string 4 is invalid in this locale”\n",
            "Warning message in FUN(X[[i]], ...):\n",
            "“input string 4 is invalid in this locale”\n",
            "Warning message in FUN(X[[i]], ...):\n",
            "“input string 4 is invalid in this locale”\n",
            "Warning message in FUN(X[[i]], ...):\n",
            "“input string 4 is invalid in this locale”\n",
            "Warning message in FUN(X[[i]], ...):\n",
            "“input string 4 is invalid in this locale”\n",
            "Warning message in FUN(X[[i]], ...):\n",
            "“input string 4 is invalid in this locale”\n",
            "Warning message in FUN(X[[i]], ...):\n",
            "“input string 4 is invalid in this locale”\n",
            "Warning message in FUN(X[[i]], ...):\n",
            "“input string 4 is invalid in this locale”\n",
            "Warning message in FUN(X[[i]], ...):\n",
            "“input string 4 is invalid in this locale”\n",
            "Warning message in FUN(X[[i]], ...):\n",
            "“input string 4 is invalid in this locale”\n",
            "ERROR while rich displaying an object: Error in gsub(chr, html_specials[[chr]], text, fixed = TRUE): input string 4 is invalid in this locale\n",
            "\n",
            "Traceback:\n",
            "1. tryCatch(withCallingHandlers({\n",
            " .     if (!mime %in% names(repr::mime2repr)) \n",
            " .         stop(\"No repr_* for mimetype \", mime, \" in repr::mime2repr\")\n",
            " .     rpr <- repr::mime2repr[[mime]](obj)\n",
            " .     if (is.null(rpr)) \n",
            " .         return(NULL)\n",
            " .     prepare_content(is.raw(rpr), rpr)\n",
            " . }, error = error_handler), error = outer_handler)\n",
            "2. tryCatchList(expr, classes, parentenv, handlers)\n",
            "3. tryCatchOne(expr, names, parentenv, handlers[[1L]])\n",
            "4. doTryCatch(return(expr), name, parentenv, handler)\n",
            "5. withCallingHandlers({\n",
            " .     if (!mime %in% names(repr::mime2repr)) \n",
            " .         stop(\"No repr_* for mimetype \", mime, \" in repr::mime2repr\")\n",
            " .     rpr <- repr::mime2repr[[mime]](obj)\n",
            " .     if (is.null(rpr)) \n",
            " .         return(NULL)\n",
            " .     prepare_content(is.raw(rpr), rpr)\n",
            " . }, error = error_handler)\n",
            "6. repr::mime2repr[[mime]](obj)\n",
            "7. repr_markdown.data.frame(obj)\n",
            "8. repr_matrix_generic(obj, \"\\n%s\\n\\n%s%s\\n\", sprintf(\"|%%s\\n|%s|\\n\", \n",
            " .     underline), NULL, \" <!--/--> |\", \" %s |\", \"%s\", \"|%s\\n\", \n",
            " .     \" %s |\", \" %s |\", escape_fun = markdown_escape, rows = rows, \n",
            " .     cols = cols, ...)\n",
            "9. lapply(seq_len(nrow(x)), function(r) {\n",
            " .     row <- escape_fun(slice_row(x, r))\n",
            " .     cells <- sprintf(cell, row)\n",
            " .     if (has_rownames) {\n",
            " .         row_head <- sprintf(row_head, escape_fun(rownames(x)[[r]]))\n",
            " .         cells <- c(row_head, cells)\n",
            " .     }\n",
            " .     sprintf(row_wrap, paste(cells, collapse = \"\"))\n",
            " . })\n",
            "10. FUN(X[[i]], ...)\n",
            "11. escape_fun(slice_row(x, r))\n",
            "12. html_escape(values, do_spaces = FALSE)\n",
            "13. gsub(chr, html_specials[[chr]], text, fixed = TRUE)\n",
            "Warning message in FUN(X[[i]], ...):\n",
            "“input string 4 is invalid in this locale”\n",
            "Warning message in FUN(X[[i]], ...):\n",
            "“input string 4 is invalid in this locale”\n",
            "Warning message in FUN(X[[i]], ...):\n",
            "“input string 4 is invalid in this locale”\n",
            "Warning message in FUN(X[[i]], ...):\n",
            "“input string 4 is invalid in this locale”\n",
            "Warning message in FUN(X[[i]], ...):\n",
            "“input string 4 is invalid in this locale”\n",
            "Warning message in FUN(X[[i]], ...):\n",
            "“input string 4 is invalid in this locale”\n",
            "Warning message in FUN(X[[i]], ...):\n",
            "“input string 4 is invalid in this locale”\n",
            "Warning message in FUN(X[[i]], ...):\n",
            "“input string 4 is invalid in this locale”\n",
            "Warning message in FUN(X[[i]], ...):\n",
            "“input string 4 is invalid in this locale”\n",
            "Warning message in FUN(X[[i]], ...):\n",
            "“input string 4 is invalid in this locale”\n",
            "Warning message in FUN(X[[i]], ...):\n",
            "“input string 4 is invalid in this locale”\n",
            "Warning message in FUN(X[[i]], ...):\n",
            "“input string 4 is invalid in this locale”\n",
            "Warning message in FUN(X[[i]], ...):\n",
            "“input string 4 is invalid in this locale”\n",
            "Warning message in FUN(X[[i]], ...):\n",
            "“input string 4 is invalid in this locale”\n",
            "Warning message in FUN(X[[i]], ...):\n",
            "“input string 4 is invalid in this locale”\n",
            "Warning message in FUN(X[[i]], ...):\n",
            "“input string 4 is invalid in this locale”\n",
            "Warning message in FUN(X[[i]], ...):\n",
            "“input string 4 is invalid in this locale”\n",
            "Warning message in FUN(X[[i]], ...):\n",
            "“input string 4 is invalid in this locale”\n",
            "Warning message in FUN(X[[i]], ...):\n",
            "“input string 4 is invalid in this locale”\n",
            "Warning message in FUN(X[[i]], ...):\n",
            "“input string 4 is invalid in this locale”\n",
            "Warning message in FUN(X[[i]], ...):\n",
            "“input string 4 is invalid in this locale”\n",
            "Warning message in FUN(X[[i]], ...):\n",
            "“input string 4 is invalid in this locale”\n",
            "Warning message in FUN(X[[i]], ...):\n",
            "“input string 4 is invalid in this locale”\n",
            "Warning message in FUN(X[[i]], ...):\n",
            "“input string 4 is invalid in this locale”\n",
            "Warning message in FUN(X[[i]], ...):\n",
            "“input string 4 is invalid in this locale”\n",
            "Warning message in FUN(X[[i]], ...):\n",
            "“input string 4 is invalid in this locale”\n",
            "Warning message in FUN(X[[i]], ...):\n",
            "“input string 4 is invalid in this locale”\n",
            "Warning message in FUN(X[[i]], ...):\n",
            "“input string 4 is invalid in this locale”\n",
            "Warning message in FUN(X[[i]], ...):\n",
            "“input string 4 is invalid in this locale”\n",
            "Warning message in FUN(X[[i]], ...):\n",
            "“input string 4 is invalid in this locale”\n",
            "Warning message in FUN(X[[i]], ...):\n",
            "“input string 4 is invalid in this locale”\n",
            "Warning message in FUN(X[[i]], ...):\n",
            "“input string 4 is invalid in this locale”\n",
            "Warning message in FUN(X[[i]], ...):\n",
            "“input string 4 is invalid in this locale”\n",
            "Warning message in FUN(X[[i]], ...):\n",
            "“input string 4 is invalid in this locale”\n",
            "Warning message in FUN(X[[i]], ...):\n",
            "“input string 4 is invalid in this locale”\n",
            "Warning message in FUN(X[[i]], ...):\n",
            "“input string 4 is invalid in this locale”\n",
            "Warning message in FUN(X[[i]], ...):\n",
            "“input string 4 is invalid in this locale”\n",
            "Warning message in FUN(X[[i]], ...):\n",
            "“input string 4 is invalid in this locale”\n",
            "Warning message in FUN(X[[i]], ...):\n",
            "“input string 4 is invalid in this locale”\n",
            "Warning message in FUN(X[[i]], ...):\n",
            "“input string 4 is invalid in this locale”\n",
            "Warning message in FUN(X[[i]], ...):\n",
            "“input string 4 is invalid in this locale”\n",
            "Warning message in FUN(X[[i]], ...):\n",
            "“input string 4 is invalid in this locale”\n",
            "Warning message in FUN(X[[i]], ...):\n",
            "“input string 4 is invalid in this locale”\n",
            "Warning message in FUN(X[[i]], ...):\n",
            "“input string 4 is invalid in this locale”\n",
            "Warning message in FUN(X[[i]], ...):\n",
            "“input string 4 is invalid in this locale”\n",
            "Warning message in FUN(X[[i]], ...):\n",
            "“input string 4 is invalid in this locale”\n",
            "Warning message in FUN(X[[i]], ...):\n",
            "“input string 4 is invalid in this locale”\n",
            "Warning message in FUN(X[[i]], ...):\n",
            "“input string 4 is invalid in this locale”\n",
            "Warning message in FUN(X[[i]], ...):\n",
            "“input string 4 is invalid in this locale”\n",
            "Warning message in FUN(X[[i]], ...):\n",
            "“input string 4 is invalid in this locale”\n",
            "Warning message in FUN(X[[i]], ...):\n",
            "“input string 4 is invalid in this locale”\n",
            "Warning message in FUN(X[[i]], ...):\n",
            "“input string 4 is invalid in this locale”\n",
            "Warning message in FUN(X[[i]], ...):\n",
            "“input string 4 is invalid in this locale”\n",
            "Warning message in FUN(X[[i]], ...):\n",
            "“input string 4 is invalid in this locale”\n",
            "Warning message in FUN(X[[i]], ...):\n",
            "“input string 4 is invalid in this locale”\n",
            "Warning message in FUN(X[[i]], ...):\n",
            "“input string 4 is invalid in this locale”\n",
            "Warning message in FUN(X[[i]], ...):\n",
            "“input string 4 is invalid in this locale”\n",
            "Warning message in FUN(X[[i]], ...):\n",
            "“input string 4 is invalid in this locale”\n",
            "Warning message in FUN(X[[i]], ...):\n",
            "“input string 4 is invalid in this locale”\n",
            "Warning message in FUN(X[[i]], ...):\n",
            "“input string 4 is invalid in this locale”\n",
            "Warning message in FUN(X[[i]], ...):\n",
            "“input string 4 is invalid in this locale”\n",
            "Warning message in FUN(X[[i]], ...):\n",
            "“input string 4 is invalid in this locale”\n",
            "Warning message in FUN(X[[i]], ...):\n",
            "“input string 4 is invalid in this locale”\n",
            "Warning message in FUN(X[[i]], ...):\n",
            "“input string 4 is invalid in this locale”\n",
            "Warning message in FUN(X[[i]], ...):\n",
            "“input string 4 is invalid in this locale”\n",
            "Warning message in FUN(X[[i]], ...):\n",
            "“input string 4 is invalid in this locale”\n",
            "Warning message in FUN(X[[i]], ...):\n",
            "“input string 4 is invalid in this locale”\n",
            "Warning message in FUN(X[[i]], ...):\n",
            "“input string 4 is invalid in this locale”\n",
            "Warning message in FUN(X[[i]], ...):\n",
            "“input string 4 is invalid in this locale”\n",
            "Warning message in FUN(X[[i]], ...):\n",
            "“input string 4 is invalid in this locale”\n",
            "Warning message in FUN(X[[i]], ...):\n",
            "“input string 4 is invalid in this locale”\n",
            "Warning message in FUN(X[[i]], ...):\n",
            "“input string 4 is invalid in this locale”\n",
            "Warning message in FUN(X[[i]], ...):\n",
            "“input string 4 is invalid in this locale”\n",
            "Warning message in FUN(X[[i]], ...):\n",
            "“input string 4 is invalid in this locale”\n",
            "Warning message in FUN(X[[i]], ...):\n",
            "“input string 4 is invalid in this locale”\n",
            "Warning message in FUN(X[[i]], ...):\n",
            "“input string 4 is invalid in this locale”\n",
            "Warning message in FUN(X[[i]], ...):\n",
            "“input string 4 is invalid in this locale”\n",
            "Warning message in FUN(X[[i]], ...):\n",
            "“input string 4 is invalid in this locale”\n"
          ]
        },
        {
          "output_type": "display_data",
          "data": {
            "text/html": [
              "<table class=\"dataframe\">\n",
              "<caption>A data.frame: 6 × 4</caption>\n",
              "<thead>\n",
              "\t<tr><th></th><th scope=col>AP_AUTORIZ</th><th scope=col>AP_PRIPAL</th><th scope=col>AP_CIDPRI</th><th scope=col>AP_CNSPCN</th></tr>\n",
              "\t<tr><th></th><th scope=col>&lt;fct&gt;</th><th scope=col>&lt;fct&gt;</th><th scope=col>&lt;fct&gt;</th><th scope=col>&lt;fct&gt;</th></tr>\n",
              "</thead>\n",
              "<tbody>\n",
              "\t<tr><th scope=row>344</th><td>5217203327765</td><td>0604380011</td><td>M45</td><td><82>{}<84>{<82><80>|<82>|<84><80><81><82>~   </td></tr>\n",
              "\t<tr><th scope=row>345</th><td>5217203183050</td><td>0604380011</td><td>M45</td><td><82>{{<81>{~<82>||<82><81>~      </td></tr>\n",
              "\t<tr><th scope=row>346</th><td>5217203322628</td><td>0604380011</td><td>M45</td><td><83><84><83>{{{{|<82><83><83><83><82></td></tr>\n",
              "\t<tr><th scope=row>351</th><td>5218200226162</td><td>0604380011</td><td>M45</td><td><83><84><83>{{}{{{}<80>{<81>~<84>            </td></tr>\n",
              "\t<tr><th scope=row>352</th><td>5218200062010</td><td>0604380011</td><td>M45</td><td><83><84><83>{{{<84>~{<83>~~      </td></tr>\n",
              "\t<tr><th scope=row>353</th><td>5217202866777</td><td>0604380011</td><td>M45</td><td><82>{<81><83>{<81>}<82>}<83><81>~<83>}<80>   </td></tr>\n",
              "</tbody>\n",
              "</table>\n"
            ],
            "text/latex": "A data.frame: 6 × 4\n\\begin{tabular}{r|llll}\n  & AP\\_AUTORIZ & AP\\_PRIPAL & AP\\_CIDPRI & AP\\_CNSPCN\\\\\n  & <fct> & <fct> & <fct> & <fct>\\\\\n\\hline\n\t344 & 5217203327765 & 0604380011 & M45 & <82>{}<84>{<82><80>|<82>|<84><80><81><82>~   \\\\\n\t345 & 5217203183050 & 0604380011 & M45 & <82>{{<81>{~<82>||<82><81>~      \\\\\n\t346 & 5217203322628 & 0604380011 & M45 & <83><84><83>{{{{|<82><83><83><83><82>\\\\\n\t351 & 5218200226162 & 0604380011 & M45 & <83><84><83>{{}{{{}<80>{<81>~<84>            \\\\\n\t352 & 5218200062010 & 0604380011 & M45 & <83><84><83>{{{<84>~{<83>~~      \\\\\n\t353 & 5217202866777 & 0604380011 & M45 & <82>{<81><83>{<81>}<82>}<83><81>~<83>}<80>   \\\\\n\\end{tabular}\n",
            "text/plain": [
              "    AP_AUTORIZ    AP_PRIPAL  AP_CIDPRI\n",
              "344 5217203327765 0604380011 M45      \n",
              "345 5217203183050 0604380011 M45      \n",
              "346 5217203322628 0604380011 M45      \n",
              "351 5218200226162 0604380011 M45      \n",
              "352 5218200062010 0604380011 M45      \n",
              "353 5217202866777 0604380011 M45      \n",
              "    AP_CNSPCN                                    \n",
              "344 \\x82{}\\x84{\\x82\\x80|\\x82|\\x84\\x80\\x81\\x82~   \n",
              "345 \\x82{{\\x81{~\\177\\x82\\177\\177||\\x82\\x81~      \n",
              "346 \\x83\\x84\\x83{{\\177{{|\\x82\\x83\\x83\\x83\\177\\x82\n",
              "351 \\x83\\x84\\x83{{}{{{}\\x80{\\x81~\\x84            \n",
              "352 \\x83\\x84\\x83{{\\177{\\x84\\177~{\\x83\\177~~      \n",
              "353 \\x82{\\x81\\x83{\\x81}\\x82}\\x83\\x81~\\x83}\\x80   "
            ]
          },
          "metadata": {}
        }
      ]
    },
    {
      "cell_type": "markdown",
      "source": [
        "## Substituição dos caracteres especias do CNS criptografado\n",
        "\n",
        "A fim de agilizar o processamento, os caracteres especiais do **Cartão Nacional de Saúde** (CNS) criptografado são substituídos por números."
      ],
      "metadata": {
        "id": "YUt5jxDX9ZLT"
      }
    },
    {
      "cell_type": "code",
      "source": [
        "am2=unique(am[,c(\"AP_AUTORIZ\",\"AP_CNSPCN\")])\n",
        "      \n",
        "      am2$AP_CNSPCN=\n",
        "        gsubfn(\n",
        "          \".\", \n",
        "          list(\n",
        "            \"{\" = \"0\", \"}\" = \"9\", \"~\" = \"5\", \n",
        "            \"\\177\" = \"7\", \"Ç\" = \"6\", \"ä\" = \"8\", \n",
        "            \"ü\" = \"4\", \"é\" = \"1\", \"|\" = \"2\", \"â\" = \"3\"\n",
        "          ), \n",
        "          iconv(am2$AP_CNSPCN, \"CP861\", \"UTF-8\")\n",
        "        )\n",
        "head(am2)        "
      ],
      "metadata": {
        "colab": {
          "base_uri": "https://localhost:8080/",
          "height": 286
        },
        "id": "Ji4Mu5M39m_Y",
        "outputId": "d29af3f1-7928-4ba0-cfec-9d62dda987d2"
      },
      "execution_count": 32,
      "outputs": [
        {
          "output_type": "display_data",
          "data": {
            "text/html": [
              "<table class=\"dataframe\">\n",
              "<caption>A data.frame: 6 × 2</caption>\n",
              "<thead>\n",
              "\t<tr><th></th><th scope=col>AP_AUTORIZ</th><th scope=col>AP_CNSPCN</th></tr>\n",
              "\t<tr><th></th><th scope=col>&lt;fct&gt;</th><th scope=col>&lt;chr&gt;</th></tr>\n",
              "</thead>\n",
              "<tbody>\n",
              "\t<tr><th scope=row>344</th><td>5217203327765</td><td>109801621286415</td></tr>\n",
              "\t<tr><th scope=row>345</th><td>5217203183050</td><td>100405717722145</td></tr>\n",
              "\t<tr><th scope=row>346</th><td>5217203322628</td><td>383007002133371</td></tr>\n",
              "\t<tr><th scope=row>351</th><td>5218200226162</td><td>383009000960458</td></tr>\n",
              "\t<tr><th scope=row>352</th><td>5218200062010</td><td>383007087503755</td></tr>\n",
              "\t<tr><th scope=row>353</th><td>5217202866777</td><td>104304919345396</td></tr>\n",
              "</tbody>\n",
              "</table>\n"
            ],
            "text/markdown": "\nA data.frame: 6 × 2\n\n| <!--/--> | AP_AUTORIZ &lt;fct&gt; | AP_CNSPCN &lt;chr&gt; |\n|---|---|---|\n| 344 | 5217203327765 | 109801621286415 |\n| 345 | 5217203183050 | 100405717722145 |\n| 346 | 5217203322628 | 383007002133371 |\n| 351 | 5218200226162 | 383009000960458 |\n| 352 | 5218200062010 | 383007087503755 |\n| 353 | 5217202866777 | 104304919345396 |\n\n",
            "text/latex": "A data.frame: 6 × 2\n\\begin{tabular}{r|ll}\n  & AP\\_AUTORIZ & AP\\_CNSPCN\\\\\n  & <fct> & <chr>\\\\\n\\hline\n\t344 & 5217203327765 & 109801621286415\\\\\n\t345 & 5217203183050 & 100405717722145\\\\\n\t346 & 5217203322628 & 383007002133371\\\\\n\t351 & 5218200226162 & 383009000960458\\\\\n\t352 & 5218200062010 & 383007087503755\\\\\n\t353 & 5217202866777 & 104304919345396\\\\\n\\end{tabular}\n",
            "text/plain": [
              "    AP_AUTORIZ    AP_CNSPCN      \n",
              "344 5217203327765 109801621286415\n",
              "345 5217203183050 100405717722145\n",
              "346 5217203322628 383007002133371\n",
              "351 5218200226162 383009000960458\n",
              "352 5218200062010 383007087503755\n",
              "353 5217202866777 104304919345396"
            ]
          },
          "metadata": {}
        }
      ]
    },
    {
      "cell_type": "markdown",
      "source": [
        "### Junção do PA e AM\n",
        "\n",
        "A junção ocorre segundo código da autorização.\n",
        "Note a incorporação do atributo `AP_CNSPCN`.\n",
        "Se mais atributos forem necessários basta incorporar ao vetor do arquivo `AM`."
      ],
      "metadata": {
        "id": "2YHchETt977S"
      }
    },
    {
      "cell_type": "code",
      "source": [
        "      paam = merge(\n",
        "        pa, am2, \n",
        "        by.x=c(\"PA_AUTORIZ\"), \n",
        "        by.y=c(\"AP_AUTORIZ\"), \n",
        "        all.x = TRUE\n",
        "      )\n",
        "head(paam)      "
      ],
      "metadata": {
        "colab": {
          "base_uri": "https://localhost:8080/",
          "height": 286
        },
        "id": "xsnMEsP9-Hoy",
        "outputId": "43af5673-bdd5-4eec-a847-68a984149275"
      },
      "execution_count": 33,
      "outputs": [
        {
          "output_type": "display_data",
          "data": {
            "text/html": [
              "<table class=\"dataframe\">\n",
              "<caption>A data.frame: 6 × 12</caption>\n",
              "<thead>\n",
              "\t<tr><th></th><th scope=col>PA_AUTORIZ</th><th scope=col>PA_CMP</th><th scope=col>PA_MVM</th><th scope=col>PA_CIDPRI</th><th scope=col>PA_CIDSEC</th><th scope=col>PA_PROC_ID</th><th scope=col>PA_QTDAPR</th><th scope=col>PA_SEXO</th><th scope=col>PA_IDADE</th><th scope=col>PA_MUNPCN</th><th scope=col>uf_processamento</th><th scope=col>AP_CNSPCN</th></tr>\n",
              "\t<tr><th></th><th scope=col>&lt;fct&gt;</th><th scope=col>&lt;fct&gt;</th><th scope=col>&lt;fct&gt;</th><th scope=col>&lt;fct&gt;</th><th scope=col>&lt;fct&gt;</th><th scope=col>&lt;fct&gt;</th><th scope=col>&lt;int&gt;</th><th scope=col>&lt;fct&gt;</th><th scope=col>&lt;fct&gt;</th><th scope=col>&lt;fct&gt;</th><th scope=col>&lt;chr&gt;</th><th scope=col>&lt;chr&gt;</th></tr>\n",
              "</thead>\n",
              "<tbody>\n",
              "\t<tr><th scope=row>1</th><td>5217202706364</td><td>201801</td><td>201801</td><td>M45</td><td>0000</td><td>0604380011</td><td>2</td><td>F</td><td>055</td><td>520110</td><td>GO</td><td>302757573627630</td></tr>\n",
              "\t<tr><th scope=row>2</th><td>5217202716407</td><td>201801</td><td>201801</td><td>M45</td><td>0000</td><td>0604380054</td><td>3</td><td>M</td><td>047</td><td>520485</td><td>GO</td><td>383002092492674</td></tr>\n",
              "\t<tr><th scope=row>3</th><td>5217202751365</td><td>201801</td><td>201801</td><td>M45</td><td>0000</td><td>0604380054</td><td>3</td><td>M</td><td>034</td><td>520110</td><td>GO</td><td>383000607699803</td></tr>\n",
              "\t<tr><th scope=row>4</th><td>5217202756403</td><td>201801</td><td>201801</td><td>M45</td><td>0000</td><td>0604380011</td><td>2</td><td>M</td><td>052</td><td>520110</td><td>GO</td><td>104001352026376</td></tr>\n",
              "\t<tr><th scope=row>5</th><td>5217202763003</td><td>201801</td><td>201801</td><td>M45</td><td>0000</td><td>0604380054</td><td>0</td><td>F</td><td>024</td><td>520110</td><td>GO</td><td>383009115157154</td></tr>\n",
              "\t<tr><th scope=row>6</th><td>5217202763400</td><td>201801</td><td>201801</td><td>M45</td><td>0000</td><td>0604380011</td><td>2</td><td>M</td><td>074</td><td>520030</td><td>GO</td><td>302757571373314</td></tr>\n",
              "</tbody>\n",
              "</table>\n"
            ],
            "text/markdown": "\nA data.frame: 6 × 12\n\n| <!--/--> | PA_AUTORIZ &lt;fct&gt; | PA_CMP &lt;fct&gt; | PA_MVM &lt;fct&gt; | PA_CIDPRI &lt;fct&gt; | PA_CIDSEC &lt;fct&gt; | PA_PROC_ID &lt;fct&gt; | PA_QTDAPR &lt;int&gt; | PA_SEXO &lt;fct&gt; | PA_IDADE &lt;fct&gt; | PA_MUNPCN &lt;fct&gt; | uf_processamento &lt;chr&gt; | AP_CNSPCN &lt;chr&gt; |\n|---|---|---|---|---|---|---|---|---|---|---|---|---|\n| 1 | 5217202706364 | 201801 | 201801 | M45 | 0000 | 0604380011 | 2 | F | 055 | 520110 | GO | 302757573627630 |\n| 2 | 5217202716407 | 201801 | 201801 | M45 | 0000 | 0604380054 | 3 | M | 047 | 520485 | GO | 383002092492674 |\n| 3 | 5217202751365 | 201801 | 201801 | M45 | 0000 | 0604380054 | 3 | M | 034 | 520110 | GO | 383000607699803 |\n| 4 | 5217202756403 | 201801 | 201801 | M45 | 0000 | 0604380011 | 2 | M | 052 | 520110 | GO | 104001352026376 |\n| 5 | 5217202763003 | 201801 | 201801 | M45 | 0000 | 0604380054 | 0 | F | 024 | 520110 | GO | 383009115157154 |\n| 6 | 5217202763400 | 201801 | 201801 | M45 | 0000 | 0604380011 | 2 | M | 074 | 520030 | GO | 302757571373314 |\n\n",
            "text/latex": "A data.frame: 6 × 12\n\\begin{tabular}{r|llllllllllll}\n  & PA\\_AUTORIZ & PA\\_CMP & PA\\_MVM & PA\\_CIDPRI & PA\\_CIDSEC & PA\\_PROC\\_ID & PA\\_QTDAPR & PA\\_SEXO & PA\\_IDADE & PA\\_MUNPCN & uf\\_processamento & AP\\_CNSPCN\\\\\n  & <fct> & <fct> & <fct> & <fct> & <fct> & <fct> & <int> & <fct> & <fct> & <fct> & <chr> & <chr>\\\\\n\\hline\n\t1 & 5217202706364 & 201801 & 201801 & M45 & 0000 & 0604380011 & 2 & F & 055 & 520110 & GO & 302757573627630\\\\\n\t2 & 5217202716407 & 201801 & 201801 & M45 & 0000 & 0604380054 & 3 & M & 047 & 520485 & GO & 383002092492674\\\\\n\t3 & 5217202751365 & 201801 & 201801 & M45 & 0000 & 0604380054 & 3 & M & 034 & 520110 & GO & 383000607699803\\\\\n\t4 & 5217202756403 & 201801 & 201801 & M45 & 0000 & 0604380011 & 2 & M & 052 & 520110 & GO & 104001352026376\\\\\n\t5 & 5217202763003 & 201801 & 201801 & M45 & 0000 & 0604380054 & 0 & F & 024 & 520110 & GO & 383009115157154\\\\\n\t6 & 5217202763400 & 201801 & 201801 & M45 & 0000 & 0604380011 & 2 & M & 074 & 520030 & GO & 302757571373314\\\\\n\\end{tabular}\n",
            "text/plain": [
              "  PA_AUTORIZ    PA_CMP PA_MVM PA_CIDPRI PA_CIDSEC PA_PROC_ID PA_QTDAPR PA_SEXO\n",
              "1 5217202706364 201801 201801 M45       0000      0604380011 2         F      \n",
              "2 5217202716407 201801 201801 M45       0000      0604380054 3         M      \n",
              "3 5217202751365 201801 201801 M45       0000      0604380054 3         M      \n",
              "4 5217202756403 201801 201801 M45       0000      0604380011 2         M      \n",
              "5 5217202763003 201801 201801 M45       0000      0604380054 0         F      \n",
              "6 5217202763400 201801 201801 M45       0000      0604380011 2         M      \n",
              "  PA_IDADE PA_MUNPCN uf_processamento AP_CNSPCN      \n",
              "1 055      520110    GO               302757573627630\n",
              "2 047      520485    GO               383002092492674\n",
              "3 034      520110    GO               383000607699803\n",
              "4 052      520110    GO               104001352026376\n",
              "5 024      520110    GO               383009115157154\n",
              "6 074      520030    GO               302757571373314"
            ]
          },
          "metadata": {}
        }
      ]
    }
  ]
}