{
  "nbformat": 4,
  "nbformat_minor": 0,
  "metadata": {
    "colab": {
      "provenance": []
    },
    "kernelspec": {
      "name": "ir",
      "display_name": "R"
    },
    "language_info": {
      "name": "R"
    }
  },
  "cells": [
    {
      "cell_type": "markdown",
      "source": [
        "# Extração, Tarnformação e Carga (ETL) de dados do SUS via Protocolo de Transferência de Arquivos (FTP)\n",
        "\n",
        "Veja materiais complementares em https://github.com/labxss/curso_r.\n",
        "\n",
        "## Bibliotecas do R\n",
        "As operações a seguir baixam e carregam os pacotes necessários o para processamento dos dados."
      ],
      "metadata": {
        "id": "VRgAOxj4l9DB"
      }
    },
    {
      "cell_type": "code",
      "execution_count": 36,
      "metadata": {
        "id": "pehR-WvOkgAo"
      },
      "outputs": [],
      "source": [
        "if(!require(RCurl)) {install.packages(\"RCurl\"); require(RCurl)}\n",
        "# funcao getURL\n",
        "\n",
        "if(!require(downloader)) {install.packages(\"downloader\"); require(downloader)}\n",
        "# funcao download\n",
        "\n",
        "if(!require(stringr)) {install.packages(\"stringr\"); require(stringr)} \n",
        "# lpad str_pad\n",
        "\n",
        "if(!require(gsubfn)) {install.packages(\"gsubfn\"); require(gsubfn)}\n",
        "\n",
        "if(!require(readr)) {install.packages(\"readr\"); require(readr)}\n",
        "# para ler csv diretamente do github\n"
      ]
    },
    {
      "cell_type": "markdown",
      "source": [
        "## pacote read.dbc\n",
        "\n",
        "> Saiba mais sobre o read.dbc em https://pt.linkedin.com/pulse/datasus-conhe%C3%A7a-nova-ferramenta-para-ler-arquivos-dbc-petruzalek\n"
      ],
      "metadata": {
        "id": "Olbm2UL9tMnt"
      }
    },
    {
      "cell_type": "code",
      "source": [
        " if(!require(read.dbc)) {devtools::install_github(\"danicat/read.dbc\"); require(read.dbc)}\n",
        " # le arquivo DBC da estrategia tabnet/tabwin de disseminacao"
      ],
      "metadata": {
        "id": "Q-7rf0gHtO2U"
      },
      "execution_count": 37,
      "outputs": []
    },
    {
      "cell_type": "markdown",
      "source": [
        "## Parâmetros\n",
        "\n",
        "A título de exemplo vamos trabalhar com o Protocolo Clínico e Diretriz Terapêutica **Espondilite Ancilosante**, disponível em https://www.gov.br/conitec/pt-br/midias/protocolos/20210428_pcdt-espondilite-ancilosante-1.pdf ."
      ],
      "metadata": {
        "id": "GGR1ro5hmk-C"
      }
    },
    {
      "cell_type": "code",
      "source": [
        "cid10=c(\"M45\", \"M468\") # Espondilite Ancilosante\n",
        "sigtap=c(\n",
        "  \"0601010019\", # ADALIMUMABE (A) 40 MG INJETAVEL- SERINGA PREENCHIDA (POR TRATAMENTO MENSAL)\tRevogado desde 06/2010\n",
        "  \"0604380011\", # ADALIMUMABE 40 MG INJETAVEL (POR SERINGA PREENCHIDA)\t\n",
        "  \"0604380062\", # ADALIMUMABE 40 MG INJETÁVEL (POR SERINGA PREENCHIDA)\t\n",
        "  \"0604380097\", # ADALIMUMABE 40 MG INJETÁVEL (FRASCO AMPOLA)\t\n",
        "  \"0604380127\", # ADALIMUMABE 40 MG INJETÁVEL ( POR SERINGA PREENCHIDA)( BIOSSIMILAR A)\t\n",
        "  \"0604380135\", # ADALIMUMABE 40 MG INJETÁVEL (POR SERINGA PREENCHIDA) (BIOSSIMILAR B)\n",
        "  \"0601010027\", # ETANERCEPTE (A)25 MG INJETAVEL -FRASCO-AMPOLA (POR TRATAMENTO MENSAL)\tRevogado desde 06/2010\n",
        "  \"0601010051\", # ETANERCEPTE 50MG INJETAVEL- FRASCO AMPOLA (POR TRATAMENTO MENSAL)\tRevogado desde 06/2010\n",
        "  \"0604380020\", # ETANERCEPTE 25 MG INJETÁVEL (POR FRASCO-AMPOLA OU SERINGA PREENCHIDA)\t\n",
        "  \"0604380038\", # ETANERCEPTE 50MG INJETAVEL (POR FRASCO-AMPOLA OU SERINGA PREENCHIDA)(ORIGINADOR)\t\n",
        "  \"0604380100\", # ETANERCEPTE 50 MG INJETÁVEL (POR FRASCO-AMPOLA OU SERINGA PREENCHIDA)(BIOSSIMILAR A)\n",
        "  \"0601010035\", # INFLIXIMABE (A)10 MG/ML 10 ML INJETAVEL (FRASCO-AMPOLA- POR TRATAMENTO MENSAL)\tRevogado desde 06/2010\n",
        "  \"0601010043\", # INFLIXIMABE 10 MG/ML INJETAVEL (POR FRASCO-AMPOLA 10 ML)\tRevogado desde 06/2010\n",
        "  \"0604380046\", # INFLIXIMABE 10 MG/ML INJETAVEL (POR FRASCO-AMPOLA COM 10 ML)\t\n",
        "  \"0604380054\", # INFLIXIMABE 10 MG/ML INJETAVEL (POR FRASCO-AMPOLA COM 10 ML)\t\n",
        "  \"0604380119\", # INFLIXIMABE 10 MG /ML INJETÁVEL (POR FRASCO-AMPOLA COM 10 ML) (BIOSSIMILAR A)\n",
        "  \"0604380089\", # GOLIMUMABE 50 MG INJETÁVEL (POR SERINGA PREENCHIDA\n",
        "  \"0604380070\", # CERTOLIZUMABE PEGOL 200 MG/ML INJETÁVEL (POR SERINGA PREENCHIDA)\n",
        "  \"0604690029\" # SECUQUINUMABE 150 MG/ML SOLUÇÃO INJETÁVEL (POR SERINGA PREENCHIDA)\n",
        ") # biologicos\n",
        "\n",
        "\n",
        "ufs=c('AC', 'AM', 'AP', 'PA', 'RO', 'RR', 'TO', \n",
        "      'AL', 'BA', 'CE', 'MA', 'PB', 'PE', 'PI', 'RN', 'SE', \n",
        "      'ES', 'MG', 'RJ', 'SP', 'PR', 'RS', 'SC', 'DF', 'GO', 'MS', 'MT')\n",
        "\n",
        "ano=18:22\n",
        "mes=str_pad(1:12, 2, pad=\"0\")\n",
        "\n",
        "url=\"ftp://ftp.datasus.gov.br/dissemin/publicos/SIASUS/200801_/Dados/\""
      ],
      "metadata": {
        "id": "rsaXLIUcm4Ck"
      },
      "execution_count": 38,
      "outputs": []
    },
    {
      "cell_type": "markdown",
      "source": [
        "## Estrutura dos dados\n",
        "\n",
        "Criar tabelas vazias no formato **data.frame** contendo as variáveis desejadas. \n",
        "\n",
        "O dicionário de dados do Sistema de Informações Ambulatoriais está disponível em  ftp://ftp.datasus.gov.br/dissemin/publicos/SIASUS/200801_/Doc/.\n",
        "\n",
        "### Como baixar o dicionário de dados\n",
        "\n",
        "\n",
        "> **Alternativa 1** \n",
        "> \n",
        "> Os enderelos do tipo ftp:// usualmente não funcionam no navegador de internet. Cole o endereço no navegador de arquivos.\n",
        "\n",
        "> **Alternativa 2** \n",
        ">\n",
        "> Baixe usando o R em sua máquina local com a função `download.file`.\n",
        "\n",
        "```\n",
        "# R\n",
        "download.file(\n",
        "  \"ftp://ftp.datasus.gov.br/dissemin/publicos/SIASUS/200801_/Doc/Informe_Tecnico_SIASUS_2019_07.pdf\", \n",
        "  destfile = \"Informe_Tecnico_SIASUS_2019_07.pdf\"\n",
        ") \n",
        "```\n",
        "\n"
      ],
      "metadata": {
        "id": "y5g02XhVnEUs"
      }
    },
    {
      "cell_type": "code",
      "source": [
        "   paam_estrutura=data.frame(\n",
        "    PA_AUTORIZ = numeric(), \n",
        "    PA_CMP = numeric(),\n",
        "    PA_MVM = numeric(),\n",
        "    PA_CIDPRI = character(),\n",
        "    PA_CIDSEC = character(),\n",
        "    PA_PROC_ID = character(),\n",
        "    PA_QTDAPR = numeric(),\n",
        "    PA_SEXO = character(),\n",
        "    PA_IDADE = numeric(),\n",
        "    PA_MUNPCN = numeric(),\n",
        "    uf_processamento  = character(),\n",
        "    AP_CNSPCN = character()\n",
        "  )\n",
        "  \n",
        "  pa_estrutura=data.frame(\n",
        "    PA_AUTORIZ = numeric(), \n",
        "    PA_CMP = numeric(),\n",
        "    PA_MVM = numeric(),    \n",
        "    PA_CIDPRI = character(),\n",
        "    PA_CIDSEC = character(),\n",
        "    PA_PROC_ID = character(),\n",
        "    PA_QTDAPR = numeric(),\n",
        "    PA_SEXO = character(),\n",
        "    PA_IDADE = numeric(),\n",
        "    PA_MUNPCN = numeric(),\n",
        "    uf_processamento  = character()\n",
        "  )\n",
        "\n",
        "  am_estrutura=data.frame(\n",
        "    AP_AUTORIZ = numeric(), \n",
        "    AP_PRIPAL = character(),\n",
        "    AP_CIDPRI = character(),\n",
        "    AP_CNSPCN = character()\n",
        "  )  "
      ],
      "metadata": {
        "id": "Eq-Ofn4moBHR"
      },
      "execution_count": 39,
      "outputs": []
    },
    {
      "cell_type": "markdown",
      "source": [
        "### Exemplo de dado\n",
        "\n",
        "O Sistema de Informação Ambulatorial (SIA) apreenta vários subsistemas, a saber:\n",
        "\n",
        "\n",
        "*    **PA Produção Ambulatorial**\n",
        "*    AB Laudo de Acompanhamento à Cirurgia Bariátrica\n",
        "*    ABO Acompanhamento Pós Cirurgia Bariátrica\n",
        "*    ACF Laudo de Confecção de Fístula\n",
        "*    AD Laudos Diversos\n",
        "*    **AM Laudo de Medicamentos**\n",
        "*    AMP Laudo de Acompanhamento Multiprofissional\n",
        "*    AN Laudo de Nefrologia\n",
        "*    AQ Laudo de Quimioterapia\n",
        "*    AR Laudo de Radioterapia\n",
        "*    ATD Laudo de Tratamento Dialítico\n",
        "*    BI Boletim Individual\n",
        "\n",
        "Os arquivos estão no formado DBF, cujo nome é padronizado:\n",
        "\n",
        "prefixo | UF | ano com dois dígitos | mês com dois dídigos.\n",
        "\n",
        "Exemplos: PARR2301.dbc, AMPR2201.dbc, AQBA1801.dbc.\n",
        "\n",
        "Vamos usar o `download.file` e o `read.dbc` para ler um arquivo direto do diretório FTP.\n",
        "\n"
      ],
      "metadata": {
        "id": "dqIPtH7hpQLm"
      }
    },
    {
      "cell_type": "code",
      "source": [
        " download.file(\n",
        "  paste0(url,'PAAC2212.dbc'), \n",
        "  destfile = \"arquivo.dbc\"\n",
        ")\n",
        "paac2212=read.dbc(\"arquivo.dbc\")\n",
        "head(paac2212)"
      ],
      "metadata": {
        "colab": {
          "base_uri": "https://localhost:8080/",
          "height": 286
        },
        "id": "Tmjo2yocql1h",
        "outputId": "9d2d9a8a-0220-4a0a-f9d1-797c4eb5cd76"
      },
      "execution_count": 40,
      "outputs": [
        {
          "output_type": "display_data",
          "data": {
            "text/html": [
              "<table class=\"dataframe\">\n",
              "<caption>A data.frame: 6 × 60</caption>\n",
              "<thead>\n",
              "\t<tr><th></th><th scope=col>PA_CODUNI</th><th scope=col>PA_GESTAO</th><th scope=col>PA_CONDIC</th><th scope=col>PA_UFMUN</th><th scope=col>PA_REGCT</th><th scope=col>PA_INCOUT</th><th scope=col>PA_INCURG</th><th scope=col>PA_TPUPS</th><th scope=col>PA_TIPPRE</th><th scope=col>PA_MN_IND</th><th scope=col>⋯</th><th scope=col>PA_CODOCO</th><th scope=col>PA_FLQT</th><th scope=col>PA_FLER</th><th scope=col>PA_ETNIA</th><th scope=col>PA_VL_CF</th><th scope=col>PA_VL_CL</th><th scope=col>PA_VL_INC</th><th scope=col>PA_SRV_C</th><th scope=col>PA_INE</th><th scope=col>PA_NAT_JUR</th></tr>\n",
              "\t<tr><th></th><th scope=col>&lt;fct&gt;</th><th scope=col>&lt;fct&gt;</th><th scope=col>&lt;fct&gt;</th><th scope=col>&lt;fct&gt;</th><th scope=col>&lt;fct&gt;</th><th scope=col>&lt;fct&gt;</th><th scope=col>&lt;fct&gt;</th><th scope=col>&lt;fct&gt;</th><th scope=col>&lt;fct&gt;</th><th scope=col>&lt;fct&gt;</th><th scope=col>⋯</th><th scope=col>&lt;fct&gt;</th><th scope=col>&lt;fct&gt;</th><th scope=col>&lt;fct&gt;</th><th scope=col>&lt;fct&gt;</th><th scope=col>&lt;dbl&gt;</th><th scope=col>&lt;dbl&gt;</th><th scope=col>&lt;dbl&gt;</th><th scope=col>&lt;fct&gt;</th><th scope=col>&lt;fct&gt;</th><th scope=col>&lt;fct&gt;</th></tr>\n",
              "</thead>\n",
              "<tbody>\n",
              "\t<tr><th scope=row>1</th><td>2001586</td><td>120000</td><td>EP</td><td>120040</td><td>0000</td><td>0000</td><td>0000</td><td>05</td><td>00</td><td>I</td><td>⋯</td><td>1</td><td>K</td><td>0</td><td>NA</td><td>0</td><td>0</td><td>0</td><td>NA    </td><td>NA</td><td>1147</td></tr>\n",
              "\t<tr><th scope=row>2</th><td>5336171</td><td>120000</td><td>EP</td><td>120020</td><td>0000</td><td>0000</td><td>0000</td><td>05</td><td>00</td><td>M</td><td>⋯</td><td>1</td><td>K</td><td>0</td><td>NA</td><td>0</td><td>0</td><td>0</td><td>145003</td><td>NA</td><td>1023</td></tr>\n",
              "\t<tr><th scope=row>3</th><td>0128619</td><td>120000</td><td>EP</td><td>120040</td><td>0000</td><td>0000</td><td>0000</td><td>36</td><td>00</td><td>M</td><td>⋯</td><td>1</td><td>K</td><td>0</td><td>NA</td><td>0</td><td>0</td><td>0</td><td>135003</td><td>NA</td><td>1023</td></tr>\n",
              "\t<tr><th scope=row>4</th><td>2000393</td><td>120000</td><td>EP</td><td>120070</td><td>0000</td><td>0000</td><td>0000</td><td>05</td><td>00</td><td>M</td><td>⋯</td><td>1</td><td>K</td><td>0</td><td>NA</td><td>0</td><td>0</td><td>0</td><td>NA    </td><td>NA</td><td>1023</td></tr>\n",
              "\t<tr><th scope=row>5</th><td>2000970</td><td>120000</td><td>EP</td><td>120034</td><td>0000</td><td>0000</td><td>0000</td><td>15</td><td>00</td><td>M</td><td>⋯</td><td>1</td><td>K</td><td>0</td><td>NA</td><td>0</td><td>0</td><td>0</td><td>126005</td><td>NA</td><td>1023</td></tr>\n",
              "\t<tr><th scope=row>6</th><td>2001063</td><td>120000</td><td>EP</td><td>120040</td><td>0000</td><td>0000</td><td>0000</td><td>36</td><td>00</td><td>M</td><td>⋯</td><td>1</td><td>K</td><td>0</td><td>NA</td><td>0</td><td>0</td><td>0</td><td>121012</td><td>NA</td><td>1023</td></tr>\n",
              "</tbody>\n",
              "</table>\n"
            ],
            "text/markdown": "\nA data.frame: 6 × 60\n\n| <!--/--> | PA_CODUNI &lt;fct&gt; | PA_GESTAO &lt;fct&gt; | PA_CONDIC &lt;fct&gt; | PA_UFMUN &lt;fct&gt; | PA_REGCT &lt;fct&gt; | PA_INCOUT &lt;fct&gt; | PA_INCURG &lt;fct&gt; | PA_TPUPS &lt;fct&gt; | PA_TIPPRE &lt;fct&gt; | PA_MN_IND &lt;fct&gt; | ⋯ ⋯ | PA_CODOCO &lt;fct&gt; | PA_FLQT &lt;fct&gt; | PA_FLER &lt;fct&gt; | PA_ETNIA &lt;fct&gt; | PA_VL_CF &lt;dbl&gt; | PA_VL_CL &lt;dbl&gt; | PA_VL_INC &lt;dbl&gt; | PA_SRV_C &lt;fct&gt; | PA_INE &lt;fct&gt; | PA_NAT_JUR &lt;fct&gt; |\n|---|---|---|---|---|---|---|---|---|---|---|---|---|---|---|---|---|---|---|---|---|---|\n| 1 | 2001586 | 120000 | EP | 120040 | 0000 | 0000 | 0000 | 05 | 00 | I | ⋯ | 1 | K | 0 | NA | 0 | 0 | 0 | NA     | NA | 1147 |\n| 2 | 5336171 | 120000 | EP | 120020 | 0000 | 0000 | 0000 | 05 | 00 | M | ⋯ | 1 | K | 0 | NA | 0 | 0 | 0 | 145003 | NA | 1023 |\n| 3 | 0128619 | 120000 | EP | 120040 | 0000 | 0000 | 0000 | 36 | 00 | M | ⋯ | 1 | K | 0 | NA | 0 | 0 | 0 | 135003 | NA | 1023 |\n| 4 | 2000393 | 120000 | EP | 120070 | 0000 | 0000 | 0000 | 05 | 00 | M | ⋯ | 1 | K | 0 | NA | 0 | 0 | 0 | NA     | NA | 1023 |\n| 5 | 2000970 | 120000 | EP | 120034 | 0000 | 0000 | 0000 | 15 | 00 | M | ⋯ | 1 | K | 0 | NA | 0 | 0 | 0 | 126005 | NA | 1023 |\n| 6 | 2001063 | 120000 | EP | 120040 | 0000 | 0000 | 0000 | 36 | 00 | M | ⋯ | 1 | K | 0 | NA | 0 | 0 | 0 | 121012 | NA | 1023 |\n\n",
            "text/latex": "A data.frame: 6 × 60\n\\begin{tabular}{r|lllllllllllllllllllll}\n  & PA\\_CODUNI & PA\\_GESTAO & PA\\_CONDIC & PA\\_UFMUN & PA\\_REGCT & PA\\_INCOUT & PA\\_INCURG & PA\\_TPUPS & PA\\_TIPPRE & PA\\_MN\\_IND & ⋯ & PA\\_CODOCO & PA\\_FLQT & PA\\_FLER & PA\\_ETNIA & PA\\_VL\\_CF & PA\\_VL\\_CL & PA\\_VL\\_INC & PA\\_SRV\\_C & PA\\_INE & PA\\_NAT\\_JUR\\\\\n  & <fct> & <fct> & <fct> & <fct> & <fct> & <fct> & <fct> & <fct> & <fct> & <fct> & ⋯ & <fct> & <fct> & <fct> & <fct> & <dbl> & <dbl> & <dbl> & <fct> & <fct> & <fct>\\\\\n\\hline\n\t1 & 2001586 & 120000 & EP & 120040 & 0000 & 0000 & 0000 & 05 & 00 & I & ⋯ & 1 & K & 0 & NA & 0 & 0 & 0 & NA     & NA & 1147\\\\\n\t2 & 5336171 & 120000 & EP & 120020 & 0000 & 0000 & 0000 & 05 & 00 & M & ⋯ & 1 & K & 0 & NA & 0 & 0 & 0 & 145003 & NA & 1023\\\\\n\t3 & 0128619 & 120000 & EP & 120040 & 0000 & 0000 & 0000 & 36 & 00 & M & ⋯ & 1 & K & 0 & NA & 0 & 0 & 0 & 135003 & NA & 1023\\\\\n\t4 & 2000393 & 120000 & EP & 120070 & 0000 & 0000 & 0000 & 05 & 00 & M & ⋯ & 1 & K & 0 & NA & 0 & 0 & 0 & NA     & NA & 1023\\\\\n\t5 & 2000970 & 120000 & EP & 120034 & 0000 & 0000 & 0000 & 15 & 00 & M & ⋯ & 1 & K & 0 & NA & 0 & 0 & 0 & 126005 & NA & 1023\\\\\n\t6 & 2001063 & 120000 & EP & 120040 & 0000 & 0000 & 0000 & 36 & 00 & M & ⋯ & 1 & K & 0 & NA & 0 & 0 & 0 & 121012 & NA & 1023\\\\\n\\end{tabular}\n",
            "text/plain": [
              "  PA_CODUNI PA_GESTAO PA_CONDIC PA_UFMUN PA_REGCT PA_INCOUT PA_INCURG PA_TPUPS\n",
              "1 2001586   120000    EP        120040   0000     0000      0000      05      \n",
              "2 5336171   120000    EP        120020   0000     0000      0000      05      \n",
              "3 0128619   120000    EP        120040   0000     0000      0000      36      \n",
              "4 2000393   120000    EP        120070   0000     0000      0000      05      \n",
              "5 2000970   120000    EP        120034   0000     0000      0000      15      \n",
              "6 2001063   120000    EP        120040   0000     0000      0000      36      \n",
              "  PA_TIPPRE PA_MN_IND ⋯ PA_CODOCO PA_FLQT PA_FLER PA_ETNIA PA_VL_CF PA_VL_CL\n",
              "1 00        I         ⋯ 1         K       0       NA       0        0       \n",
              "2 00        M         ⋯ 1         K       0       NA       0        0       \n",
              "3 00        M         ⋯ 1         K       0       NA       0        0       \n",
              "4 00        M         ⋯ 1         K       0       NA       0        0       \n",
              "5 00        M         ⋯ 1         K       0       NA       0        0       \n",
              "6 00        M         ⋯ 1         K       0       NA       0        0       \n",
              "  PA_VL_INC PA_SRV_C PA_INE PA_NAT_JUR\n",
              "1 0         NA       NA     1147      \n",
              "2 0         145003   NA     1023      \n",
              "3 0         135003   NA     1023      \n",
              "4 0         NA       NA     1023      \n",
              "5 0         126005   NA     1023      \n",
              "6 0         121012   NA     1023      "
            ]
          },
          "metadata": {}
        }
      ]
    },
    {
      "cell_type": "markdown",
      "source": [
        "## Lista de arquivos DBC\n",
        "\n",
        "A lista completa dos arquivos dbc do SIA é obtida com a função `getURL`."
      ],
      "metadata": {
        "id": "3Bhbm0_5uYtn"
      }
    },
    {
      "cell_type": "code",
      "source": [
        "url=\"ftp://ftp.datasus.gov.br/dissemin/publicos/SIASUS/200801_/Dados/\"\n",
        "\n",
        "# lista arquivos dbc do diretorio FTP\n",
        "aux <-\n",
        "  getURL(\n",
        "    url,\n",
        "    verbose = TRUE,\n",
        "    ftp.use.epsv = FALSE,\n",
        "    dirlistonly = TRUE,\n",
        "    crlf = TRUE\n",
        "  )\n",
        "listadbc=strsplit(aux, \"\\r*\\n\")[[1]]\n",
        "\n",
        "length(listadbc) # numero de arquivos\n",
        "\n",
        "listadbc[sample(1:length(listadbc),20, replace = TRUE)] \n",
        "# amostra de arquivos DBC"
      ],
      "metadata": {
        "colab": {
          "base_uri": "https://localhost:8080/",
          "height": 69
        },
        "id": "owjEBvY0r5K9",
        "outputId": "5461be83-888d-4a31-e3eb-9c015a75b40c"
      },
      "execution_count": 41,
      "outputs": [
        {
          "output_type": "display_data",
          "data": {
            "text/html": [
              "43158"
            ],
            "text/markdown": "43158",
            "text/latex": "43158",
            "text/plain": [
              "[1] 43158"
            ]
          },
          "metadata": {}
        },
        {
          "output_type": "display_data",
          "data": {
            "text/html": [
              "<style>\n",
              ".list-inline {list-style: none; margin:0; padding: 0}\n",
              ".list-inline>li {display: inline-block}\n",
              ".list-inline>li:not(:last-child)::after {content: \"\\00b7\"; padding: 0 .5ex}\n",
              "</style>\n",
              "<ol class=list-inline><li>'ADPR1109.dbc'</li><li>'PASC1803.dbc'</li><li>'ADMT1204.dbc'</li><li>'BIRJ1808.dbc'</li><li>'AQTO2104.dbc'</li><li>'AMPSC2110.dbc'</li><li>'PAPE0904.dbc'</li><li>'ATDMA1811.dbc'</li><li>'PACE1207.dbc'</li><li>'AQGO1906.dbc'</li><li>'BIAC1208.dbc'</li><li>'PAGO0902.dbc'</li><li>'BIAP2107.dbc'</li><li>'AMPI0904.dbc'</li><li>'PSES1411.dbc'</li><li>'AMGO1201.dbc'</li><li>'PSRO1910.dbc'</li><li>'ADDF1912.dbc'</li><li>'ADTO1111.dbc'</li><li>'PSDF1503.dbc'</li></ol>\n"
            ],
            "text/markdown": "1. 'ADPR1109.dbc'\n2. 'PASC1803.dbc'\n3. 'ADMT1204.dbc'\n4. 'BIRJ1808.dbc'\n5. 'AQTO2104.dbc'\n6. 'AMPSC2110.dbc'\n7. 'PAPE0904.dbc'\n8. 'ATDMA1811.dbc'\n9. 'PACE1207.dbc'\n10. 'AQGO1906.dbc'\n11. 'BIAC1208.dbc'\n12. 'PAGO0902.dbc'\n13. 'BIAP2107.dbc'\n14. 'AMPI0904.dbc'\n15. 'PSES1411.dbc'\n16. 'AMGO1201.dbc'\n17. 'PSRO1910.dbc'\n18. 'ADDF1912.dbc'\n19. 'ADTO1111.dbc'\n20. 'PSDF1503.dbc'\n\n\n",
            "text/latex": "\\begin{enumerate*}\n\\item 'ADPR1109.dbc'\n\\item 'PASC1803.dbc'\n\\item 'ADMT1204.dbc'\n\\item 'BIRJ1808.dbc'\n\\item 'AQTO2104.dbc'\n\\item 'AMPSC2110.dbc'\n\\item 'PAPE0904.dbc'\n\\item 'ATDMA1811.dbc'\n\\item 'PACE1207.dbc'\n\\item 'AQGO1906.dbc'\n\\item 'BIAC1208.dbc'\n\\item 'PAGO0902.dbc'\n\\item 'BIAP2107.dbc'\n\\item 'AMPI0904.dbc'\n\\item 'PSES1411.dbc'\n\\item 'AMGO1201.dbc'\n\\item 'PSRO1910.dbc'\n\\item 'ADDF1912.dbc'\n\\item 'ADTO1111.dbc'\n\\item 'PSDF1503.dbc'\n\\end{enumerate*}\n",
            "text/plain": [
              " [1] \"ADPR1109.dbc\"  \"PASC1803.dbc\"  \"ADMT1204.dbc\"  \"BIRJ1808.dbc\" \n",
              " [5] \"AQTO2104.dbc\"  \"AMPSC2110.dbc\" \"PAPE0904.dbc\"  \"ATDMA1811.dbc\"\n",
              " [9] \"PACE1207.dbc\"  \"AQGO1906.dbc\"  \"BIAC1208.dbc\"  \"PAGO0902.dbc\" \n",
              "[13] \"BIAP2107.dbc\"  \"AMPI0904.dbc\"  \"PSES1411.dbc\"  \"AMGO1201.dbc\" \n",
              "[17] \"PSRO1910.dbc\"  \"ADDF1912.dbc\"  \"ADTO1111.dbc\"  \"PSDF1503.dbc\" "
            ]
          },
          "metadata": {}
        }
      ]
    },
    {
      "cell_type": "markdown",
      "source": [
        "## Lista de UF por mês de competência\n",
        "\n",
        "O controle da ordem de manipulação dos arquivos segundo estado e mês é fundamental na carga.\n",
        "\n",
        "A função `expand.grid` é empregada para gerar as combinações de UF, ano e mês\n",
        "que integram o nome dos arquivos a serem manipulados."
      ],
      "metadata": {
        "id": "qaURSU262h_Z"
      }
    },
    {
      "cell_type": "code",
      "source": [
        "  uf='GO'\n",
        "  aux=as.matrix(expand.grid(uf,ano,mes))\n",
        "  ufaamm=sort(paste0(\n",
        "    aux[,1],\n",
        "    aux[,2],\n",
        "    aux[,3]\n",
        "  ))\n",
        "  ufaamm"
      ],
      "metadata": {
        "colab": {
          "base_uri": "https://localhost:8080/",
          "height": 69
        },
        "id": "ROY6WIDM3Gjf",
        "outputId": "767c0e98-ba6f-4040-e9d0-11dca1c54dc3"
      },
      "execution_count": 42,
      "outputs": [
        {
          "output_type": "display_data",
          "data": {
            "text/html": [
              "<style>\n",
              ".list-inline {list-style: none; margin:0; padding: 0}\n",
              ".list-inline>li {display: inline-block}\n",
              ".list-inline>li:not(:last-child)::after {content: \"\\00b7\"; padding: 0 .5ex}\n",
              "</style>\n",
              "<ol class=list-inline><li>'GO1801'</li><li>'GO1802'</li><li>'GO1803'</li><li>'GO1804'</li><li>'GO1805'</li><li>'GO1806'</li><li>'GO1807'</li><li>'GO1808'</li><li>'GO1809'</li><li>'GO1810'</li><li>'GO1811'</li><li>'GO1812'</li><li>'GO1901'</li><li>'GO1902'</li><li>'GO1903'</li><li>'GO1904'</li><li>'GO1905'</li><li>'GO1906'</li><li>'GO1907'</li><li>'GO1908'</li><li>'GO1909'</li><li>'GO1910'</li><li>'GO1911'</li><li>'GO1912'</li><li>'GO2001'</li><li>'GO2002'</li><li>'GO2003'</li><li>'GO2004'</li><li>'GO2005'</li><li>'GO2006'</li><li>'GO2007'</li><li>'GO2008'</li><li>'GO2009'</li><li>'GO2010'</li><li>'GO2011'</li><li>'GO2012'</li><li>'GO2101'</li><li>'GO2102'</li><li>'GO2103'</li><li>'GO2104'</li><li>'GO2105'</li><li>'GO2106'</li><li>'GO2107'</li><li>'GO2108'</li><li>'GO2109'</li><li>'GO2110'</li><li>'GO2111'</li><li>'GO2112'</li><li>'GO2201'</li><li>'GO2202'</li><li>'GO2203'</li><li>'GO2204'</li><li>'GO2205'</li><li>'GO2206'</li><li>'GO2207'</li><li>'GO2208'</li><li>'GO2209'</li><li>'GO2210'</li><li>'GO2211'</li><li>'GO2212'</li></ol>\n"
            ],
            "text/markdown": "1. 'GO1801'\n2. 'GO1802'\n3. 'GO1803'\n4. 'GO1804'\n5. 'GO1805'\n6. 'GO1806'\n7. 'GO1807'\n8. 'GO1808'\n9. 'GO1809'\n10. 'GO1810'\n11. 'GO1811'\n12. 'GO1812'\n13. 'GO1901'\n14. 'GO1902'\n15. 'GO1903'\n16. 'GO1904'\n17. 'GO1905'\n18. 'GO1906'\n19. 'GO1907'\n20. 'GO1908'\n21. 'GO1909'\n22. 'GO1910'\n23. 'GO1911'\n24. 'GO1912'\n25. 'GO2001'\n26. 'GO2002'\n27. 'GO2003'\n28. 'GO2004'\n29. 'GO2005'\n30. 'GO2006'\n31. 'GO2007'\n32. 'GO2008'\n33. 'GO2009'\n34. 'GO2010'\n35. 'GO2011'\n36. 'GO2012'\n37. 'GO2101'\n38. 'GO2102'\n39. 'GO2103'\n40. 'GO2104'\n41. 'GO2105'\n42. 'GO2106'\n43. 'GO2107'\n44. 'GO2108'\n45. 'GO2109'\n46. 'GO2110'\n47. 'GO2111'\n48. 'GO2112'\n49. 'GO2201'\n50. 'GO2202'\n51. 'GO2203'\n52. 'GO2204'\n53. 'GO2205'\n54. 'GO2206'\n55. 'GO2207'\n56. 'GO2208'\n57. 'GO2209'\n58. 'GO2210'\n59. 'GO2211'\n60. 'GO2212'\n\n\n",
            "text/latex": "\\begin{enumerate*}\n\\item 'GO1801'\n\\item 'GO1802'\n\\item 'GO1803'\n\\item 'GO1804'\n\\item 'GO1805'\n\\item 'GO1806'\n\\item 'GO1807'\n\\item 'GO1808'\n\\item 'GO1809'\n\\item 'GO1810'\n\\item 'GO1811'\n\\item 'GO1812'\n\\item 'GO1901'\n\\item 'GO1902'\n\\item 'GO1903'\n\\item 'GO1904'\n\\item 'GO1905'\n\\item 'GO1906'\n\\item 'GO1907'\n\\item 'GO1908'\n\\item 'GO1909'\n\\item 'GO1910'\n\\item 'GO1911'\n\\item 'GO1912'\n\\item 'GO2001'\n\\item 'GO2002'\n\\item 'GO2003'\n\\item 'GO2004'\n\\item 'GO2005'\n\\item 'GO2006'\n\\item 'GO2007'\n\\item 'GO2008'\n\\item 'GO2009'\n\\item 'GO2010'\n\\item 'GO2011'\n\\item 'GO2012'\n\\item 'GO2101'\n\\item 'GO2102'\n\\item 'GO2103'\n\\item 'GO2104'\n\\item 'GO2105'\n\\item 'GO2106'\n\\item 'GO2107'\n\\item 'GO2108'\n\\item 'GO2109'\n\\item 'GO2110'\n\\item 'GO2111'\n\\item 'GO2112'\n\\item 'GO2201'\n\\item 'GO2202'\n\\item 'GO2203'\n\\item 'GO2204'\n\\item 'GO2205'\n\\item 'GO2206'\n\\item 'GO2207'\n\\item 'GO2208'\n\\item 'GO2209'\n\\item 'GO2210'\n\\item 'GO2211'\n\\item 'GO2212'\n\\end{enumerate*}\n",
            "text/plain": [
              " [1] \"GO1801\" \"GO1802\" \"GO1803\" \"GO1804\" \"GO1805\" \"GO1806\" \"GO1807\" \"GO1808\"\n",
              " [9] \"GO1809\" \"GO1810\" \"GO1811\" \"GO1812\" \"GO1901\" \"GO1902\" \"GO1903\" \"GO1904\"\n",
              "[17] \"GO1905\" \"GO1906\" \"GO1907\" \"GO1908\" \"GO1909\" \"GO1910\" \"GO1911\" \"GO1912\"\n",
              "[25] \"GO2001\" \"GO2002\" \"GO2003\" \"GO2004\" \"GO2005\" \"GO2006\" \"GO2007\" \"GO2008\"\n",
              "[33] \"GO2009\" \"GO2010\" \"GO2011\" \"GO2012\" \"GO2101\" \"GO2102\" \"GO2103\" \"GO2104\"\n",
              "[41] \"GO2105\" \"GO2106\" \"GO2107\" \"GO2108\" \"GO2109\" \"GO2110\" \"GO2111\" \"GO2112\"\n",
              "[49] \"GO2201\" \"GO2202\" \"GO2203\" \"GO2204\" \"GO2205\" \"GO2206\" \"GO2207\" \"GO2208\"\n",
              "[57] \"GO2209\" \"GO2210\" \"GO2211\" \"GO2212\""
            ]
          },
          "metadata": {}
        }
      ]
    },
    {
      "cell_type": "markdown",
      "source": [
        "## Enriquecimento do subsistema principal do SIA\n",
        "\n",
        "O subsistema principal do **SIA** é chamado de corpo da Autorização de Procedimentos Ambulatoriais (antiga sigla APAC) e são disseminados sob o prefixo **PA**.\n",
        "\n",
        "Por meio do número de autorização, em geral, **PA_AUTORIZ** ou **AP_AUTORIZ**, é possível completar o arquivo principal.\n",
        "\n",
        "A tarefa é fundamental para computar o número de usuários com quantidade aprovada de dado procedimento, sobretudo a partir do arquivo de medicamentos de prefixo **AM**.\n",
        "\n",
        "Veja o exemplo ilustrado para o primeiro valor no índice do vetor `ufaamm`.\n",
        "\n",
        "### Processamento dos arquivos PA da mesma UF e mês\n",
        "\n",
        "Eventualmente arquivos do mês mês que ultrapassam cerca de dois milhões de registros são fragmentados e mais de um arquivo, por exemplo, **PASP2301a.dbc**, **PASP2301b.dbc** e **PASP2301c.dbc**.\n",
        "\n",
        "Por isso é utilizada a estrutura de repetição `for`.\n",
        "\n",
        "Note que os filtros de **CID10** e procedimento **SIGTAP** são usados logo após a carga para reduzir a ocupação na memória e, portanto, o recurso computacional necessário.\n",
        "\n",
        "Foram estabelecidos filtros segundo a doença selecionada em `PA_CIDPRI %in% cid10` e procedimento em `PA_PROC_ID %in% sigtap`.\n",
        "\n",
        "Adicionalmente, o vetor de atributos foi aplicado a fim de desprezar os demais.\n",
        "\n",
        "```\n",
        "c(\"PA_AUTORIZ\",\"PA_CMP\",\"PA_MVM\" ,\"PA_CIDPRI\", \"PA_CIDSEC\", \n",
        "  \"PA_PROC_ID\", \"PA_QTDAPR\",\"PA_SEXO\", \"PA_IDADE\", \"PA_MUNPCN\"\n",
        ")\n",
        "```\n",
        "\n",
        "\n",
        "\n",
        "> **Nota:**\n",
        "> É recomendável baixar previamente os arquivo DBC para o disco local\n",
        "> Assim, basta substituir a linha de comando\n",
        ">\n",
        "> `download.file(paste0(url,listadbc_pa[j]), destfile = \"arquivo.dbc\")`\n",
        ">\n",
        "> por\n",
        "> \n",
        "> `arquivo=paste0(dirdbc,listadbc_pa[j])`"
      ],
      "metadata": {
        "id": "qtarojLe3y5w"
      }
    },
    {
      "cell_type": "code",
      "source": [
        "i=1\n",
        "ufaamm[i]\n",
        "\n",
        "# filtra apenas arquivos contendo o respectivo UFAAMM \n",
        "listadbc_pa=subset(\n",
        "      listadbc,\n",
        "      grepl(paste0(\"^PA\",ufaamm[i]), listadbc)\n",
        "    )\n",
        "listadbc_pa\n",
        "\n",
        "pa=pa_estrutura\n",
        "\n",
        "# incorpora o arquivo PA\n",
        "    for (j in 1:length(listadbc_pa)) {\n",
        "      arquivo = \"arquivo.dbc\"\n",
        "      download.file(paste0(url,listadbc_pa[j]), destfile = arquivo) \n",
        "      # arquivo=paste0(dirdbc,listadbc_pa[j])\n",
        "      aux=subset(\n",
        "        read.dbc(arquivo)[,c(\n",
        "          \"PA_AUTORIZ\",\"PA_CMP\",\"PA_MVM\" ,\"PA_CIDPRI\", \"PA_CIDSEC\", \n",
        "          \"PA_PROC_ID\", \"PA_QTDAPR\",\"PA_SEXO\", \"PA_IDADE\", \"PA_MUNPCN\"\n",
        "        )],\n",
        "        PA_CIDPRI %in% cid10 & \n",
        "          PA_PROC_ID %in% sigtap\n",
        "      )\n",
        "      \n",
        "      if (nrow(aux)==0) {\n",
        "        aux=pa\n",
        "      } else {\n",
        "        aux$uf_processamento = uf\n",
        "        pa=rbind(pa,aux)  \n",
        "      }\n",
        "      \n",
        "    }\n",
        "head(pa)"
      ],
      "metadata": {
        "colab": {
          "base_uri": "https://localhost:8080/",
          "height": 321
        },
        "id": "yeNVitil5HLD",
        "outputId": "e35cc25c-caea-460f-bd0c-c568aeb05ba6"
      },
      "execution_count": 43,
      "outputs": [
        {
          "output_type": "display_data",
          "data": {
            "text/html": [
              "'GO1801'"
            ],
            "text/markdown": "'GO1801'",
            "text/latex": "'GO1801'",
            "text/plain": [
              "[1] \"GO1801\""
            ]
          },
          "metadata": {}
        },
        {
          "output_type": "display_data",
          "data": {
            "text/html": [
              "'PAGO1801.dbc'"
            ],
            "text/markdown": "'PAGO1801.dbc'",
            "text/latex": "'PAGO1801.dbc'",
            "text/plain": [
              "[1] \"PAGO1801.dbc\""
            ]
          },
          "metadata": {}
        },
        {
          "output_type": "display_data",
          "data": {
            "text/html": [
              "<table class=\"dataframe\">\n",
              "<caption>A data.frame: 6 × 11</caption>\n",
              "<thead>\n",
              "\t<tr><th></th><th scope=col>PA_AUTORIZ</th><th scope=col>PA_CMP</th><th scope=col>PA_MVM</th><th scope=col>PA_CIDPRI</th><th scope=col>PA_CIDSEC</th><th scope=col>PA_PROC_ID</th><th scope=col>PA_QTDAPR</th><th scope=col>PA_SEXO</th><th scope=col>PA_IDADE</th><th scope=col>PA_MUNPCN</th><th scope=col>uf_processamento</th></tr>\n",
              "\t<tr><th></th><th scope=col>&lt;fct&gt;</th><th scope=col>&lt;fct&gt;</th><th scope=col>&lt;fct&gt;</th><th scope=col>&lt;fct&gt;</th><th scope=col>&lt;fct&gt;</th><th scope=col>&lt;fct&gt;</th><th scope=col>&lt;int&gt;</th><th scope=col>&lt;fct&gt;</th><th scope=col>&lt;fct&gt;</th><th scope=col>&lt;fct&gt;</th><th scope=col>&lt;chr&gt;</th></tr>\n",
              "</thead>\n",
              "<tbody>\n",
              "\t<tr><th scope=row>1975</th><td>5217202829366</td><td>201801</td><td>201801</td><td>M45</td><td>0000</td><td>0604380011</td><td>2</td><td>F</td><td>033</td><td>520870</td><td>GO</td></tr>\n",
              "\t<tr><th scope=row>2015</th><td>5218200283483</td><td>201801</td><td>201801</td><td>M45</td><td>0000</td><td>0604380054</td><td>2</td><td>M</td><td>038</td><td>520870</td><td>GO</td></tr>\n",
              "\t<tr><th scope=row>3967</th><td>5217203323300</td><td>201801</td><td>201801</td><td>M45</td><td>0000</td><td>0604380011</td><td>2</td><td>M</td><td>020</td><td>520110</td><td>GO</td></tr>\n",
              "\t<tr><th scope=row>3969</th><td>5217203318943</td><td>201801</td><td>201801</td><td>M45</td><td>0000</td><td>0604380011</td><td>2</td><td>M</td><td>050</td><td>521230</td><td>GO</td></tr>\n",
              "\t<tr><th scope=row>3971</th><td>5218200003445</td><td>201801</td><td>201801</td><td>M45</td><td>0000</td><td>0604380011</td><td>2</td><td>M</td><td>037</td><td>521380</td><td>GO</td></tr>\n",
              "\t<tr><th scope=row>3975</th><td>5217203358136</td><td>201801</td><td>201801</td><td>M45</td><td>0000</td><td>0604380011</td><td>2</td><td>M</td><td>034</td><td>520870</td><td>GO</td></tr>\n",
              "</tbody>\n",
              "</table>\n"
            ],
            "text/markdown": "\nA data.frame: 6 × 11\n\n| <!--/--> | PA_AUTORIZ &lt;fct&gt; | PA_CMP &lt;fct&gt; | PA_MVM &lt;fct&gt; | PA_CIDPRI &lt;fct&gt; | PA_CIDSEC &lt;fct&gt; | PA_PROC_ID &lt;fct&gt; | PA_QTDAPR &lt;int&gt; | PA_SEXO &lt;fct&gt; | PA_IDADE &lt;fct&gt; | PA_MUNPCN &lt;fct&gt; | uf_processamento &lt;chr&gt; |\n|---|---|---|---|---|---|---|---|---|---|---|---|\n| 1975 | 5217202829366 | 201801 | 201801 | M45 | 0000 | 0604380011 | 2 | F | 033 | 520870 | GO |\n| 2015 | 5218200283483 | 201801 | 201801 | M45 | 0000 | 0604380054 | 2 | M | 038 | 520870 | GO |\n| 3967 | 5217203323300 | 201801 | 201801 | M45 | 0000 | 0604380011 | 2 | M | 020 | 520110 | GO |\n| 3969 | 5217203318943 | 201801 | 201801 | M45 | 0000 | 0604380011 | 2 | M | 050 | 521230 | GO |\n| 3971 | 5218200003445 | 201801 | 201801 | M45 | 0000 | 0604380011 | 2 | M | 037 | 521380 | GO |\n| 3975 | 5217203358136 | 201801 | 201801 | M45 | 0000 | 0604380011 | 2 | M | 034 | 520870 | GO |\n\n",
            "text/latex": "A data.frame: 6 × 11\n\\begin{tabular}{r|lllllllllll}\n  & PA\\_AUTORIZ & PA\\_CMP & PA\\_MVM & PA\\_CIDPRI & PA\\_CIDSEC & PA\\_PROC\\_ID & PA\\_QTDAPR & PA\\_SEXO & PA\\_IDADE & PA\\_MUNPCN & uf\\_processamento\\\\\n  & <fct> & <fct> & <fct> & <fct> & <fct> & <fct> & <int> & <fct> & <fct> & <fct> & <chr>\\\\\n\\hline\n\t1975 & 5217202829366 & 201801 & 201801 & M45 & 0000 & 0604380011 & 2 & F & 033 & 520870 & GO\\\\\n\t2015 & 5218200283483 & 201801 & 201801 & M45 & 0000 & 0604380054 & 2 & M & 038 & 520870 & GO\\\\\n\t3967 & 5217203323300 & 201801 & 201801 & M45 & 0000 & 0604380011 & 2 & M & 020 & 520110 & GO\\\\\n\t3969 & 5217203318943 & 201801 & 201801 & M45 & 0000 & 0604380011 & 2 & M & 050 & 521230 & GO\\\\\n\t3971 & 5218200003445 & 201801 & 201801 & M45 & 0000 & 0604380011 & 2 & M & 037 & 521380 & GO\\\\\n\t3975 & 5217203358136 & 201801 & 201801 & M45 & 0000 & 0604380011 & 2 & M & 034 & 520870 & GO\\\\\n\\end{tabular}\n",
            "text/plain": [
              "     PA_AUTORIZ    PA_CMP PA_MVM PA_CIDPRI PA_CIDSEC PA_PROC_ID PA_QTDAPR\n",
              "1975 5217202829366 201801 201801 M45       0000      0604380011 2        \n",
              "2015 5218200283483 201801 201801 M45       0000      0604380054 2        \n",
              "3967 5217203323300 201801 201801 M45       0000      0604380011 2        \n",
              "3969 5217203318943 201801 201801 M45       0000      0604380011 2        \n",
              "3971 5218200003445 201801 201801 M45       0000      0604380011 2        \n",
              "3975 5217203358136 201801 201801 M45       0000      0604380011 2        \n",
              "     PA_SEXO PA_IDADE PA_MUNPCN uf_processamento\n",
              "1975 F       033      520870    GO              \n",
              "2015 M       038      520870    GO              \n",
              "3967 M       020      520110    GO              \n",
              "3969 M       050      521230    GO              \n",
              "3971 M       037      521380    GO              \n",
              "3975 M       034      520870    GO              "
            ]
          },
          "metadata": {}
        }
      ]
    },
    {
      "cell_type": "markdown",
      "source": [
        "### Processamento do arquivo AM por UF e mês\n",
        "\n",
        "Analogamente ao que ocorreu com o arquivo **PA**, é processado o arquivo **AM**."
      ],
      "metadata": {
        "id": "_T0X4nZ88tjo"
      }
    },
    {
      "cell_type": "code",
      "source": [
        "    listadbc_am=subset(\n",
        "      listadbc,\n",
        "      grepl(paste0(\"^AM\",ufaamm[i]), listadbc)\n",
        "    )\n",
        "\n",
        "       for (j in 1:length(listadbc_am)) {\n",
        "        arquivo = \"arquivo.dbc\"\n",
        "        download.file(paste0(url,listadbc_am[j]), destfile = arquivo) \n",
        "        # arquivo=paste0(dirdbc,listadbc_am[j])\n",
        "        if (file.exists(arquivo)) {\n",
        "          aux=subset(\n",
        "            read.dbc(arquivo)[,c(\n",
        "              \"AP_AUTORIZ\", \"AP_PRIPAL\",\n",
        "              \"AP_CIDPRI\",  \"AP_CNSPCN\"\n",
        "            )],\n",
        "            AP_CIDPRI %in% cid10 & AP_PRIPAL %in% sigtap\n",
        "          )\n",
        "          am=rbind(am,aux)        \n",
        "        }\n",
        "      }   \n",
        "head(am)      "
      ],
      "metadata": {
        "colab": {
          "base_uri": "https://localhost:8080/",
          "height": 4331
        },
        "id": "-zOjGbYg9OHj",
        "outputId": "e2755fd4-6205-4086-8992-8cde89d5d9a1"
      },
      "execution_count": 44,
      "outputs": [
        {
          "output_type": "stream",
          "name": "stderr",
          "text": [
            "Warning message in FUN(X[[i]], ...):\n",
            "“input string 4 is invalid in this locale”\n",
            "Warning message in FUN(X[[i]], ...):\n",
            "“input string 4 is invalid in this locale”\n",
            "Warning message in FUN(X[[i]], ...):\n",
            "“input string 4 is invalid in this locale”\n",
            "Warning message in FUN(X[[i]], ...):\n",
            "“input string 4 is invalid in this locale”\n",
            "Warning message in FUN(X[[i]], ...):\n",
            "“input string 4 is invalid in this locale”\n",
            "Warning message in FUN(X[[i]], ...):\n",
            "“input string 4 is invalid in this locale”\n",
            "Warning message in FUN(X[[i]], ...):\n",
            "“input string 4 is invalid in this locale”\n",
            "Warning message in FUN(X[[i]], ...):\n",
            "“input string 4 is invalid in this locale”\n",
            "Warning message in FUN(X[[i]], ...):\n",
            "“input string 4 is invalid in this locale”\n",
            "Warning message in FUN(X[[i]], ...):\n",
            "“input string 4 is invalid in this locale”\n",
            "Warning message in FUN(X[[i]], ...):\n",
            "“input string 4 is invalid in this locale”\n",
            "Warning message in FUN(X[[i]], ...):\n",
            "“input string 4 is invalid in this locale”\n",
            "Warning message in FUN(X[[i]], ...):\n",
            "“input string 4 is invalid in this locale”\n",
            "Warning message in FUN(X[[i]], ...):\n",
            "“input string 4 is invalid in this locale”\n",
            "Warning message in FUN(X[[i]], ...):\n",
            "“input string 4 is invalid in this locale”\n",
            "Warning message in FUN(X[[i]], ...):\n",
            "“input string 4 is invalid in this locale”\n",
            "Warning message in FUN(X[[i]], ...):\n",
            "“input string 4 is invalid in this locale”\n",
            "Warning message in FUN(X[[i]], ...):\n",
            "“input string 4 is invalid in this locale”\n",
            "ERROR while rich displaying an object: Error in gsub(chr, html_specials[[chr]], text, fixed = TRUE): input string 4 is invalid in this locale\n",
            "\n",
            "Traceback:\n",
            "1. tryCatch(withCallingHandlers({\n",
            " .     if (!mime %in% names(repr::mime2repr)) \n",
            " .         stop(\"No repr_* for mimetype \", mime, \" in repr::mime2repr\")\n",
            " .     rpr <- repr::mime2repr[[mime]](obj)\n",
            " .     if (is.null(rpr)) \n",
            " .         return(NULL)\n",
            " .     prepare_content(is.raw(rpr), rpr)\n",
            " . }, error = error_handler), error = outer_handler)\n",
            "2. tryCatchList(expr, classes, parentenv, handlers)\n",
            "3. tryCatchOne(expr, names, parentenv, handlers[[1L]])\n",
            "4. doTryCatch(return(expr), name, parentenv, handler)\n",
            "5. withCallingHandlers({\n",
            " .     if (!mime %in% names(repr::mime2repr)) \n",
            " .         stop(\"No repr_* for mimetype \", mime, \" in repr::mime2repr\")\n",
            " .     rpr <- repr::mime2repr[[mime]](obj)\n",
            " .     if (is.null(rpr)) \n",
            " .         return(NULL)\n",
            " .     prepare_content(is.raw(rpr), rpr)\n",
            " . }, error = error_handler)\n",
            "6. repr::mime2repr[[mime]](obj)\n",
            "7. repr_markdown.data.frame(obj)\n",
            "8. repr_matrix_generic(obj, \"\\n%s\\n\\n%s%s\\n\", sprintf(\"|%%s\\n|%s|\\n\", \n",
            " .     underline), NULL, \" <!--/--> |\", \" %s |\", \"%s\", \"|%s\\n\", \n",
            " .     \" %s |\", \" %s |\", escape_fun = markdown_escape, rows = rows, \n",
            " .     cols = cols, ...)\n",
            "9. lapply(seq_len(nrow(x)), function(r) {\n",
            " .     row <- escape_fun(slice_row(x, r))\n",
            " .     cells <- sprintf(cell, row)\n",
            " .     if (has_rownames) {\n",
            " .         row_head <- sprintf(row_head, escape_fun(rownames(x)[[r]]))\n",
            " .         cells <- c(row_head, cells)\n",
            " .     }\n",
            " .     sprintf(row_wrap, paste(cells, collapse = \"\"))\n",
            " . })\n",
            "10. FUN(X[[i]], ...)\n",
            "11. escape_fun(slice_row(x, r))\n",
            "12. html_escape(values, do_spaces = FALSE)\n",
            "13. gsub(chr, html_specials[[chr]], text, fixed = TRUE)\n",
            "Warning message in FUN(X[[i]], ...):\n",
            "“input string 4 is invalid in this locale”\n",
            "Warning message in FUN(X[[i]], ...):\n",
            "“input string 4 is invalid in this locale”\n",
            "Warning message in FUN(X[[i]], ...):\n",
            "“input string 4 is invalid in this locale”\n",
            "Warning message in FUN(X[[i]], ...):\n",
            "“input string 4 is invalid in this locale”\n",
            "Warning message in FUN(X[[i]], ...):\n",
            "“input string 4 is invalid in this locale”\n",
            "Warning message in FUN(X[[i]], ...):\n",
            "“input string 4 is invalid in this locale”\n",
            "Warning message in FUN(X[[i]], ...):\n",
            "“input string 4 is invalid in this locale”\n",
            "Warning message in FUN(X[[i]], ...):\n",
            "“input string 4 is invalid in this locale”\n",
            "Warning message in FUN(X[[i]], ...):\n",
            "“input string 4 is invalid in this locale”\n",
            "Warning message in FUN(X[[i]], ...):\n",
            "“input string 4 is invalid in this locale”\n",
            "Warning message in FUN(X[[i]], ...):\n",
            "“input string 4 is invalid in this locale”\n",
            "Warning message in FUN(X[[i]], ...):\n",
            "“input string 4 is invalid in this locale”\n",
            "Warning message in FUN(X[[i]], ...):\n",
            "“input string 4 is invalid in this locale”\n",
            "Warning message in FUN(X[[i]], ...):\n",
            "“input string 4 is invalid in this locale”\n",
            "Warning message in FUN(X[[i]], ...):\n",
            "“input string 4 is invalid in this locale”\n",
            "Warning message in FUN(X[[i]], ...):\n",
            "“input string 4 is invalid in this locale”\n",
            "Warning message in FUN(X[[i]], ...):\n",
            "“input string 4 is invalid in this locale”\n",
            "Warning message in FUN(X[[i]], ...):\n",
            "“input string 4 is invalid in this locale”\n",
            "Warning message in FUN(X[[i]], ...):\n",
            "“input string 4 is invalid in this locale”\n",
            "Warning message in FUN(X[[i]], ...):\n",
            "“input string 4 is invalid in this locale”\n",
            "Warning message in FUN(X[[i]], ...):\n",
            "“input string 4 is invalid in this locale”\n",
            "Warning message in FUN(X[[i]], ...):\n",
            "“input string 4 is invalid in this locale”\n",
            "Warning message in FUN(X[[i]], ...):\n",
            "“input string 4 is invalid in this locale”\n",
            "Warning message in FUN(X[[i]], ...):\n",
            "“input string 4 is invalid in this locale”\n",
            "Warning message in FUN(X[[i]], ...):\n",
            "“input string 4 is invalid in this locale”\n",
            "Warning message in FUN(X[[i]], ...):\n",
            "“input string 4 is invalid in this locale”\n",
            "Warning message in FUN(X[[i]], ...):\n",
            "“input string 4 is invalid in this locale”\n",
            "Warning message in FUN(X[[i]], ...):\n",
            "“input string 4 is invalid in this locale”\n",
            "Warning message in FUN(X[[i]], ...):\n",
            "“input string 4 is invalid in this locale”\n",
            "Warning message in FUN(X[[i]], ...):\n",
            "“input string 4 is invalid in this locale”\n",
            "Warning message in FUN(X[[i]], ...):\n",
            "“input string 4 is invalid in this locale”\n",
            "Warning message in FUN(X[[i]], ...):\n",
            "“input string 4 is invalid in this locale”\n",
            "Warning message in FUN(X[[i]], ...):\n",
            "“input string 4 is invalid in this locale”\n",
            "Warning message in FUN(X[[i]], ...):\n",
            "“input string 4 is invalid in this locale”\n",
            "Warning message in FUN(X[[i]], ...):\n",
            "“input string 4 is invalid in this locale”\n",
            "Warning message in FUN(X[[i]], ...):\n",
            "“input string 4 is invalid in this locale”\n",
            "Warning message in FUN(X[[i]], ...):\n",
            "“input string 4 is invalid in this locale”\n",
            "Warning message in FUN(X[[i]], ...):\n",
            "“input string 4 is invalid in this locale”\n",
            "Warning message in FUN(X[[i]], ...):\n",
            "“input string 4 is invalid in this locale”\n",
            "Warning message in FUN(X[[i]], ...):\n",
            "“input string 4 is invalid in this locale”\n",
            "Warning message in FUN(X[[i]], ...):\n",
            "“input string 4 is invalid in this locale”\n",
            "Warning message in FUN(X[[i]], ...):\n",
            "“input string 4 is invalid in this locale”\n",
            "Warning message in FUN(X[[i]], ...):\n",
            "“input string 4 is invalid in this locale”\n",
            "Warning message in FUN(X[[i]], ...):\n",
            "“input string 4 is invalid in this locale”\n",
            "Warning message in FUN(X[[i]], ...):\n",
            "“input string 4 is invalid in this locale”\n",
            "Warning message in FUN(X[[i]], ...):\n",
            "“input string 4 is invalid in this locale”\n",
            "Warning message in FUN(X[[i]], ...):\n",
            "“input string 4 is invalid in this locale”\n",
            "Warning message in FUN(X[[i]], ...):\n",
            "“input string 4 is invalid in this locale”\n",
            "Warning message in FUN(X[[i]], ...):\n",
            "“input string 4 is invalid in this locale”\n",
            "Warning message in FUN(X[[i]], ...):\n",
            "“input string 4 is invalid in this locale”\n",
            "Warning message in FUN(X[[i]], ...):\n",
            "“input string 4 is invalid in this locale”\n",
            "Warning message in FUN(X[[i]], ...):\n",
            "“input string 4 is invalid in this locale”\n",
            "Warning message in FUN(X[[i]], ...):\n",
            "“input string 4 is invalid in this locale”\n",
            "Warning message in FUN(X[[i]], ...):\n",
            "“input string 4 is invalid in this locale”\n",
            "Warning message in FUN(X[[i]], ...):\n",
            "“input string 4 is invalid in this locale”\n",
            "Warning message in FUN(X[[i]], ...):\n",
            "“input string 4 is invalid in this locale”\n",
            "Warning message in FUN(X[[i]], ...):\n",
            "“input string 4 is invalid in this locale”\n",
            "Warning message in FUN(X[[i]], ...):\n",
            "“input string 4 is invalid in this locale”\n",
            "Warning message in FUN(X[[i]], ...):\n",
            "“input string 4 is invalid in this locale”\n",
            "Warning message in FUN(X[[i]], ...):\n",
            "“input string 4 is invalid in this locale”\n",
            "Warning message in FUN(X[[i]], ...):\n",
            "“input string 4 is invalid in this locale”\n",
            "Warning message in FUN(X[[i]], ...):\n",
            "“input string 4 is invalid in this locale”\n",
            "Warning message in FUN(X[[i]], ...):\n",
            "“input string 4 is invalid in this locale”\n",
            "Warning message in FUN(X[[i]], ...):\n",
            "“input string 4 is invalid in this locale”\n",
            "Warning message in FUN(X[[i]], ...):\n",
            "“input string 4 is invalid in this locale”\n",
            "Warning message in FUN(X[[i]], ...):\n",
            "“input string 4 is invalid in this locale”\n",
            "Warning message in FUN(X[[i]], ...):\n",
            "“input string 4 is invalid in this locale”\n",
            "Warning message in FUN(X[[i]], ...):\n",
            "“input string 4 is invalid in this locale”\n",
            "Warning message in FUN(X[[i]], ...):\n",
            "“input string 4 is invalid in this locale”\n",
            "Warning message in FUN(X[[i]], ...):\n",
            "“input string 4 is invalid in this locale”\n",
            "Warning message in FUN(X[[i]], ...):\n",
            "“input string 4 is invalid in this locale”\n",
            "Warning message in FUN(X[[i]], ...):\n",
            "“input string 4 is invalid in this locale”\n",
            "Warning message in FUN(X[[i]], ...):\n",
            "“input string 4 is invalid in this locale”\n",
            "Warning message in FUN(X[[i]], ...):\n",
            "“input string 4 is invalid in this locale”\n",
            "Warning message in FUN(X[[i]], ...):\n",
            "“input string 4 is invalid in this locale”\n",
            "Warning message in FUN(X[[i]], ...):\n",
            "“input string 4 is invalid in this locale”\n",
            "Warning message in FUN(X[[i]], ...):\n",
            "“input string 4 is invalid in this locale”\n",
            "Warning message in FUN(X[[i]], ...):\n",
            "“input string 4 is invalid in this locale”\n"
          ]
        },
        {
          "output_type": "display_data",
          "data": {
            "text/html": [
              "<table class=\"dataframe\">\n",
              "<caption>A data.frame: 6 × 4</caption>\n",
              "<thead>\n",
              "\t<tr><th></th><th scope=col>AP_AUTORIZ</th><th scope=col>AP_PRIPAL</th><th scope=col>AP_CIDPRI</th><th scope=col>AP_CNSPCN</th></tr>\n",
              "\t<tr><th></th><th scope=col>&lt;fct&gt;</th><th scope=col>&lt;fct&gt;</th><th scope=col>&lt;fct&gt;</th><th scope=col>&lt;fct&gt;</th></tr>\n",
              "</thead>\n",
              "<tbody>\n",
              "\t<tr><th scope=row>344</th><td>5217203327765</td><td>0604380011</td><td>M45</td><td><82>{}<84>{<82><80>|<82>|<84><80><81><82>~   </td></tr>\n",
              "\t<tr><th scope=row>345</th><td>5217203183050</td><td>0604380011</td><td>M45</td><td><82>{{<81>{~<82>||<82><81>~      </td></tr>\n",
              "\t<tr><th scope=row>346</th><td>5217203322628</td><td>0604380011</td><td>M45</td><td><83><84><83>{{{{|<82><83><83><83><82></td></tr>\n",
              "\t<tr><th scope=row>351</th><td>5218200226162</td><td>0604380011</td><td>M45</td><td><83><84><83>{{}{{{}<80>{<81>~<84>            </td></tr>\n",
              "\t<tr><th scope=row>352</th><td>5218200062010</td><td>0604380011</td><td>M45</td><td><83><84><83>{{{<84>~{<83>~~      </td></tr>\n",
              "\t<tr><th scope=row>353</th><td>5217202866777</td><td>0604380011</td><td>M45</td><td><82>{<81><83>{<81>}<82>}<83><81>~<83>}<80>   </td></tr>\n",
              "</tbody>\n",
              "</table>\n"
            ],
            "text/latex": "A data.frame: 6 × 4\n\\begin{tabular}{r|llll}\n  & AP\\_AUTORIZ & AP\\_PRIPAL & AP\\_CIDPRI & AP\\_CNSPCN\\\\\n  & <fct> & <fct> & <fct> & <fct>\\\\\n\\hline\n\t344 & 5217203327765 & 0604380011 & M45 & <82>{}<84>{<82><80>|<82>|<84><80><81><82>~   \\\\\n\t345 & 5217203183050 & 0604380011 & M45 & <82>{{<81>{~<82>||<82><81>~      \\\\\n\t346 & 5217203322628 & 0604380011 & M45 & <83><84><83>{{{{|<82><83><83><83><82>\\\\\n\t351 & 5218200226162 & 0604380011 & M45 & <83><84><83>{{}{{{}<80>{<81>~<84>            \\\\\n\t352 & 5218200062010 & 0604380011 & M45 & <83><84><83>{{{<84>~{<83>~~      \\\\\n\t353 & 5217202866777 & 0604380011 & M45 & <82>{<81><83>{<81>}<82>}<83><81>~<83>}<80>   \\\\\n\\end{tabular}\n",
            "text/plain": [
              "    AP_AUTORIZ    AP_PRIPAL  AP_CIDPRI\n",
              "344 5217203327765 0604380011 M45      \n",
              "345 5217203183050 0604380011 M45      \n",
              "346 5217203322628 0604380011 M45      \n",
              "351 5218200226162 0604380011 M45      \n",
              "352 5218200062010 0604380011 M45      \n",
              "353 5217202866777 0604380011 M45      \n",
              "    AP_CNSPCN                                    \n",
              "344 \\x82{}\\x84{\\x82\\x80|\\x82|\\x84\\x80\\x81\\x82~   \n",
              "345 \\x82{{\\x81{~\\177\\x82\\177\\177||\\x82\\x81~      \n",
              "346 \\x83\\x84\\x83{{\\177{{|\\x82\\x83\\x83\\x83\\177\\x82\n",
              "351 \\x83\\x84\\x83{{}{{{}\\x80{\\x81~\\x84            \n",
              "352 \\x83\\x84\\x83{{\\177{\\x84\\177~{\\x83\\177~~      \n",
              "353 \\x82{\\x81\\x83{\\x81}\\x82}\\x83\\x81~\\x83}\\x80   "
            ]
          },
          "metadata": {}
        }
      ]
    },
    {
      "cell_type": "markdown",
      "source": [
        "## Substituição dos caracteres especias do CNS criptografado\n",
        "\n",
        "A fim de agilizar o processamento, os caracteres especiais do **Cartão Nacional de Saúde** (CNS) criptografado são substituídos por números."
      ],
      "metadata": {
        "id": "YUt5jxDX9ZLT"
      }
    },
    {
      "cell_type": "code",
      "source": [
        "am2=unique(am[,c(\"AP_AUTORIZ\",\"AP_CNSPCN\")])\n",
        "      \n",
        "      am2$AP_CNSPCN=\n",
        "        gsubfn(\n",
        "          \".\", \n",
        "          list(\n",
        "            \"{\" = \"0\", \"}\" = \"9\", \"~\" = \"5\", \n",
        "            \"\\177\" = \"7\", \"Ç\" = \"6\", \"ä\" = \"8\", \n",
        "            \"ü\" = \"4\", \"é\" = \"1\", \"|\" = \"2\", \"â\" = \"3\"\n",
        "          ), \n",
        "          iconv(am2$AP_CNSPCN, \"CP861\", \"UTF-8\")\n",
        "        )\n",
        "head(am2)        "
      ],
      "metadata": {
        "colab": {
          "base_uri": "https://localhost:8080/",
          "height": 286
        },
        "id": "Ji4Mu5M39m_Y",
        "outputId": "246b898b-47a2-47a7-ddeb-20d8624f64f7"
      },
      "execution_count": 45,
      "outputs": [
        {
          "output_type": "display_data",
          "data": {
            "text/html": [
              "<table class=\"dataframe\">\n",
              "<caption>A data.frame: 6 × 2</caption>\n",
              "<thead>\n",
              "\t<tr><th></th><th scope=col>AP_AUTORIZ</th><th scope=col>AP_CNSPCN</th></tr>\n",
              "\t<tr><th></th><th scope=col>&lt;fct&gt;</th><th scope=col>&lt;chr&gt;</th></tr>\n",
              "</thead>\n",
              "<tbody>\n",
              "\t<tr><th scope=row>344</th><td>5217203327765</td><td>109801621286415</td></tr>\n",
              "\t<tr><th scope=row>345</th><td>5217203183050</td><td>100405717722145</td></tr>\n",
              "\t<tr><th scope=row>346</th><td>5217203322628</td><td>383007002133371</td></tr>\n",
              "\t<tr><th scope=row>351</th><td>5218200226162</td><td>383009000960458</td></tr>\n",
              "\t<tr><th scope=row>352</th><td>5218200062010</td><td>383007087503755</td></tr>\n",
              "\t<tr><th scope=row>353</th><td>5217202866777</td><td>104304919345396</td></tr>\n",
              "</tbody>\n",
              "</table>\n"
            ],
            "text/markdown": "\nA data.frame: 6 × 2\n\n| <!--/--> | AP_AUTORIZ &lt;fct&gt; | AP_CNSPCN &lt;chr&gt; |\n|---|---|---|\n| 344 | 5217203327765 | 109801621286415 |\n| 345 | 5217203183050 | 100405717722145 |\n| 346 | 5217203322628 | 383007002133371 |\n| 351 | 5218200226162 | 383009000960458 |\n| 352 | 5218200062010 | 383007087503755 |\n| 353 | 5217202866777 | 104304919345396 |\n\n",
            "text/latex": "A data.frame: 6 × 2\n\\begin{tabular}{r|ll}\n  & AP\\_AUTORIZ & AP\\_CNSPCN\\\\\n  & <fct> & <chr>\\\\\n\\hline\n\t344 & 5217203327765 & 109801621286415\\\\\n\t345 & 5217203183050 & 100405717722145\\\\\n\t346 & 5217203322628 & 383007002133371\\\\\n\t351 & 5218200226162 & 383009000960458\\\\\n\t352 & 5218200062010 & 383007087503755\\\\\n\t353 & 5217202866777 & 104304919345396\\\\\n\\end{tabular}\n",
            "text/plain": [
              "    AP_AUTORIZ    AP_CNSPCN      \n",
              "344 5217203327765 109801621286415\n",
              "345 5217203183050 100405717722145\n",
              "346 5217203322628 383007002133371\n",
              "351 5218200226162 383009000960458\n",
              "352 5218200062010 383007087503755\n",
              "353 5217202866777 104304919345396"
            ]
          },
          "metadata": {}
        }
      ]
    },
    {
      "cell_type": "markdown",
      "source": [
        "### Junção do PA e AM\n",
        "\n",
        "A junção ocorre segundo código da autorização.\n",
        "Note a incorporação do atributo `AP_CNSPCN`.\n",
        "Se mais atributos forem necessários basta incorporar ao vetor do arquivo `AM`."
      ],
      "metadata": {
        "id": "2YHchETt977S"
      }
    },
    {
      "cell_type": "code",
      "source": [
        "      paam = merge(\n",
        "        pa, am2, \n",
        "        by.x=c(\"PA_AUTORIZ\"), \n",
        "        by.y=c(\"AP_AUTORIZ\"), \n",
        "        all.x = TRUE\n",
        "      )\n",
        "head(paam)      "
      ],
      "metadata": {
        "colab": {
          "base_uri": "https://localhost:8080/",
          "height": 286
        },
        "id": "xsnMEsP9-Hoy",
        "outputId": "4349a269-9b0a-4183-d7e5-d9eb78a7b817"
      },
      "execution_count": 46,
      "outputs": [
        {
          "output_type": "display_data",
          "data": {
            "text/html": [
              "<table class=\"dataframe\">\n",
              "<caption>A data.frame: 6 × 12</caption>\n",
              "<thead>\n",
              "\t<tr><th></th><th scope=col>PA_AUTORIZ</th><th scope=col>PA_CMP</th><th scope=col>PA_MVM</th><th scope=col>PA_CIDPRI</th><th scope=col>PA_CIDSEC</th><th scope=col>PA_PROC_ID</th><th scope=col>PA_QTDAPR</th><th scope=col>PA_SEXO</th><th scope=col>PA_IDADE</th><th scope=col>PA_MUNPCN</th><th scope=col>uf_processamento</th><th scope=col>AP_CNSPCN</th></tr>\n",
              "\t<tr><th></th><th scope=col>&lt;fct&gt;</th><th scope=col>&lt;fct&gt;</th><th scope=col>&lt;fct&gt;</th><th scope=col>&lt;fct&gt;</th><th scope=col>&lt;fct&gt;</th><th scope=col>&lt;fct&gt;</th><th scope=col>&lt;int&gt;</th><th scope=col>&lt;fct&gt;</th><th scope=col>&lt;fct&gt;</th><th scope=col>&lt;fct&gt;</th><th scope=col>&lt;chr&gt;</th><th scope=col>&lt;chr&gt;</th></tr>\n",
              "</thead>\n",
              "<tbody>\n",
              "\t<tr><th scope=row>1</th><td>5217202706364</td><td>201801</td><td>201801</td><td>M45</td><td>0000</td><td>0604380011</td><td>2</td><td>F</td><td>055</td><td>520110</td><td>GO</td><td>302757573627630</td></tr>\n",
              "\t<tr><th scope=row>2</th><td>5217202716407</td><td>201801</td><td>201801</td><td>M45</td><td>0000</td><td>0604380054</td><td>3</td><td>M</td><td>047</td><td>520485</td><td>GO</td><td>383002092492674</td></tr>\n",
              "\t<tr><th scope=row>3</th><td>5217202751365</td><td>201801</td><td>201801</td><td>M45</td><td>0000</td><td>0604380054</td><td>3</td><td>M</td><td>034</td><td>520110</td><td>GO</td><td>383000607699803</td></tr>\n",
              "\t<tr><th scope=row>4</th><td>5217202756403</td><td>201801</td><td>201801</td><td>M45</td><td>0000</td><td>0604380011</td><td>2</td><td>M</td><td>052</td><td>520110</td><td>GO</td><td>104001352026376</td></tr>\n",
              "\t<tr><th scope=row>5</th><td>5217202763003</td><td>201801</td><td>201801</td><td>M45</td><td>0000</td><td>0604380054</td><td>0</td><td>F</td><td>024</td><td>520110</td><td>GO</td><td>383009115157154</td></tr>\n",
              "\t<tr><th scope=row>6</th><td>5217202763400</td><td>201801</td><td>201801</td><td>M45</td><td>0000</td><td>0604380011</td><td>2</td><td>M</td><td>074</td><td>520030</td><td>GO</td><td>302757571373314</td></tr>\n",
              "</tbody>\n",
              "</table>\n"
            ],
            "text/markdown": "\nA data.frame: 6 × 12\n\n| <!--/--> | PA_AUTORIZ &lt;fct&gt; | PA_CMP &lt;fct&gt; | PA_MVM &lt;fct&gt; | PA_CIDPRI &lt;fct&gt; | PA_CIDSEC &lt;fct&gt; | PA_PROC_ID &lt;fct&gt; | PA_QTDAPR &lt;int&gt; | PA_SEXO &lt;fct&gt; | PA_IDADE &lt;fct&gt; | PA_MUNPCN &lt;fct&gt; | uf_processamento &lt;chr&gt; | AP_CNSPCN &lt;chr&gt; |\n|---|---|---|---|---|---|---|---|---|---|---|---|---|\n| 1 | 5217202706364 | 201801 | 201801 | M45 | 0000 | 0604380011 | 2 | F | 055 | 520110 | GO | 302757573627630 |\n| 2 | 5217202716407 | 201801 | 201801 | M45 | 0000 | 0604380054 | 3 | M | 047 | 520485 | GO | 383002092492674 |\n| 3 | 5217202751365 | 201801 | 201801 | M45 | 0000 | 0604380054 | 3 | M | 034 | 520110 | GO | 383000607699803 |\n| 4 | 5217202756403 | 201801 | 201801 | M45 | 0000 | 0604380011 | 2 | M | 052 | 520110 | GO | 104001352026376 |\n| 5 | 5217202763003 | 201801 | 201801 | M45 | 0000 | 0604380054 | 0 | F | 024 | 520110 | GO | 383009115157154 |\n| 6 | 5217202763400 | 201801 | 201801 | M45 | 0000 | 0604380011 | 2 | M | 074 | 520030 | GO | 302757571373314 |\n\n",
            "text/latex": "A data.frame: 6 × 12\n\\begin{tabular}{r|llllllllllll}\n  & PA\\_AUTORIZ & PA\\_CMP & PA\\_MVM & PA\\_CIDPRI & PA\\_CIDSEC & PA\\_PROC\\_ID & PA\\_QTDAPR & PA\\_SEXO & PA\\_IDADE & PA\\_MUNPCN & uf\\_processamento & AP\\_CNSPCN\\\\\n  & <fct> & <fct> & <fct> & <fct> & <fct> & <fct> & <int> & <fct> & <fct> & <fct> & <chr> & <chr>\\\\\n\\hline\n\t1 & 5217202706364 & 201801 & 201801 & M45 & 0000 & 0604380011 & 2 & F & 055 & 520110 & GO & 302757573627630\\\\\n\t2 & 5217202716407 & 201801 & 201801 & M45 & 0000 & 0604380054 & 3 & M & 047 & 520485 & GO & 383002092492674\\\\\n\t3 & 5217202751365 & 201801 & 201801 & M45 & 0000 & 0604380054 & 3 & M & 034 & 520110 & GO & 383000607699803\\\\\n\t4 & 5217202756403 & 201801 & 201801 & M45 & 0000 & 0604380011 & 2 & M & 052 & 520110 & GO & 104001352026376\\\\\n\t5 & 5217202763003 & 201801 & 201801 & M45 & 0000 & 0604380054 & 0 & F & 024 & 520110 & GO & 383009115157154\\\\\n\t6 & 5217202763400 & 201801 & 201801 & M45 & 0000 & 0604380011 & 2 & M & 074 & 520030 & GO & 302757571373314\\\\\n\\end{tabular}\n",
            "text/plain": [
              "  PA_AUTORIZ    PA_CMP PA_MVM PA_CIDPRI PA_CIDSEC PA_PROC_ID PA_QTDAPR PA_SEXO\n",
              "1 5217202706364 201801 201801 M45       0000      0604380011 2         F      \n",
              "2 5217202716407 201801 201801 M45       0000      0604380054 3         M      \n",
              "3 5217202751365 201801 201801 M45       0000      0604380054 3         M      \n",
              "4 5217202756403 201801 201801 M45       0000      0604380011 2         M      \n",
              "5 5217202763003 201801 201801 M45       0000      0604380054 0         F      \n",
              "6 5217202763400 201801 201801 M45       0000      0604380011 2         M      \n",
              "  PA_IDADE PA_MUNPCN uf_processamento AP_CNSPCN      \n",
              "1 055      520110    GO               302757573627630\n",
              "2 047      520485    GO               383002092492674\n",
              "3 034      520110    GO               383000607699803\n",
              "4 052      520110    GO               104001352026376\n",
              "5 024      520110    GO               383009115157154\n",
              "6 074      520030    GO               302757571373314"
            ]
          },
          "metadata": {}
        }
      ]
    },
    {
      "cell_type": "markdown",
      "source": [
        "Veja o código completo para baixar e integrar vários arquivos em\n",
        "\n",
        "https://github.com/labxss/curso_r/blob/main/dbc2csv_cursoR.R\n"
      ],
      "metadata": {
        "id": "9tMgpqrFBjkt"
      }
    },
    {
      "cell_type": "markdown",
      "source": [
        "# Modelagem de dados para cálculo do impacto orçamentário\n",
        "\n",
        "## Agregação anual para avaliação da quantidade aprovada e número de usuários\n",
        "\n",
        "A título de exemplo vamos carregar os dados de RR de 2018 a 2022. \n",
        "\n",
        "> A redução deve-se ao grande poder computacional necessário para processar os dados completos do território nacional, disponíveis a partir de 2008. O processamento completo em linguagem R requer um computador com maior capacidade computacional, em geral, 16 a 32GB de RAM e processador comparável ao i7 ou superior.\n",
        "\n",
        "Para facilitar a análise vamos atribuir uma sigla comum para o mesmo medicamento dotado de diferentes códigos."
      ],
      "metadata": {
        "id": "aXyuUmRZCosc"
      }
    },
    {
      "cell_type": "code",
      "source": [
        "options(scipen=999) # para evitar notacao cientifica\n",
        "paam_atendimento=read_csv(\"https://raw.githubusercontent.com/labxss/curso_r/main/csv/sia_pa_RR.csv\")\n",
        "paam_atendimento$ano=substr(paam_atendimento$PA_CMP,1,4)\n",
        "head(paam_atendimento)"
      ],
      "metadata": {
        "colab": {
          "base_uri": "https://localhost:8080/",
          "height": 460
        },
        "id": "QzToc7aEEhMR",
        "outputId": "da709b74-5cd7-48e5-eef3-de754424cdee"
      },
      "execution_count": 55,
      "outputs": [
        {
          "output_type": "stream",
          "name": "stderr",
          "text": [
            "\u001b[1m\u001b[22mNew names:\n",
            "\u001b[36m•\u001b[39m `` -> `...1`\n",
            "\u001b[1mRows: \u001b[22m\u001b[34m11123\u001b[39m \u001b[1mColumns: \u001b[22m\u001b[34m13\u001b[39m\n",
            "\u001b[36m──\u001b[39m \u001b[1mColumn specification\u001b[22m \u001b[36m────────────────────────────────────────────────────────\u001b[39m\n",
            "\u001b[1mDelimiter:\u001b[22m \",\"\n",
            "\u001b[31mchr\u001b[39m (6): PA_CIDPRI, PA_CIDSEC, PA_PROC_ID, PA_SEXO, PA_IDADE, uf_processamento\n",
            "\u001b[32mdbl\u001b[39m (7): ...1, PA_AUTORIZ, PA_CMP, PA_MVM, PA_QTDAPR, PA_MUNPCN, AP_CNSPCN\n",
            "\n",
            "\u001b[36mℹ\u001b[39m Use `spec()` to retrieve the full column specification for this data.\n",
            "\u001b[36mℹ\u001b[39m Specify the column types or set `show_col_types = FALSE` to quiet this message.\n"
          ]
        },
        {
          "output_type": "display_data",
          "data": {
            "text/html": [
              "<table class=\"dataframe\">\n",
              "<caption>A tibble: 6 × 14</caption>\n",
              "<thead>\n",
              "\t<tr><th scope=col>...1</th><th scope=col>PA_AUTORIZ</th><th scope=col>PA_CMP</th><th scope=col>PA_MVM</th><th scope=col>PA_CIDPRI</th><th scope=col>PA_CIDSEC</th><th scope=col>PA_PROC_ID</th><th scope=col>PA_QTDAPR</th><th scope=col>PA_SEXO</th><th scope=col>PA_IDADE</th><th scope=col>PA_MUNPCN</th><th scope=col>uf_processamento</th><th scope=col>AP_CNSPCN</th><th scope=col>ano</th></tr>\n",
              "\t<tr><th scope=col>&lt;dbl&gt;</th><th scope=col>&lt;dbl&gt;</th><th scope=col>&lt;dbl&gt;</th><th scope=col>&lt;dbl&gt;</th><th scope=col>&lt;chr&gt;</th><th scope=col>&lt;chr&gt;</th><th scope=col>&lt;chr&gt;</th><th scope=col>&lt;dbl&gt;</th><th scope=col>&lt;chr&gt;</th><th scope=col>&lt;chr&gt;</th><th scope=col>&lt;dbl&gt;</th><th scope=col>&lt;chr&gt;</th><th scope=col>&lt;dbl&gt;</th><th scope=col>&lt;chr&gt;</th></tr>\n",
              "</thead>\n",
              "<tbody>\n",
              "\t<tr><td>1</td><td>1417200234318</td><td>201801</td><td>201801</td><td>M45</td><td>0000</td><td>0604380038</td><td>4</td><td>M</td><td>058</td><td>140010</td><td>RR</td><td>383009108372738</td><td>2018</td></tr>\n",
              "\t<tr><td>2</td><td>1417200234550</td><td>201801</td><td>201801</td><td>M45</td><td>0000</td><td>0604380011</td><td>2</td><td>M</td><td>059</td><td>140045</td><td>RR</td><td>100007270425107</td><td>2018</td></tr>\n",
              "\t<tr><td>3</td><td>1417200234879</td><td>201801</td><td>201801</td><td>M45</td><td>0000</td><td>0604380011</td><td>0</td><td>M</td><td>025</td><td>140010</td><td>RR</td><td>109701576049550</td><td>2018</td></tr>\n",
              "\t<tr><td>4</td><td>1417200235176</td><td>201801</td><td>201801</td><td>M45</td><td>0000</td><td>0604380011</td><td>2</td><td>M</td><td>043</td><td>140010</td><td>RR</td><td>904308589800002</td><td>2018</td></tr>\n",
              "\t<tr><td>5</td><td>1417200236727</td><td>201801</td><td>201801</td><td>M45</td><td>0000</td><td>0604380011</td><td>2</td><td>M</td><td>017</td><td>140010</td><td>RR</td><td>383002280638112</td><td>2018</td></tr>\n",
              "\t<tr><td>6</td><td>1417200234318</td><td>201801</td><td>201801</td><td>M45</td><td>0000</td><td>0604380038</td><td>4</td><td>M</td><td>058</td><td>140010</td><td>RR</td><td>383009108372738</td><td>2018</td></tr>\n",
              "</tbody>\n",
              "</table>\n"
            ],
            "text/markdown": "\nA tibble: 6 × 14\n\n| ...1 &lt;dbl&gt; | PA_AUTORIZ &lt;dbl&gt; | PA_CMP &lt;dbl&gt; | PA_MVM &lt;dbl&gt; | PA_CIDPRI &lt;chr&gt; | PA_CIDSEC &lt;chr&gt; | PA_PROC_ID &lt;chr&gt; | PA_QTDAPR &lt;dbl&gt; | PA_SEXO &lt;chr&gt; | PA_IDADE &lt;chr&gt; | PA_MUNPCN &lt;dbl&gt; | uf_processamento &lt;chr&gt; | AP_CNSPCN &lt;dbl&gt; | ano &lt;chr&gt; |\n|---|---|---|---|---|---|---|---|---|---|---|---|---|---|\n| 1 | 1417200234318 | 201801 | 201801 | M45 | 0000 | 0604380038 | 4 | M | 058 | 140010 | RR | 383009108372738 | 2018 |\n| 2 | 1417200234550 | 201801 | 201801 | M45 | 0000 | 0604380011 | 2 | M | 059 | 140045 | RR | 100007270425107 | 2018 |\n| 3 | 1417200234879 | 201801 | 201801 | M45 | 0000 | 0604380011 | 0 | M | 025 | 140010 | RR | 109701576049550 | 2018 |\n| 4 | 1417200235176 | 201801 | 201801 | M45 | 0000 | 0604380011 | 2 | M | 043 | 140010 | RR | 904308589800002 | 2018 |\n| 5 | 1417200236727 | 201801 | 201801 | M45 | 0000 | 0604380011 | 2 | M | 017 | 140010 | RR | 383002280638112 | 2018 |\n| 6 | 1417200234318 | 201801 | 201801 | M45 | 0000 | 0604380038 | 4 | M | 058 | 140010 | RR | 383009108372738 | 2018 |\n\n",
            "text/latex": "A tibble: 6 × 14\n\\begin{tabular}{llllllllllllll}\n ...1 & PA\\_AUTORIZ & PA\\_CMP & PA\\_MVM & PA\\_CIDPRI & PA\\_CIDSEC & PA\\_PROC\\_ID & PA\\_QTDAPR & PA\\_SEXO & PA\\_IDADE & PA\\_MUNPCN & uf\\_processamento & AP\\_CNSPCN & ano\\\\\n <dbl> & <dbl> & <dbl> & <dbl> & <chr> & <chr> & <chr> & <dbl> & <chr> & <chr> & <dbl> & <chr> & <dbl> & <chr>\\\\\n\\hline\n\t 1 & 1417200234318 & 201801 & 201801 & M45 & 0000 & 0604380038 & 4 & M & 058 & 140010 & RR & 383009108372738 & 2018\\\\\n\t 2 & 1417200234550 & 201801 & 201801 & M45 & 0000 & 0604380011 & 2 & M & 059 & 140045 & RR & 100007270425107 & 2018\\\\\n\t 3 & 1417200234879 & 201801 & 201801 & M45 & 0000 & 0604380011 & 0 & M & 025 & 140010 & RR & 109701576049550 & 2018\\\\\n\t 4 & 1417200235176 & 201801 & 201801 & M45 & 0000 & 0604380011 & 2 & M & 043 & 140010 & RR & 904308589800002 & 2018\\\\\n\t 5 & 1417200236727 & 201801 & 201801 & M45 & 0000 & 0604380011 & 2 & M & 017 & 140010 & RR & 383002280638112 & 2018\\\\\n\t 6 & 1417200234318 & 201801 & 201801 & M45 & 0000 & 0604380038 & 4 & M & 058 & 140010 & RR & 383009108372738 & 2018\\\\\n\\end{tabular}\n",
            "text/plain": [
              "  ...1 PA_AUTORIZ    PA_CMP PA_MVM PA_CIDPRI PA_CIDSEC PA_PROC_ID PA_QTDAPR\n",
              "1 1    1417200234318 201801 201801 M45       0000      0604380038 4        \n",
              "2 2    1417200234550 201801 201801 M45       0000      0604380011 2        \n",
              "3 3    1417200234879 201801 201801 M45       0000      0604380011 0        \n",
              "4 4    1417200235176 201801 201801 M45       0000      0604380011 2        \n",
              "5 5    1417200236727 201801 201801 M45       0000      0604380011 2        \n",
              "6 6    1417200234318 201801 201801 M45       0000      0604380038 4        \n",
              "  PA_SEXO PA_IDADE PA_MUNPCN uf_processamento AP_CNSPCN       ano \n",
              "1 M       058      140010    RR               383009108372738 2018\n",
              "2 M       059      140045    RR               100007270425107 2018\n",
              "3 M       025      140010    RR               109701576049550 2018\n",
              "4 M       043      140010    RR               904308589800002 2018\n",
              "5 M       017      140010    RR               383002280638112 2018\n",
              "6 M       058      140010    RR               383009108372738 2018"
            ]
          },
          "metadata": {}
        }
      ]
    },
    {
      "cell_type": "markdown",
      "source": [
        "Assinalar uma siga para os diferentes códigos do medicamento."
      ],
      "metadata": {
        "id": "BloyemJZciBN"
      }
    },
    {
      "cell_type": "code",
      "source": [
        "paam_atendimento$medicamento=\"\"\n",
        "paam_atendimento$medicamento[paam_atendimento$PA_PROC_ID == '0601010019'] <- 'ADA'\n",
        "paam_atendimento$medicamento[paam_atendimento$PA_PROC_ID == '0601010019'] <- 'ADA'\n",
        "paam_atendimento$medicamento[paam_atendimento$PA_PROC_ID == '0604380127'] <- 'ADA'\n",
        "paam_atendimento$medicamento[paam_atendimento$PA_PROC_ID == '0604380097'] <- 'ADA'\n",
        "paam_atendimento$medicamento[paam_atendimento$PA_PROC_ID == '0604380011'] <- 'ADA'\n",
        "paam_atendimento$medicamento[paam_atendimento$PA_PROC_ID == '0604380062'] <- 'ADA'\n",
        "paam_atendimento$medicamento[paam_atendimento$PA_PROC_ID == '0604380135'] <- 'ADA'\n",
        "paam_atendimento$medicamento[paam_atendimento$PA_PROC_ID == '0604380070'] <- 'CER'\n",
        "paam_atendimento$medicamento[paam_atendimento$PA_PROC_ID == '0601010027'] <- 'ETA25'\n",
        "paam_atendimento$medicamento[paam_atendimento$PA_PROC_ID == '0604380020'] <- 'ETA25'\n",
        "paam_atendimento$medicamento[paam_atendimento$PA_PROC_ID == '0604380100'] <- 'ETA50'\n",
        "paam_atendimento$medicamento[paam_atendimento$PA_PROC_ID == '0604380038'] <- 'ETA50'\n",
        "paam_atendimento$medicamento[paam_atendimento$PA_PROC_ID == '0601010051'] <- 'ETA50'\n",
        "paam_atendimento$medicamento[paam_atendimento$PA_PROC_ID == '0604380089'] <- 'GOL'\n",
        "paam_atendimento$medicamento[paam_atendimento$PA_PROC_ID == '0601010035'] <- 'INF'\n",
        "paam_atendimento$medicamento[paam_atendimento$PA_PROC_ID == '0604380119'] <- 'INF'\n",
        "paam_atendimento$medicamento[paam_atendimento$PA_PROC_ID == '0601010043'] <- 'INF'\n",
        "paam_atendimento$medicamento[paam_atendimento$PA_PROC_ID == '0604380046'] <- 'INF'\n",
        "paam_atendimento$medicamento[paam_atendimento$PA_PROC_ID == '0604380054'] <- 'INF'\n",
        "paam_atendimento$medicamento[paam_atendimento$PA_PROC_ID == '0604690029'] <- 'SEC'\n",
        "\n",
        "head(paam_atendimento)"
      ],
      "metadata": {
        "colab": {
          "base_uri": "https://localhost:8080/",
          "height": 286
        },
        "id": "2HAH5b9Lco9S",
        "outputId": "2d90d892-683f-4761-9139-5b601320d4da"
      },
      "execution_count": 71,
      "outputs": [
        {
          "output_type": "display_data",
          "data": {
            "text/html": [
              "<table class=\"dataframe\">\n",
              "<caption>A tibble: 6 × 15</caption>\n",
              "<thead>\n",
              "\t<tr><th scope=col>...1</th><th scope=col>PA_AUTORIZ</th><th scope=col>PA_CMP</th><th scope=col>PA_MVM</th><th scope=col>PA_CIDPRI</th><th scope=col>PA_CIDSEC</th><th scope=col>PA_PROC_ID</th><th scope=col>PA_QTDAPR</th><th scope=col>PA_SEXO</th><th scope=col>PA_IDADE</th><th scope=col>PA_MUNPCN</th><th scope=col>uf_processamento</th><th scope=col>AP_CNSPCN</th><th scope=col>ano</th><th scope=col>medicamento</th></tr>\n",
              "\t<tr><th scope=col>&lt;dbl&gt;</th><th scope=col>&lt;dbl&gt;</th><th scope=col>&lt;dbl&gt;</th><th scope=col>&lt;dbl&gt;</th><th scope=col>&lt;chr&gt;</th><th scope=col>&lt;chr&gt;</th><th scope=col>&lt;chr&gt;</th><th scope=col>&lt;dbl&gt;</th><th scope=col>&lt;chr&gt;</th><th scope=col>&lt;chr&gt;</th><th scope=col>&lt;dbl&gt;</th><th scope=col>&lt;chr&gt;</th><th scope=col>&lt;dbl&gt;</th><th scope=col>&lt;chr&gt;</th><th scope=col>&lt;chr&gt;</th></tr>\n",
              "</thead>\n",
              "<tbody>\n",
              "\t<tr><td>1</td><td>1417200234318</td><td>201801</td><td>201801</td><td>M45</td><td>0000</td><td>0604380038</td><td>4</td><td>M</td><td>058</td><td>140010</td><td>RR</td><td>383009108372738</td><td>2018</td><td>ETA50</td></tr>\n",
              "\t<tr><td>2</td><td>1417200234550</td><td>201801</td><td>201801</td><td>M45</td><td>0000</td><td>0604380011</td><td>2</td><td>M</td><td>059</td><td>140045</td><td>RR</td><td>100007270425107</td><td>2018</td><td>ADA  </td></tr>\n",
              "\t<tr><td>3</td><td>1417200234879</td><td>201801</td><td>201801</td><td>M45</td><td>0000</td><td>0604380011</td><td>0</td><td>M</td><td>025</td><td>140010</td><td>RR</td><td>109701576049550</td><td>2018</td><td>ADA  </td></tr>\n",
              "\t<tr><td>4</td><td>1417200235176</td><td>201801</td><td>201801</td><td>M45</td><td>0000</td><td>0604380011</td><td>2</td><td>M</td><td>043</td><td>140010</td><td>RR</td><td>904308589800002</td><td>2018</td><td>ADA  </td></tr>\n",
              "\t<tr><td>5</td><td>1417200236727</td><td>201801</td><td>201801</td><td>M45</td><td>0000</td><td>0604380011</td><td>2</td><td>M</td><td>017</td><td>140010</td><td>RR</td><td>383002280638112</td><td>2018</td><td>ADA  </td></tr>\n",
              "\t<tr><td>6</td><td>1417200234318</td><td>201801</td><td>201801</td><td>M45</td><td>0000</td><td>0604380038</td><td>4</td><td>M</td><td>058</td><td>140010</td><td>RR</td><td>383009108372738</td><td>2018</td><td>ETA50</td></tr>\n",
              "</tbody>\n",
              "</table>\n"
            ],
            "text/markdown": "\nA tibble: 6 × 15\n\n| ...1 &lt;dbl&gt; | PA_AUTORIZ &lt;dbl&gt; | PA_CMP &lt;dbl&gt; | PA_MVM &lt;dbl&gt; | PA_CIDPRI &lt;chr&gt; | PA_CIDSEC &lt;chr&gt; | PA_PROC_ID &lt;chr&gt; | PA_QTDAPR &lt;dbl&gt; | PA_SEXO &lt;chr&gt; | PA_IDADE &lt;chr&gt; | PA_MUNPCN &lt;dbl&gt; | uf_processamento &lt;chr&gt; | AP_CNSPCN &lt;dbl&gt; | ano &lt;chr&gt; | medicamento &lt;chr&gt; |\n|---|---|---|---|---|---|---|---|---|---|---|---|---|---|---|\n| 1 | 1417200234318 | 201801 | 201801 | M45 | 0000 | 0604380038 | 4 | M | 058 | 140010 | RR | 383009108372738 | 2018 | ETA50 |\n| 2 | 1417200234550 | 201801 | 201801 | M45 | 0000 | 0604380011 | 2 | M | 059 | 140045 | RR | 100007270425107 | 2018 | ADA   |\n| 3 | 1417200234879 | 201801 | 201801 | M45 | 0000 | 0604380011 | 0 | M | 025 | 140010 | RR | 109701576049550 | 2018 | ADA   |\n| 4 | 1417200235176 | 201801 | 201801 | M45 | 0000 | 0604380011 | 2 | M | 043 | 140010 | RR | 904308589800002 | 2018 | ADA   |\n| 5 | 1417200236727 | 201801 | 201801 | M45 | 0000 | 0604380011 | 2 | M | 017 | 140010 | RR | 383002280638112 | 2018 | ADA   |\n| 6 | 1417200234318 | 201801 | 201801 | M45 | 0000 | 0604380038 | 4 | M | 058 | 140010 | RR | 383009108372738 | 2018 | ETA50 |\n\n",
            "text/latex": "A tibble: 6 × 15\n\\begin{tabular}{lllllllllllllll}\n ...1 & PA\\_AUTORIZ & PA\\_CMP & PA\\_MVM & PA\\_CIDPRI & PA\\_CIDSEC & PA\\_PROC\\_ID & PA\\_QTDAPR & PA\\_SEXO & PA\\_IDADE & PA\\_MUNPCN & uf\\_processamento & AP\\_CNSPCN & ano & medicamento\\\\\n <dbl> & <dbl> & <dbl> & <dbl> & <chr> & <chr> & <chr> & <dbl> & <chr> & <chr> & <dbl> & <chr> & <dbl> & <chr> & <chr>\\\\\n\\hline\n\t 1 & 1417200234318 & 201801 & 201801 & M45 & 0000 & 0604380038 & 4 & M & 058 & 140010 & RR & 383009108372738 & 2018 & ETA50\\\\\n\t 2 & 1417200234550 & 201801 & 201801 & M45 & 0000 & 0604380011 & 2 & M & 059 & 140045 & RR & 100007270425107 & 2018 & ADA  \\\\\n\t 3 & 1417200234879 & 201801 & 201801 & M45 & 0000 & 0604380011 & 0 & M & 025 & 140010 & RR & 109701576049550 & 2018 & ADA  \\\\\n\t 4 & 1417200235176 & 201801 & 201801 & M45 & 0000 & 0604380011 & 2 & M & 043 & 140010 & RR & 904308589800002 & 2018 & ADA  \\\\\n\t 5 & 1417200236727 & 201801 & 201801 & M45 & 0000 & 0604380011 & 2 & M & 017 & 140010 & RR & 383002280638112 & 2018 & ADA  \\\\\n\t 6 & 1417200234318 & 201801 & 201801 & M45 & 0000 & 0604380038 & 4 & M & 058 & 140010 & RR & 383009108372738 & 2018 & ETA50\\\\\n\\end{tabular}\n",
            "text/plain": [
              "  ...1 PA_AUTORIZ    PA_CMP PA_MVM PA_CIDPRI PA_CIDSEC PA_PROC_ID PA_QTDAPR\n",
              "1 1    1417200234318 201801 201801 M45       0000      0604380038 4        \n",
              "2 2    1417200234550 201801 201801 M45       0000      0604380011 2        \n",
              "3 3    1417200234879 201801 201801 M45       0000      0604380011 0        \n",
              "4 4    1417200235176 201801 201801 M45       0000      0604380011 2        \n",
              "5 5    1417200236727 201801 201801 M45       0000      0604380011 2        \n",
              "6 6    1417200234318 201801 201801 M45       0000      0604380038 4        \n",
              "  PA_SEXO PA_IDADE PA_MUNPCN uf_processamento AP_CNSPCN       ano  medicamento\n",
              "1 M       058      140010    RR               383009108372738 2018 ETA50      \n",
              "2 M       059      140045    RR               100007270425107 2018 ADA        \n",
              "3 M       025      140010    RR               109701576049550 2018 ADA        \n",
              "4 M       043      140010    RR               904308589800002 2018 ADA        \n",
              "5 M       017      140010    RR               383002280638112 2018 ADA        \n",
              "6 M       058      140010    RR               383009108372738 2018 ETA50      "
            ]
          },
          "metadata": {}
        }
      ]
    },
    {
      "cell_type": "markdown",
      "source": [
        "Uma vez a tabela carregada na variável **paam_atendimento**, onde cada linha representa um atendimento, é necessário extrair o ano do mês de competência **PA_CMP** em função do procedimento SIGTAP **PA_PROC_ID**, somando a quantidade aprovada **PA_QTDAPR** e contando o número de usuários distintos **AP_CNSPCN**."
      ],
      "metadata": {
        "id": "ZDhpWIAxQhEz"
      }
    },
    {
      "cell_type": "code",
      "source": [
        "\n",
        "\n",
        "quantidade=aggregate(\n",
        "  PA_QTDAPR ~ ano + medicamento, \n",
        "  data = paam_atendimento, \n",
        "  FUN = sum, \n",
        "  na.rm = TRUE\n",
        ")\n",
        "head(quantidade,20)\n",
        "\n",
        "\n",
        "\n",
        "\n"
      ],
      "metadata": {
        "colab": {
          "base_uri": "https://localhost:8080/",
          "height": 600
        },
        "id": "7aNWxsdcRLHZ",
        "outputId": "dec0ff8b-958b-4c0d-a18a-b455838ccfab"
      },
      "execution_count": 72,
      "outputs": [
        {
          "output_type": "display_data",
          "data": {
            "text/html": [
              "<table class=\"dataframe\">\n",
              "<caption>A data.frame: 16 × 3</caption>\n",
              "<thead>\n",
              "\t<tr><th></th><th scope=col>ano</th><th scope=col>medicamento</th><th scope=col>PA_QTDAPR</th></tr>\n",
              "\t<tr><th></th><th scope=col>&lt;chr&gt;</th><th scope=col>&lt;chr&gt;</th><th scope=col>&lt;dbl&gt;</th></tr>\n",
              "</thead>\n",
              "<tbody>\n",
              "\t<tr><th scope=row>1</th><td>2018</td><td>ADA  </td><td>3358</td></tr>\n",
              "\t<tr><th scope=row>2</th><td>2019</td><td>ADA  </td><td>4227</td></tr>\n",
              "\t<tr><th scope=row>3</th><td>2020</td><td>ADA  </td><td>3356</td></tr>\n",
              "\t<tr><th scope=row>4</th><td>2021</td><td>ADA  </td><td>2812</td></tr>\n",
              "\t<tr><th scope=row>5</th><td>2022</td><td>ADA  </td><td>1514</td></tr>\n",
              "\t<tr><th scope=row>6</th><td>2022</td><td>CER  </td><td> 118</td></tr>\n",
              "\t<tr><th scope=row>7</th><td>2018</td><td>ETA50</td><td> 876</td></tr>\n",
              "\t<tr><th scope=row>8</th><td>2019</td><td>ETA50</td><td> 872</td></tr>\n",
              "\t<tr><th scope=row>9</th><td>2020</td><td>ETA50</td><td>1240</td></tr>\n",
              "\t<tr><th scope=row>10</th><td>2021</td><td>ETA50</td><td> 360</td></tr>\n",
              "\t<tr><th scope=row>11</th><td>2022</td><td>ETA50</td><td>  92</td></tr>\n",
              "\t<tr><th scope=row>12</th><td>2022</td><td>GOL  </td><td>  18</td></tr>\n",
              "\t<tr><th scope=row>13</th><td>2019</td><td>SEC  </td><td> 299</td></tr>\n",
              "\t<tr><th scope=row>14</th><td>2020</td><td>SEC  </td><td> 596</td></tr>\n",
              "\t<tr><th scope=row>15</th><td>2021</td><td>SEC  </td><td> 584</td></tr>\n",
              "\t<tr><th scope=row>16</th><td>2022</td><td>SEC  </td><td> 114</td></tr>\n",
              "</tbody>\n",
              "</table>\n"
            ],
            "text/markdown": "\nA data.frame: 16 × 3\n\n| <!--/--> | ano &lt;chr&gt; | medicamento &lt;chr&gt; | PA_QTDAPR &lt;dbl&gt; |\n|---|---|---|---|\n| 1 | 2018 | ADA   | 3358 |\n| 2 | 2019 | ADA   | 4227 |\n| 3 | 2020 | ADA   | 3356 |\n| 4 | 2021 | ADA   | 2812 |\n| 5 | 2022 | ADA   | 1514 |\n| 6 | 2022 | CER   |  118 |\n| 7 | 2018 | ETA50 |  876 |\n| 8 | 2019 | ETA50 |  872 |\n| 9 | 2020 | ETA50 | 1240 |\n| 10 | 2021 | ETA50 |  360 |\n| 11 | 2022 | ETA50 |   92 |\n| 12 | 2022 | GOL   |   18 |\n| 13 | 2019 | SEC   |  299 |\n| 14 | 2020 | SEC   |  596 |\n| 15 | 2021 | SEC   |  584 |\n| 16 | 2022 | SEC   |  114 |\n\n",
            "text/latex": "A data.frame: 16 × 3\n\\begin{tabular}{r|lll}\n  & ano & medicamento & PA\\_QTDAPR\\\\\n  & <chr> & <chr> & <dbl>\\\\\n\\hline\n\t1 & 2018 & ADA   & 3358\\\\\n\t2 & 2019 & ADA   & 4227\\\\\n\t3 & 2020 & ADA   & 3356\\\\\n\t4 & 2021 & ADA   & 2812\\\\\n\t5 & 2022 & ADA   & 1514\\\\\n\t6 & 2022 & CER   &  118\\\\\n\t7 & 2018 & ETA50 &  876\\\\\n\t8 & 2019 & ETA50 &  872\\\\\n\t9 & 2020 & ETA50 & 1240\\\\\n\t10 & 2021 & ETA50 &  360\\\\\n\t11 & 2022 & ETA50 &   92\\\\\n\t12 & 2022 & GOL   &   18\\\\\n\t13 & 2019 & SEC   &  299\\\\\n\t14 & 2020 & SEC   &  596\\\\\n\t15 & 2021 & SEC   &  584\\\\\n\t16 & 2022 & SEC   &  114\\\\\n\\end{tabular}\n",
            "text/plain": [
              "   ano  medicamento PA_QTDAPR\n",
              "1  2018 ADA         3358     \n",
              "2  2019 ADA         4227     \n",
              "3  2020 ADA         3356     \n",
              "4  2021 ADA         2812     \n",
              "5  2022 ADA         1514     \n",
              "6  2022 CER          118     \n",
              "7  2018 ETA50        876     \n",
              "8  2019 ETA50        872     \n",
              "9  2020 ETA50       1240     \n",
              "10 2021 ETA50        360     \n",
              "11 2022 ETA50         92     \n",
              "12 2022 GOL           18     \n",
              "13 2019 SEC          299     \n",
              "14 2020 SEC          596     \n",
              "15 2021 SEC          584     \n",
              "16 2022 SEC          114     "
            ]
          },
          "metadata": {}
        }
      ]
    },
    {
      "cell_type": "code",
      "source": [
        "usuarios=aggregate(\n",
        "  AP_CNSPCN ~ ano + medicamento, \n",
        "  data = paam_atendimento, \n",
        "  function(x) length(unique(x))\n",
        ")\n",
        "head(usuarios,20)"
      ],
      "metadata": {
        "colab": {
          "base_uri": "https://localhost:8080/",
          "height": 600
        },
        "id": "yhDxqRvFUMWK",
        "outputId": "8f958e9d-e40d-4f2d-8903-72c7559b03ad"
      },
      "execution_count": 73,
      "outputs": [
        {
          "output_type": "display_data",
          "data": {
            "text/html": [
              "<table class=\"dataframe\">\n",
              "<caption>A data.frame: 16 × 3</caption>\n",
              "<thead>\n",
              "\t<tr><th></th><th scope=col>ano</th><th scope=col>medicamento</th><th scope=col>AP_CNSPCN</th></tr>\n",
              "\t<tr><th></th><th scope=col>&lt;chr&gt;</th><th scope=col>&lt;chr&gt;</th><th scope=col>&lt;int&gt;</th></tr>\n",
              "</thead>\n",
              "<tbody>\n",
              "\t<tr><th scope=row>1</th><td>2018</td><td>ADA  </td><td> 5</td></tr>\n",
              "\t<tr><th scope=row>2</th><td>2019</td><td>ADA  </td><td>10</td></tr>\n",
              "\t<tr><th scope=row>3</th><td>2020</td><td>ADA  </td><td>11</td></tr>\n",
              "\t<tr><th scope=row>4</th><td>2021</td><td>ADA  </td><td>18</td></tr>\n",
              "\t<tr><th scope=row>5</th><td>2022</td><td>ADA  </td><td>24</td></tr>\n",
              "\t<tr><th scope=row>6</th><td>2022</td><td>CER  </td><td> 1</td></tr>\n",
              "\t<tr><th scope=row>7</th><td>2018</td><td>ETA50</td><td> 2</td></tr>\n",
              "\t<tr><th scope=row>8</th><td>2019</td><td>ETA50</td><td> 1</td></tr>\n",
              "\t<tr><th scope=row>9</th><td>2020</td><td>ETA50</td><td> 1</td></tr>\n",
              "\t<tr><th scope=row>10</th><td>2021</td><td>ETA50</td><td> 1</td></tr>\n",
              "\t<tr><th scope=row>11</th><td>2022</td><td>ETA50</td><td> 1</td></tr>\n",
              "\t<tr><th scope=row>12</th><td>2022</td><td>GOL  </td><td> 1</td></tr>\n",
              "\t<tr><th scope=row>13</th><td>2019</td><td>SEC  </td><td> 1</td></tr>\n",
              "\t<tr><th scope=row>14</th><td>2020</td><td>SEC  </td><td> 1</td></tr>\n",
              "\t<tr><th scope=row>15</th><td>2021</td><td>SEC  </td><td> 2</td></tr>\n",
              "\t<tr><th scope=row>16</th><td>2022</td><td>SEC  </td><td> 1</td></tr>\n",
              "</tbody>\n",
              "</table>\n"
            ],
            "text/markdown": "\nA data.frame: 16 × 3\n\n| <!--/--> | ano &lt;chr&gt; | medicamento &lt;chr&gt; | AP_CNSPCN &lt;int&gt; |\n|---|---|---|---|\n| 1 | 2018 | ADA   |  5 |\n| 2 | 2019 | ADA   | 10 |\n| 3 | 2020 | ADA   | 11 |\n| 4 | 2021 | ADA   | 18 |\n| 5 | 2022 | ADA   | 24 |\n| 6 | 2022 | CER   |  1 |\n| 7 | 2018 | ETA50 |  2 |\n| 8 | 2019 | ETA50 |  1 |\n| 9 | 2020 | ETA50 |  1 |\n| 10 | 2021 | ETA50 |  1 |\n| 11 | 2022 | ETA50 |  1 |\n| 12 | 2022 | GOL   |  1 |\n| 13 | 2019 | SEC   |  1 |\n| 14 | 2020 | SEC   |  1 |\n| 15 | 2021 | SEC   |  2 |\n| 16 | 2022 | SEC   |  1 |\n\n",
            "text/latex": "A data.frame: 16 × 3\n\\begin{tabular}{r|lll}\n  & ano & medicamento & AP\\_CNSPCN\\\\\n  & <chr> & <chr> & <int>\\\\\n\\hline\n\t1 & 2018 & ADA   &  5\\\\\n\t2 & 2019 & ADA   & 10\\\\\n\t3 & 2020 & ADA   & 11\\\\\n\t4 & 2021 & ADA   & 18\\\\\n\t5 & 2022 & ADA   & 24\\\\\n\t6 & 2022 & CER   &  1\\\\\n\t7 & 2018 & ETA50 &  2\\\\\n\t8 & 2019 & ETA50 &  1\\\\\n\t9 & 2020 & ETA50 &  1\\\\\n\t10 & 2021 & ETA50 &  1\\\\\n\t11 & 2022 & ETA50 &  1\\\\\n\t12 & 2022 & GOL   &  1\\\\\n\t13 & 2019 & SEC   &  1\\\\\n\t14 & 2020 & SEC   &  1\\\\\n\t15 & 2021 & SEC   &  2\\\\\n\t16 & 2022 & SEC   &  1\\\\\n\\end{tabular}\n",
            "text/plain": [
              "   ano  medicamento AP_CNSPCN\n",
              "1  2018 ADA          5       \n",
              "2  2019 ADA         10       \n",
              "3  2020 ADA         11       \n",
              "4  2021 ADA         18       \n",
              "5  2022 ADA         24       \n",
              "6  2022 CER          1       \n",
              "7  2018 ETA50        2       \n",
              "8  2019 ETA50        1       \n",
              "9  2020 ETA50        1       \n",
              "10 2021 ETA50        1       \n",
              "11 2022 ETA50        1       \n",
              "12 2022 GOL          1       \n",
              "13 2019 SEC          1       \n",
              "14 2020 SEC          1       \n",
              "15 2021 SEC          2       \n",
              "16 2022 SEC          1       "
            ]
          },
          "metadata": {}
        }
      ]
    },
    {
      "cell_type": "code",
      "source": [
        "      paam_anual = merge(\n",
        "        usuarios, quantidade, \n",
        "        by.x=c(\"ano\",\"medicamento\"), \n",
        "        by.y=c(\"ano\",\"medicamento\"), \n",
        "        all.x = TRUE\n",
        "      )\n",
        "paam_anual"
      ],
      "metadata": {
        "colab": {
          "base_uri": "https://localhost:8080/",
          "height": 600
        },
        "id": "5yMcCAfYUtZx",
        "outputId": "e56b54aa-d294-4528-9ce0-4c2f3a5fa7bf"
      },
      "execution_count": 84,
      "outputs": [
        {
          "output_type": "display_data",
          "data": {
            "text/html": [
              "<table class=\"dataframe\">\n",
              "<caption>A data.frame: 16 × 4</caption>\n",
              "<thead>\n",
              "\t<tr><th scope=col>ano</th><th scope=col>medicamento</th><th scope=col>AP_CNSPCN</th><th scope=col>PA_QTDAPR</th></tr>\n",
              "\t<tr><th scope=col>&lt;chr&gt;</th><th scope=col>&lt;chr&gt;</th><th scope=col>&lt;int&gt;</th><th scope=col>&lt;dbl&gt;</th></tr>\n",
              "</thead>\n",
              "<tbody>\n",
              "\t<tr><td>2018</td><td>ADA  </td><td> 5</td><td>3358</td></tr>\n",
              "\t<tr><td>2018</td><td>ETA50</td><td> 2</td><td> 876</td></tr>\n",
              "\t<tr><td>2019</td><td>ADA  </td><td>10</td><td>4227</td></tr>\n",
              "\t<tr><td>2019</td><td>ETA50</td><td> 1</td><td> 872</td></tr>\n",
              "\t<tr><td>2019</td><td>SEC  </td><td> 1</td><td> 299</td></tr>\n",
              "\t<tr><td>2020</td><td>ADA  </td><td>11</td><td>3356</td></tr>\n",
              "\t<tr><td>2020</td><td>ETA50</td><td> 1</td><td>1240</td></tr>\n",
              "\t<tr><td>2020</td><td>SEC  </td><td> 1</td><td> 596</td></tr>\n",
              "\t<tr><td>2021</td><td>ADA  </td><td>18</td><td>2812</td></tr>\n",
              "\t<tr><td>2021</td><td>ETA50</td><td> 1</td><td> 360</td></tr>\n",
              "\t<tr><td>2021</td><td>SEC  </td><td> 2</td><td> 584</td></tr>\n",
              "\t<tr><td>2022</td><td>ADA  </td><td>24</td><td>1514</td></tr>\n",
              "\t<tr><td>2022</td><td>CER  </td><td> 1</td><td> 118</td></tr>\n",
              "\t<tr><td>2022</td><td>ETA50</td><td> 1</td><td>  92</td></tr>\n",
              "\t<tr><td>2022</td><td>GOL  </td><td> 1</td><td>  18</td></tr>\n",
              "\t<tr><td>2022</td><td>SEC  </td><td> 1</td><td> 114</td></tr>\n",
              "</tbody>\n",
              "</table>\n"
            ],
            "text/markdown": "\nA data.frame: 16 × 4\n\n| ano &lt;chr&gt; | medicamento &lt;chr&gt; | AP_CNSPCN &lt;int&gt; | PA_QTDAPR &lt;dbl&gt; |\n|---|---|---|---|\n| 2018 | ADA   |  5 | 3358 |\n| 2018 | ETA50 |  2 |  876 |\n| 2019 | ADA   | 10 | 4227 |\n| 2019 | ETA50 |  1 |  872 |\n| 2019 | SEC   |  1 |  299 |\n| 2020 | ADA   | 11 | 3356 |\n| 2020 | ETA50 |  1 | 1240 |\n| 2020 | SEC   |  1 |  596 |\n| 2021 | ADA   | 18 | 2812 |\n| 2021 | ETA50 |  1 |  360 |\n| 2021 | SEC   |  2 |  584 |\n| 2022 | ADA   | 24 | 1514 |\n| 2022 | CER   |  1 |  118 |\n| 2022 | ETA50 |  1 |   92 |\n| 2022 | GOL   |  1 |   18 |\n| 2022 | SEC   |  1 |  114 |\n\n",
            "text/latex": "A data.frame: 16 × 4\n\\begin{tabular}{llll}\n ano & medicamento & AP\\_CNSPCN & PA\\_QTDAPR\\\\\n <chr> & <chr> & <int> & <dbl>\\\\\n\\hline\n\t 2018 & ADA   &  5 & 3358\\\\\n\t 2018 & ETA50 &  2 &  876\\\\\n\t 2019 & ADA   & 10 & 4227\\\\\n\t 2019 & ETA50 &  1 &  872\\\\\n\t 2019 & SEC   &  1 &  299\\\\\n\t 2020 & ADA   & 11 & 3356\\\\\n\t 2020 & ETA50 &  1 & 1240\\\\\n\t 2020 & SEC   &  1 &  596\\\\\n\t 2021 & ADA   & 18 & 2812\\\\\n\t 2021 & ETA50 &  1 &  360\\\\\n\t 2021 & SEC   &  2 &  584\\\\\n\t 2022 & ADA   & 24 & 1514\\\\\n\t 2022 & CER   &  1 &  118\\\\\n\t 2022 & ETA50 &  1 &   92\\\\\n\t 2022 & GOL   &  1 &   18\\\\\n\t 2022 & SEC   &  1 &  114\\\\\n\\end{tabular}\n",
            "text/plain": [
              "   ano  medicamento AP_CNSPCN PA_QTDAPR\n",
              "1  2018 ADA          5        3358     \n",
              "2  2018 ETA50        2         876     \n",
              "3  2019 ADA         10        4227     \n",
              "4  2019 ETA50        1         872     \n",
              "5  2019 SEC          1         299     \n",
              "6  2020 ADA         11        3356     \n",
              "7  2020 ETA50        1        1240     \n",
              "8  2020 SEC          1         596     \n",
              "9  2021 ADA         18        2812     \n",
              "10 2021 ETA50        1         360     \n",
              "11 2021 SEC          2         584     \n",
              "12 2022 ADA         24        1514     \n",
              "13 2022 CER          1         118     \n",
              "14 2022 ETA50        1          92     \n",
              "15 2022 GOL          1          18     \n",
              "16 2022 SEC          1         114     "
            ]
          },
          "metadata": {}
        }
      ]
    },
    {
      "cell_type": "markdown",
      "source": [
        "Agora vamos imputar o valor médio unitário multiplicado pela quantidade aprovada.\n",
        "\n",
        "Aqui foi utilizada a média ponderada (soma da quantidade todal adquirida)\n"
      ],
      "metadata": {
        "id": "KhJs0WBcuema"
      }
    },
    {
      "cell_type": "code",
      "source": [
        "valor=read_csv(\"https://raw.githubusercontent.com/labxss/curso_r/main/bps_valor_unitario.csv\")\n",
        "valor\n",
        "\n",
        "\n",
        "\n"
      ],
      "metadata": {
        "colab": {
          "base_uri": "https://localhost:8080/",
          "height": 595
        },
        "id": "NE27aNZ9muwf",
        "outputId": "aec5c4e7-8a9a-4eb7-8ada-9f8bc526eff9"
      },
      "execution_count": 82,
      "outputs": [
        {
          "output_type": "stream",
          "name": "stderr",
          "text": [
            "\u001b[1mRows: \u001b[22m\u001b[34m7\u001b[39m \u001b[1mColumns: \u001b[22m\u001b[34m6\u001b[39m\n",
            "\u001b[36m──\u001b[39m \u001b[1mColumn specification\u001b[22m \u001b[36m────────────────────────────────────────────────────────\u001b[39m\n",
            "\u001b[1mDelimiter:\u001b[22m \",\"\n",
            "\u001b[31mchr\u001b[39m (1): medicamento\n",
            "\u001b[32mdbl\u001b[39m (5): bps2018, bps2019, bps2020, bps2021, bps2022\n",
            "\n",
            "\u001b[36mℹ\u001b[39m Use `spec()` to retrieve the full column specification for this data.\n",
            "\u001b[36mℹ\u001b[39m Specify the column types or set `show_col_types = FALSE` to quiet this message.\n"
          ]
        },
        {
          "output_type": "display_data",
          "data": {
            "text/html": [
              "<table class=\"dataframe\">\n",
              "<caption>A spec_tbl_df: 7 × 6</caption>\n",
              "<thead>\n",
              "\t<tr><th scope=col>medicamento</th><th scope=col>bps2018</th><th scope=col>bps2019</th><th scope=col>bps2020</th><th scope=col>bps2021</th><th scope=col>bps2022</th></tr>\n",
              "\t<tr><th scope=col>&lt;chr&gt;</th><th scope=col>&lt;dbl&gt;</th><th scope=col>&lt;dbl&gt;</th><th scope=col>&lt;dbl&gt;</th><th scope=col>&lt;dbl&gt;</th><th scope=col>&lt;dbl&gt;</th></tr>\n",
              "</thead>\n",
              "<tbody>\n",
              "\t<tr><td>ADA  </td><td>2532.56</td><td>2555.51</td><td>1628.34</td><td> 701.16</td><td> 507.62</td></tr>\n",
              "\t<tr><td>CER  </td><td> 644.15</td><td> 664.33</td><td> 669.37</td><td> 674.41</td><td> 731.51</td></tr>\n",
              "\t<tr><td>ETA25</td><td> 707.29</td><td> 776.28</td><td> 792.96</td><td> 809.64</td><td> 714.88</td></tr>\n",
              "\t<tr><td>ETA50</td><td>1435.36</td><td>1493.86</td><td>1089.86</td><td> 685.86</td><td> 410.41</td></tr>\n",
              "\t<tr><td>GOL  </td><td>2403.40</td><td>2531.98</td><td>2575.76</td><td>2619.54</td><td>2786.35</td></tr>\n",
              "\t<tr><td>INF  </td><td>1649.50</td><td>1711.12</td><td>1680.33</td><td>1649.54</td><td> 940.16</td></tr>\n",
              "\t<tr><td>SEC  </td><td>2598.98</td><td>2366.09</td><td>2786.01</td><td>3205.94</td><td>2437.32</td></tr>\n",
              "</tbody>\n",
              "</table>\n"
            ],
            "text/markdown": "\nA spec_tbl_df: 7 × 6\n\n| medicamento &lt;chr&gt; | bps2018 &lt;dbl&gt; | bps2019 &lt;dbl&gt; | bps2020 &lt;dbl&gt; | bps2021 &lt;dbl&gt; | bps2022 &lt;dbl&gt; |\n|---|---|---|---|---|---|\n| ADA   | 2532.56 | 2555.51 | 1628.34 |  701.16 |  507.62 |\n| CER   |  644.15 |  664.33 |  669.37 |  674.41 |  731.51 |\n| ETA25 |  707.29 |  776.28 |  792.96 |  809.64 |  714.88 |\n| ETA50 | 1435.36 | 1493.86 | 1089.86 |  685.86 |  410.41 |\n| GOL   | 2403.40 | 2531.98 | 2575.76 | 2619.54 | 2786.35 |\n| INF   | 1649.50 | 1711.12 | 1680.33 | 1649.54 |  940.16 |\n| SEC   | 2598.98 | 2366.09 | 2786.01 | 3205.94 | 2437.32 |\n\n",
            "text/latex": "A spec\\_tbl\\_df: 7 × 6\n\\begin{tabular}{llllll}\n medicamento & bps2018 & bps2019 & bps2020 & bps2021 & bps2022\\\\\n <chr> & <dbl> & <dbl> & <dbl> & <dbl> & <dbl>\\\\\n\\hline\n\t ADA   & 2532.56 & 2555.51 & 1628.34 &  701.16 &  507.62\\\\\n\t CER   &  644.15 &  664.33 &  669.37 &  674.41 &  731.51\\\\\n\t ETA25 &  707.29 &  776.28 &  792.96 &  809.64 &  714.88\\\\\n\t ETA50 & 1435.36 & 1493.86 & 1089.86 &  685.86 &  410.41\\\\\n\t GOL   & 2403.40 & 2531.98 & 2575.76 & 2619.54 & 2786.35\\\\\n\t INF   & 1649.50 & 1711.12 & 1680.33 & 1649.54 &  940.16\\\\\n\t SEC   & 2598.98 & 2366.09 & 2786.01 & 3205.94 & 2437.32\\\\\n\\end{tabular}\n",
            "text/plain": [
              "  medicamento bps2018 bps2019 bps2020 bps2021 bps2022\n",
              "1 ADA         2532.56 2555.51 1628.34  701.16  507.62\n",
              "2 CER          644.15  664.33  669.37  674.41  731.51\n",
              "3 ETA25        707.29  776.28  792.96  809.64  714.88\n",
              "4 ETA50       1435.36 1493.86 1089.86  685.86  410.41\n",
              "5 GOL         2403.40 2531.98 2575.76 2619.54 2786.35\n",
              "6 INF         1649.50 1711.12 1680.33 1649.54  940.16\n",
              "7 SEC         2598.98 2366.09 2786.01 3205.94 2437.32"
            ]
          },
          "metadata": {}
        },
        {
          "output_type": "stream",
          "name": "stderr",
          "text": [
            "\u001b[1mRows: \u001b[22m\u001b[34m35\u001b[39m \u001b[1mColumns: \u001b[22m\u001b[34m3\u001b[39m\n",
            "\u001b[36m──\u001b[39m \u001b[1mColumn specification\u001b[22m \u001b[36m────────────────────────────────────────────────────────\u001b[39m\n",
            "\u001b[1mDelimiter:\u001b[22m \",\"\n",
            "\u001b[31mchr\u001b[39m (1): medicamento\n",
            "\u001b[32mdbl\u001b[39m (2): ano, unidade\n",
            "\n",
            "\u001b[36mℹ\u001b[39m Use `spec()` to retrieve the full column specification for this data.\n",
            "\u001b[36mℹ\u001b[39m Specify the column types or set `show_col_types = FALSE` to quiet this message.\n"
          ]
        }
      ]
    },
    {
      "cell_type": "markdown",
      "source": [
        "Agora vamos fazer a junção dos valores atribuídos com os dados de mundo real."
      ],
      "metadata": {
        "id": "Vga2555lumc0"
      }
    },
    {
      "cell_type": "code",
      "source": [
        "valor=read_csv(\"https://raw.githubusercontent.com/labxss/curso_r/main/bps_valor_unitario_tranposto.csv\")\n",
        "\n",
        "paam_anual_valor = merge(\n",
        "        paam_anual, valor, \n",
        "        by.x=c(\"ano\",\"medicamento\"), \n",
        "        by.y=c(\"ano\",\"medicamento\"), \n",
        "        all.x = TRUE\n",
        "      )\n",
        "\n",
        "\n",
        "# percentual de difusao ao ano do numero de usuarios\n",
        "paam_anual_valor=transform(paam_anual_valor, usuario_perc = ave(AP_CNSPCN, ano, FUN = prop.table))\n",
        "paam_anual_valor$usuario_perc=round(paam_anual_valor$usuario_perc*100,1)\n",
        "\n",
        "# produto entre total aprovado e valor unitario\n",
        "paam_anual_valor$total=round(paam_anual_valor$PA_QTDAPR*paam_anual_valor$unidade)\n",
        "\n",
        "# percentual de difusao ao ano do total\n",
        "paam_anual_valor=transform(paam_anual_valor, total_perc = ave(total, ano, FUN = prop.table))\n",
        "paam_anual_valor$total_perc=round(paam_anual_valor$total_perc*100,1)\n",
        "\n",
        "paam_anual_valor$unidade=round(paam_anual_valor$unidade,2)\n",
        "\n",
        "paam_anual_valor"
      ],
      "metadata": {
        "colab": {
          "base_uri": "https://localhost:8080/",
          "height": 739
        },
        "id": "JIqxXxylutC5",
        "outputId": "92055505-4da8-4b4c-8c7b-8a69548f717c"
      },
      "execution_count": 90,
      "outputs": [
        {
          "output_type": "stream",
          "name": "stderr",
          "text": [
            "\u001b[1mRows: \u001b[22m\u001b[34m35\u001b[39m \u001b[1mColumns: \u001b[22m\u001b[34m3\u001b[39m\n",
            "\u001b[36m──\u001b[39m \u001b[1mColumn specification\u001b[22m \u001b[36m────────────────────────────────────────────────────────\u001b[39m\n",
            "\u001b[1mDelimiter:\u001b[22m \",\"\n",
            "\u001b[31mchr\u001b[39m (1): medicamento\n",
            "\u001b[32mdbl\u001b[39m (2): ano, unidade\n",
            "\n",
            "\u001b[36mℹ\u001b[39m Use `spec()` to retrieve the full column specification for this data.\n",
            "\u001b[36mℹ\u001b[39m Specify the column types or set `show_col_types = FALSE` to quiet this message.\n"
          ]
        },
        {
          "output_type": "display_data",
          "data": {
            "text/html": [
              "<table class=\"dataframe\">\n",
              "<caption>A data.frame: 16 × 8</caption>\n",
              "<thead>\n",
              "\t<tr><th scope=col>ano</th><th scope=col>medicamento</th><th scope=col>AP_CNSPCN</th><th scope=col>PA_QTDAPR</th><th scope=col>unidade</th><th scope=col>usuario_perc</th><th scope=col>total</th><th scope=col>total_perc</th></tr>\n",
              "\t<tr><th scope=col>&lt;chr&gt;</th><th scope=col>&lt;chr&gt;</th><th scope=col>&lt;int&gt;</th><th scope=col>&lt;dbl&gt;</th><th scope=col>&lt;dbl&gt;</th><th scope=col>&lt;dbl&gt;</th><th scope=col>&lt;dbl&gt;</th><th scope=col>&lt;dbl&gt;</th></tr>\n",
              "</thead>\n",
              "<tbody>\n",
              "\t<tr><td>2018</td><td>ADA  </td><td> 5</td><td>3358</td><td>2532.56</td><td>71.4</td><td> 8504336</td><td>87.1</td></tr>\n",
              "\t<tr><td>2018</td><td>ETA50</td><td> 2</td><td> 876</td><td>1435.36</td><td>28.6</td><td> 1257375</td><td>12.9</td></tr>\n",
              "\t<tr><td>2019</td><td>ADA  </td><td>10</td><td>4227</td><td>2555.51</td><td>83.3</td><td>10802141</td><td>84.3</td></tr>\n",
              "\t<tr><td>2019</td><td>ETA50</td><td> 1</td><td> 872</td><td>1493.86</td><td> 8.3</td><td> 1302646</td><td>10.2</td></tr>\n",
              "\t<tr><td>2019</td><td>SEC  </td><td> 1</td><td> 299</td><td>2366.09</td><td> 8.3</td><td>  707461</td><td> 5.5</td></tr>\n",
              "\t<tr><td>2020</td><td>ADA  </td><td>11</td><td>3356</td><td>1628.34</td><td>84.6</td><td> 5464709</td><td>64.5</td></tr>\n",
              "\t<tr><td>2020</td><td>ETA50</td><td> 1</td><td>1240</td><td>1089.86</td><td> 7.7</td><td> 1351426</td><td>15.9</td></tr>\n",
              "\t<tr><td>2020</td><td>SEC  </td><td> 1</td><td> 596</td><td>2786.01</td><td> 7.7</td><td> 1660462</td><td>19.6</td></tr>\n",
              "\t<tr><td>2021</td><td>ADA  </td><td>18</td><td>2812</td><td> 701.16</td><td>85.7</td><td> 1971662</td><td>48.2</td></tr>\n",
              "\t<tr><td>2021</td><td>ETA50</td><td> 1</td><td> 360</td><td> 685.86</td><td> 4.8</td><td>  246910</td><td> 6.0</td></tr>\n",
              "\t<tr><td>2021</td><td>SEC  </td><td> 2</td><td> 584</td><td>3205.94</td><td> 9.5</td><td> 1872269</td><td>45.8</td></tr>\n",
              "\t<tr><td>2022</td><td>ADA  </td><td>24</td><td>1514</td><td> 507.62</td><td>85.7</td><td>  768537</td><td>63.0</td></tr>\n",
              "\t<tr><td>2022</td><td>CER  </td><td> 1</td><td> 118</td><td> 731.51</td><td> 3.6</td><td>   86318</td><td> 7.1</td></tr>\n",
              "\t<tr><td>2022</td><td>ETA50</td><td> 1</td><td>  92</td><td> 410.41</td><td> 3.6</td><td>   37758</td><td> 3.1</td></tr>\n",
              "\t<tr><td>2022</td><td>GOL  </td><td> 1</td><td>  18</td><td>2786.35</td><td> 3.6</td><td>   50154</td><td> 4.1</td></tr>\n",
              "\t<tr><td>2022</td><td>SEC  </td><td> 1</td><td> 114</td><td>2437.32</td><td> 3.6</td><td>  277854</td><td>22.8</td></tr>\n",
              "</tbody>\n",
              "</table>\n"
            ],
            "text/markdown": "\nA data.frame: 16 × 8\n\n| ano &lt;chr&gt; | medicamento &lt;chr&gt; | AP_CNSPCN &lt;int&gt; | PA_QTDAPR &lt;dbl&gt; | unidade &lt;dbl&gt; | usuario_perc &lt;dbl&gt; | total &lt;dbl&gt; | total_perc &lt;dbl&gt; |\n|---|---|---|---|---|---|---|---|\n| 2018 | ADA   |  5 | 3358 | 2532.56 | 71.4 |  8504336 | 87.1 |\n| 2018 | ETA50 |  2 |  876 | 1435.36 | 28.6 |  1257375 | 12.9 |\n| 2019 | ADA   | 10 | 4227 | 2555.51 | 83.3 | 10802141 | 84.3 |\n| 2019 | ETA50 |  1 |  872 | 1493.86 |  8.3 |  1302646 | 10.2 |\n| 2019 | SEC   |  1 |  299 | 2366.09 |  8.3 |   707461 |  5.5 |\n| 2020 | ADA   | 11 | 3356 | 1628.34 | 84.6 |  5464709 | 64.5 |\n| 2020 | ETA50 |  1 | 1240 | 1089.86 |  7.7 |  1351426 | 15.9 |\n| 2020 | SEC   |  1 |  596 | 2786.01 |  7.7 |  1660462 | 19.6 |\n| 2021 | ADA   | 18 | 2812 |  701.16 | 85.7 |  1971662 | 48.2 |\n| 2021 | ETA50 |  1 |  360 |  685.86 |  4.8 |   246910 |  6.0 |\n| 2021 | SEC   |  2 |  584 | 3205.94 |  9.5 |  1872269 | 45.8 |\n| 2022 | ADA   | 24 | 1514 |  507.62 | 85.7 |   768537 | 63.0 |\n| 2022 | CER   |  1 |  118 |  731.51 |  3.6 |    86318 |  7.1 |\n| 2022 | ETA50 |  1 |   92 |  410.41 |  3.6 |    37758 |  3.1 |\n| 2022 | GOL   |  1 |   18 | 2786.35 |  3.6 |    50154 |  4.1 |\n| 2022 | SEC   |  1 |  114 | 2437.32 |  3.6 |   277854 | 22.8 |\n\n",
            "text/latex": "A data.frame: 16 × 8\n\\begin{tabular}{llllllll}\n ano & medicamento & AP\\_CNSPCN & PA\\_QTDAPR & unidade & usuario\\_perc & total & total\\_perc\\\\\n <chr> & <chr> & <int> & <dbl> & <dbl> & <dbl> & <dbl> & <dbl>\\\\\n\\hline\n\t 2018 & ADA   &  5 & 3358 & 2532.56 & 71.4 &  8504336 & 87.1\\\\\n\t 2018 & ETA50 &  2 &  876 & 1435.36 & 28.6 &  1257375 & 12.9\\\\\n\t 2019 & ADA   & 10 & 4227 & 2555.51 & 83.3 & 10802141 & 84.3\\\\\n\t 2019 & ETA50 &  1 &  872 & 1493.86 &  8.3 &  1302646 & 10.2\\\\\n\t 2019 & SEC   &  1 &  299 & 2366.09 &  8.3 &   707461 &  5.5\\\\\n\t 2020 & ADA   & 11 & 3356 & 1628.34 & 84.6 &  5464709 & 64.5\\\\\n\t 2020 & ETA50 &  1 & 1240 & 1089.86 &  7.7 &  1351426 & 15.9\\\\\n\t 2020 & SEC   &  1 &  596 & 2786.01 &  7.7 &  1660462 & 19.6\\\\\n\t 2021 & ADA   & 18 & 2812 &  701.16 & 85.7 &  1971662 & 48.2\\\\\n\t 2021 & ETA50 &  1 &  360 &  685.86 &  4.8 &   246910 &  6.0\\\\\n\t 2021 & SEC   &  2 &  584 & 3205.94 &  9.5 &  1872269 & 45.8\\\\\n\t 2022 & ADA   & 24 & 1514 &  507.62 & 85.7 &   768537 & 63.0\\\\\n\t 2022 & CER   &  1 &  118 &  731.51 &  3.6 &    86318 &  7.1\\\\\n\t 2022 & ETA50 &  1 &   92 &  410.41 &  3.6 &    37758 &  3.1\\\\\n\t 2022 & GOL   &  1 &   18 & 2786.35 &  3.6 &    50154 &  4.1\\\\\n\t 2022 & SEC   &  1 &  114 & 2437.32 &  3.6 &   277854 & 22.8\\\\\n\\end{tabular}\n",
            "text/plain": [
              "   ano  medicamento AP_CNSPCN PA_QTDAPR unidade usuario_perc total   \n",
              "1  2018 ADA          5        3358      2532.56 71.4          8504336\n",
              "2  2018 ETA50        2         876      1435.36 28.6          1257375\n",
              "3  2019 ADA         10        4227      2555.51 83.3         10802141\n",
              "4  2019 ETA50        1         872      1493.86  8.3          1302646\n",
              "5  2019 SEC          1         299      2366.09  8.3           707461\n",
              "6  2020 ADA         11        3356      1628.34 84.6          5464709\n",
              "7  2020 ETA50        1        1240      1089.86  7.7          1351426\n",
              "8  2020 SEC          1         596      2786.01  7.7          1660462\n",
              "9  2021 ADA         18        2812       701.16 85.7          1971662\n",
              "10 2021 ETA50        1         360       685.86  4.8           246910\n",
              "11 2021 SEC          2         584      3205.94  9.5          1872269\n",
              "12 2022 ADA         24        1514       507.62 85.7           768537\n",
              "13 2022 CER          1         118       731.51  3.6            86318\n",
              "14 2022 ETA50        1          92       410.41  3.6            37758\n",
              "15 2022 GOL          1          18      2786.35  3.6            50154\n",
              "16 2022 SEC          1         114      2437.32  3.6           277854\n",
              "   total_perc\n",
              "1  87.1      \n",
              "2  12.9      \n",
              "3  84.3      \n",
              "4  10.2      \n",
              "5   5.5      \n",
              "6  64.5      \n",
              "7  15.9      \n",
              "8  19.6      \n",
              "9  48.2      \n",
              "10  6.0      \n",
              "11 45.8      \n",
              "12 63.0      \n",
              "13  7.1      \n",
              "14  3.1      \n",
              "15  4.1      \n",
              "16 22.8      "
            ]
          },
          "metadata": {}
        }
      ]
    },
    {
      "cell_type": "markdown",
      "source": [
        "## Cálculo da difusão de uso\n",
        "\n",
        "Vamos explorar visualmente a difusão do percentual de uso com `ggplot`."
      ],
      "metadata": {
        "id": "NDFUWi5Px4TX"
      }
    },
    {
      "cell_type": "code",
      "source": [
        "if(!require(ggplot2)) {install.packages(\"ggplot2\"); require(ggplot2)} # funcao getURL\n",
        "\n",
        "\n",
        "ggplot(\n",
        "  paam_anual_valor,\n",
        "  aes(\n",
        "    fill = medicamento,\n",
        "    y = usuario_perc,\n",
        "    x = ano,\n",
        "    label = usuario_perc\n",
        "  )\n",
        ") + geom_bar(stat = \"identity\") +\n",
        "  xlab('ano') +\n",
        "  ylab('usuarios (%)') +\n",
        "  geom_text(size = 3, position = position_stack(vjust = 0.5)) +\n",
        "  coord_flip() +\n",
        "  theme(\n",
        "    legend.text = element_text(size = rel(1.3)),\n",
        "    axis.title.x = element_text(size = rel(1.3)),\n",
        "    axis.title.y = element_text(size = rel(1.3)),\n",
        "    axis.text.x = element_text(size = rel(1.3)),\n",
        "    axis.text.y = element_text(size = rel(1.3))\n",
        "  )"
      ],
      "metadata": {
        "colab": {
          "base_uri": "https://localhost:8080/",
          "height": 437
        },
        "id": "CAbQjIUtyAq9",
        "outputId": "23e13f1c-5845-4b57-a4b9-434f66eb5bae"
      },
      "execution_count": 93,
      "outputs": [
        {
          "output_type": "display_data",
          "data": {
            "text/plain": [
              "plot without title"
            ],
            "image/png": "[encoded data removed]"
          },
          "metadata": {
            "image/png": {
              "width": 420,
              "height": 420
            }
          }
        }
      ]
    },
    {
      "cell_type": "code",
      "source": [
        "ggplot(\n",
        "  paam_anual_valor,\n",
        "  aes(\n",
        "    fill = medicamento,\n",
        "    y = total_perc,\n",
        "    x = ano,\n",
        "    label = total_perc\n",
        "  )\n",
        ") + geom_bar(stat = \"identity\") +\n",
        "  xlab('ano') +\n",
        "  ylab('valor (%)') +\n",
        "  geom_text(size = 3, position = position_stack(vjust = 0.5)) +\n",
        "  coord_flip() +\n",
        "  theme(\n",
        "    legend.text = element_text(size = rel(1.3)),\n",
        "    axis.title.x = element_text(size = rel(1.3)),\n",
        "    axis.title.y = element_text(size = rel(1.3)),\n",
        "    axis.text.x = element_text(size = rel(1.3)),\n",
        "    axis.text.y = element_text(size = rel(1.3))\n",
        "  )"
      ],
      "metadata": {
        "colab": {
          "base_uri": "https://localhost:8080/",
          "height": 437
        },
        "id": "3V9f1laIznO6",
        "outputId": "0f58511d-4723-4ff2-90b2-c4310e1e9d0f"
      },
      "execution_count": 94,
      "outputs": [
        {
          "output_type": "display_data",
          "data": {
            "text/plain": [
              "plot without title"
            ],
            "image/png": "[encoded data removed]"
          },
          "metadata": {
            "image/png": {
              "width": 420,
              "height": 420
            }
          }
        }
      ]
    },
    {
      "cell_type": "code",
      "source": [
        " paam_mensal_valor = merge(\n",
        "        paam_atendimento, valor, \n",
        "        by.x=c(\"ano\",\"medicamento\"), \n",
        "        by.y=c(\"ano\",\"medicamento\"), \n",
        "        all.x = TRUE\n",
        "      )\n",
        "# produto entre total aprovado e valor unitario\n",
        "paam_mensal_valor$total=round(paam_mensal_valor$PA_QTDAPR*paam_mensal_valor$unidade)\n",
        "    \n",
        "    total=aggregate(\n",
        "  total ~ PA_CMP + medicamento, \n",
        "  data = subset(\n",
        "      paam_mensal_valor,\n",
        "      medicamento == 'ADA' \n",
        "    ), \n",
        "  FUN = sum, \n",
        "  na.rm = TRUE\n",
        ")\n",
        "head(total,20)"
      ],
      "metadata": {
        "colab": {
          "base_uri": "https://localhost:8080/",
          "height": 725
        },
        "id": "apjgKXcT2aiD",
        "outputId": "847aed47-45a6-4a56-c60a-3130c3a0c52c"
      },
      "execution_count": 121,
      "outputs": [
        {
          "output_type": "display_data",
          "data": {
            "text/html": [
              "<table class=\"dataframe\">\n",
              "<caption>A data.frame: 20 × 3</caption>\n",
              "<thead>\n",
              "\t<tr><th></th><th scope=col>PA_CMP</th><th scope=col>medicamento</th><th scope=col>total</th></tr>\n",
              "\t<tr><th></th><th scope=col>&lt;dbl&gt;</th><th scope=col>&lt;chr&gt;</th><th scope=col>&lt;dbl&gt;</th></tr>\n",
              "</thead>\n",
              "<tbody>\n",
              "\t<tr><th scope=row>1</th><td>201801</td><td>ADA</td><td> 911700</td></tr>\n",
              "\t<tr><th scope=row>2</th><td>201802</td><td>ADA</td><td> 298835</td></tr>\n",
              "\t<tr><th scope=row>3</th><td>201803</td><td>ADA</td><td> 587540</td></tr>\n",
              "\t<tr><th scope=row>4</th><td>201804</td><td>ADA</td><td>1154820</td></tr>\n",
              "\t<tr><th scope=row>5</th><td>201805</td><td>ADA</td><td> 835725</td></tr>\n",
              "\t<tr><th scope=row>6</th><td>201806</td><td>ADA</td><td> 557150</td></tr>\n",
              "\t<tr><th scope=row>7</th><td>201807</td><td>ADA</td><td> 820530</td></tr>\n",
              "\t<tr><th scope=row>8</th><td>201808</td><td>ADA</td><td> 536890</td></tr>\n",
              "\t<tr><th scope=row>9</th><td>201809</td><td>ADA</td><td> 790140</td></tr>\n",
              "\t<tr><th scope=row>10</th><td>201810</td><td>ADA</td><td> 258315</td></tr>\n",
              "\t<tr><th scope=row>11</th><td>201811</td><td>ADA</td><td> 759750</td></tr>\n",
              "\t<tr><th scope=row>12</th><td>201812</td><td>ADA</td><td> 992740</td></tr>\n",
              "\t<tr><th scope=row>13</th><td>201901</td><td>ADA</td><td>1226640</td></tr>\n",
              "\t<tr><th scope=row>14</th><td>201902</td><td>ADA</td><td> 480434</td></tr>\n",
              "\t<tr><th scope=row>15</th><td>201903</td><td>ADA</td><td> 705318</td></tr>\n",
              "\t<tr><th scope=row>16</th><td>201904</td><td>ADA</td><td>1149975</td></tr>\n",
              "\t<tr><th scope=row>17</th><td>201905</td><td>ADA</td><td> 899536</td></tr>\n",
              "\t<tr><th scope=row>18</th><td>201906</td><td>ADA</td><td> 439546</td></tr>\n",
              "\t<tr><th scope=row>19</th><td>201907</td><td>ADA</td><td> 643986</td></tr>\n",
              "\t<tr><th scope=row>20</th><td>201908</td><td>ADA</td><td> 838204</td></tr>\n",
              "</tbody>\n",
              "</table>\n"
            ],
            "text/markdown": "\nA data.frame: 20 × 3\n\n| <!--/--> | PA_CMP &lt;dbl&gt; | medicamento &lt;chr&gt; | total &lt;dbl&gt; |\n|---|---|---|---|\n| 1 | 201801 | ADA |  911700 |\n| 2 | 201802 | ADA |  298835 |\n| 3 | 201803 | ADA |  587540 |\n| 4 | 201804 | ADA | 1154820 |\n| 5 | 201805 | ADA |  835725 |\n| 6 | 201806 | ADA |  557150 |\n| 7 | 201807 | ADA |  820530 |\n| 8 | 201808 | ADA |  536890 |\n| 9 | 201809 | ADA |  790140 |\n| 10 | 201810 | ADA |  258315 |\n| 11 | 201811 | ADA |  759750 |\n| 12 | 201812 | ADA |  992740 |\n| 13 | 201901 | ADA | 1226640 |\n| 14 | 201902 | ADA |  480434 |\n| 15 | 201903 | ADA |  705318 |\n| 16 | 201904 | ADA | 1149975 |\n| 17 | 201905 | ADA |  899536 |\n| 18 | 201906 | ADA |  439546 |\n| 19 | 201907 | ADA |  643986 |\n| 20 | 201908 | ADA |  838204 |\n\n",
            "text/latex": "A data.frame: 20 × 3\n\\begin{tabular}{r|lll}\n  & PA\\_CMP & medicamento & total\\\\\n  & <dbl> & <chr> & <dbl>\\\\\n\\hline\n\t1 & 201801 & ADA &  911700\\\\\n\t2 & 201802 & ADA &  298835\\\\\n\t3 & 201803 & ADA &  587540\\\\\n\t4 & 201804 & ADA & 1154820\\\\\n\t5 & 201805 & ADA &  835725\\\\\n\t6 & 201806 & ADA &  557150\\\\\n\t7 & 201807 & ADA &  820530\\\\\n\t8 & 201808 & ADA &  536890\\\\\n\t9 & 201809 & ADA &  790140\\\\\n\t10 & 201810 & ADA &  258315\\\\\n\t11 & 201811 & ADA &  759750\\\\\n\t12 & 201812 & ADA &  992740\\\\\n\t13 & 201901 & ADA & 1226640\\\\\n\t14 & 201902 & ADA &  480434\\\\\n\t15 & 201903 & ADA &  705318\\\\\n\t16 & 201904 & ADA & 1149975\\\\\n\t17 & 201905 & ADA &  899536\\\\\n\t18 & 201906 & ADA &  439546\\\\\n\t19 & 201907 & ADA &  643986\\\\\n\t20 & 201908 & ADA &  838204\\\\\n\\end{tabular}\n",
            "text/plain": [
              "   PA_CMP medicamento total  \n",
              "1  201801 ADA          911700\n",
              "2  201802 ADA          298835\n",
              "3  201803 ADA          587540\n",
              "4  201804 ADA         1154820\n",
              "5  201805 ADA          835725\n",
              "6  201806 ADA          557150\n",
              "7  201807 ADA          820530\n",
              "8  201808 ADA          536890\n",
              "9  201809 ADA          790140\n",
              "10 201810 ADA          258315\n",
              "11 201811 ADA          759750\n",
              "12 201812 ADA          992740\n",
              "13 201901 ADA         1226640\n",
              "14 201902 ADA          480434\n",
              "15 201903 ADA          705318\n",
              "16 201904 ADA         1149975\n",
              "17 201905 ADA          899536\n",
              "18 201906 ADA          439546\n",
              "19 201907 ADA          643986\n",
              "20 201908 ADA          838204"
            ]
          },
          "metadata": {}
        }
      ]
    },
    {
      "cell_type": "markdown",
      "source": [
        "## Projeção com ARIMA\n",
        "\n",
        "Os dados de mundo real obtidos podem ser processados com técnicas de regressão ou séries temporais.\n",
        "\n",
        "Vamos ilustrar com o método ARIMA."
      ],
      "metadata": {
        "id": "c1VJxmOE0am9"
      }
    },
    {
      "cell_type": "code",
      "source": [
        "if(!require(forecast)) {install.packages(\"forecast\"); require(forecast)} # funcao getURL\n",
        "if(!require(tseries)) {install.packages(\"tseries\"); require(tseries)} # funcao getURL\n",
        "\n",
        "arima_data=forecast(auto.arima(\n",
        "    total$total,\n",
        "    allowmean = TRUE\n",
        "  ), h = 60)\n",
        "\n",
        "plot(\n",
        "  arima_data,\n",
        "  xlab = \"\",\n",
        "  ylab = \"Total (R$)\",\n",
        "  main = \"\",\n",
        "  las = 3  ,\n",
        "  xaxt = 'n'\n",
        ")\n",
        "\n",
        "axis(1,\n",
        "     at = 1:(nrow(total)+61),\n",
        "     labels = 1:(nrow(total)+61),\n",
        "     las = 3)\n",
        "\n",
        "arima_data=as.data.frame(arima_data)\n",
        "colnames(arima_data)=c(\"previsão\",\"min80\",\"min95\",\"max80\",\"max95\")\n",
        "tail(arima_data,60)"
      ],
      "metadata": {
        "colab": {
          "base_uri": "https://localhost:8080/",
          "height": 2400
        },
        "id": "Gu_9LFOh0qRo",
        "outputId": "6002957a-ae18-4c3a-a064-5e5b535bca5a"
      },
      "execution_count": 122,
      "outputs": [
        {
          "output_type": "display_data",
          "data": {
            "text/html": [
              "<table class=\"dataframe\">\n",
              "<caption>A data.frame: 60 × 5</caption>\n",
              "<thead>\n",
              "\t<tr><th></th><th scope=col>previsão</th><th scope=col>min80</th><th scope=col>min95</th><th scope=col>max80</th><th scope=col>max95</th></tr>\n",
              "\t<tr><th></th><th scope=col>&lt;dbl&gt;</th><th scope=col>&lt;dbl&gt;</th><th scope=col>&lt;dbl&gt;</th><th scope=col>&lt;dbl&gt;</th><th scope=col>&lt;dbl&gt;</th></tr>\n",
              "</thead>\n",
              "<tbody>\n",
              "\t<tr><th scope=row> 61</th><td>29811.22</td><td>-297012.4</td><td>356634.8</td><td> -470022.4</td><td> 529644.8</td></tr>\n",
              "\t<tr><th scope=row> 62</th><td>29811.22</td><td>-312242.4</td><td>371864.9</td><td> -493314.7</td><td> 552937.2</td></tr>\n",
              "\t<tr><th scope=row> 63</th><td>29811.22</td><td>-326822.7</td><td>386445.1</td><td> -515613.3</td><td> 575235.7</td></tr>\n",
              "\t<tr><th scope=row> 64</th><td>29811.22</td><td>-340829.8</td><td>400452.3</td><td> -537035.3</td><td> 596657.8</td></tr>\n",
              "\t<tr><th scope=row> 65</th><td>29811.22</td><td>-354326.5</td><td>413949.0</td><td> -557676.8</td><td> 617299.2</td></tr>\n",
              "\t<tr><th scope=row> 66</th><td>29811.22</td><td>-367364.9</td><td>426987.3</td><td> -577617.2</td><td> 637239.6</td></tr>\n",
              "\t<tr><th scope=row> 67</th><td>29811.22</td><td>-379988.6</td><td>439611.0</td><td> -596923.5</td><td> 656545.9</td></tr>\n",
              "\t<tr><th scope=row> 68</th><td>29811.22</td><td>-392234.9</td><td>451857.3</td><td> -615652.6</td><td> 675275.0</td></tr>\n",
              "\t<tr><th scope=row> 69</th><td>29811.22</td><td>-404135.7</td><td>463758.2</td><td> -633853.3</td><td> 693475.8</td></tr>\n",
              "\t<tr><th scope=row> 70</th><td>29811.22</td><td>-415718.8</td><td>475341.2</td><td> -651568.1</td><td> 711190.5</td></tr>\n",
              "\t<tr><th scope=row> 71</th><td>29811.22</td><td>-427008.2</td><td>486630.7</td><td> -668833.8</td><td> 728456.3</td></tr>\n",
              "\t<tr><th scope=row> 72</th><td>29811.22</td><td>-438025.3</td><td>497647.8</td><td> -685683.0</td><td> 745305.5</td></tr>\n",
              "\t<tr><th scope=row> 73</th><td>29811.22</td><td>-448788.9</td><td>508411.3</td><td> -702144.5</td><td> 761766.9</td></tr>\n",
              "\t<tr><th scope=row> 74</th><td>29811.22</td><td>-459315.6</td><td>518938.1</td><td> -718243.8</td><td> 777866.2</td></tr>\n",
              "\t<tr><th scope=row> 75</th><td>29811.22</td><td>-469620.6</td><td>529243.0</td><td> -734003.8</td><td> 793626.3</td></tr>\n",
              "\t<tr><th scope=row> 76</th><td>29811.22</td><td>-479717.1</td><td>539339.6</td><td> -749445.2</td><td> 809067.6</td></tr>\n",
              "\t<tr><th scope=row> 77</th><td>29811.22</td><td>-489617.5</td><td>549239.9</td><td> -764586.4</td><td> 824208.9</td></tr>\n",
              "\t<tr><th scope=row> 78</th><td>29811.22</td><td>-499332.6</td><td>558955.1</td><td> -779444.5</td><td> 839066.9</td></tr>\n",
              "\t<tr><th scope=row> 79</th><td>29811.22</td><td>-508872.6</td><td>568495.0</td><td> -794034.6</td><td> 853657.0</td></tr>\n",
              "\t<tr><th scope=row> 80</th><td>29811.22</td><td>-518246.5</td><td>577869.0</td><td> -808370.8</td><td> 867993.2</td></tr>\n",
              "\t<tr><th scope=row> 81</th><td>29811.22</td><td>-527462.8</td><td>587085.2</td><td> -822465.8</td><td> 882088.3</td></tr>\n",
              "\t<tr><th scope=row> 82</th><td>29811.22</td><td>-536529.1</td><td>596151.5</td><td> -836331.6</td><td> 895954.0</td></tr>\n",
              "\t<tr><th scope=row> 83</th><td>29811.22</td><td>-545452.5</td><td>605075.0</td><td> -849978.8</td><td> 909601.2</td></tr>\n",
              "\t<tr><th scope=row> 84</th><td>29811.22</td><td>-554239.6</td><td>613862.1</td><td> -863417.5</td><td> 923040.0</td></tr>\n",
              "\t<tr><th scope=row> 85</th><td>29811.22</td><td>-562896.5</td><td>622519.0</td><td> -876657.0</td><td> 936279.5</td></tr>\n",
              "\t<tr><th scope=row> 86</th><td>29811.22</td><td>-571428.7</td><td>631051.2</td><td> -889705.9</td><td> 949328.4</td></tr>\n",
              "\t<tr><th scope=row> 87</th><td>29811.22</td><td>-579841.6</td><td>639464.0</td><td> -902572.3</td><td> 962194.7</td></tr>\n",
              "\t<tr><th scope=row> 88</th><td>29811.22</td><td>-588139.9</td><td>647762.3</td><td> -915263.4</td><td> 974885.9</td></tr>\n",
              "\t<tr><th scope=row> 89</th><td>29811.22</td><td>-596328.2</td><td>655950.7</td><td> -927786.4</td><td> 987408.8</td></tr>\n",
              "\t<tr><th scope=row> 90</th><td>29811.22</td><td>-604410.8</td><td>664033.3</td><td> -940147.7</td><td> 999770.2</td></tr>\n",
              "\t<tr><th scope=row> 91</th><td>29811.22</td><td>-612391.7</td><td>672014.2</td><td> -952353.5</td><td>1011975.9</td></tr>\n",
              "\t<tr><th scope=row> 92</th><td>29811.22</td><td>-620274.7</td><td>679897.1</td><td> -964409.4</td><td>1024031.8</td></tr>\n",
              "\t<tr><th scope=row> 93</th><td>29811.22</td><td>-628063.2</td><td>687685.6</td><td> -976320.8</td><td>1035943.3</td></tr>\n",
              "\t<tr><th scope=row> 94</th><td>29811.22</td><td>-635760.5</td><td>695383.0</td><td> -988092.9</td><td>1047715.4</td></tr>\n",
              "\t<tr><th scope=row> 95</th><td>29811.22</td><td>-643369.9</td><td>702992.3</td><td> -999730.4</td><td>1059352.9</td></tr>\n",
              "\t<tr><th scope=row> 96</th><td>29811.22</td><td>-650894.2</td><td>710516.6</td><td>-1011237.8</td><td>1070860.3</td></tr>\n",
              "\t<tr><th scope=row> 97</th><td>29811.22</td><td>-658336.2</td><td>717958.6</td><td>-1022619.4</td><td>1082241.9</td></tr>\n",
              "\t<tr><th scope=row> 98</th><td>29811.22</td><td>-665698.6</td><td>725321.0</td><td>-1033879.2</td><td>1093501.7</td></tr>\n",
              "\t<tr><th scope=row> 99</th><td>29811.22</td><td>-672983.8</td><td>732606.3</td><td>-1045021.1</td><td>1104643.5</td></tr>\n",
              "\t<tr><th scope=row>100</th><td>29811.22</td><td>-680194.4</td><td>739816.8</td><td>-1056048.6</td><td>1115671.1</td></tr>\n",
              "\t<tr><th scope=row>101</th><td>29811.22</td><td>-687332.4</td><td>746954.8</td><td>-1066965.3</td><td>1126587.7</td></tr>\n",
              "\t<tr><th scope=row>102</th><td>29811.22</td><td>-694400.1</td><td>754022.5</td><td>-1077774.4</td><td>1137396.8</td></tr>\n",
              "\t<tr><th scope=row>103</th><td>29811.22</td><td>-701399.4</td><td>761021.9</td><td>-1088479.0</td><td>1148101.4</td></tr>\n",
              "\t<tr><th scope=row>104</th><td>29811.22</td><td>-708332.4</td><td>767954.9</td><td>-1099082.1</td><td>1158704.5</td></tr>\n",
              "\t<tr><th scope=row>105</th><td>29811.22</td><td>-715200.9</td><td>774823.4</td><td>-1109586.5</td><td>1169209.0</td></tr>\n",
              "\t<tr><th scope=row>106</th><td>29811.22</td><td>-722006.7</td><td>781629.1</td><td>-1119995.0</td><td>1179617.5</td></tr>\n",
              "\t<tr><th scope=row>107</th><td>29811.22</td><td>-728751.3</td><td>788373.8</td><td>-1130310.1</td><td>1189932.6</td></tr>\n",
              "\t<tr><th scope=row>108</th><td>29811.22</td><td>-735436.6</td><td>795059.0</td><td>-1140534.3</td><td>1200156.7</td></tr>\n",
              "\t<tr><th scope=row>109</th><td>29811.22</td><td>-742063.9</td><td>801686.4</td><td>-1150669.9</td><td>1210292.4</td></tr>\n",
              "\t<tr><th scope=row>110</th><td>29811.22</td><td>-748634.8</td><td>808257.3</td><td>-1160719.3</td><td>1220341.7</td></tr>\n",
              "\t<tr><th scope=row>111</th><td>29811.22</td><td>-755150.7</td><td>814773.2</td><td>-1170684.5</td><td>1230307.0</td></tr>\n",
              "\t<tr><th scope=row>112</th><td>29811.22</td><td>-761613.0</td><td>821235.5</td><td>-1180567.7</td><td>1240190.2</td></tr>\n",
              "\t<tr><th scope=row>113</th><td>29811.22</td><td>-768022.9</td><td>827645.4</td><td>-1190370.8</td><td>1249993.3</td></tr>\n",
              "\t<tr><th scope=row>114</th><td>29811.22</td><td>-774381.8</td><td>834004.2</td><td>-1200095.8</td><td>1259718.3</td></tr>\n",
              "\t<tr><th scope=row>115</th><td>29811.22</td><td>-780690.7</td><td>840313.2</td><td>-1209744.6</td><td>1269367.0</td></tr>\n",
              "\t<tr><th scope=row>116</th><td>29811.22</td><td>-786951.0</td><td>846573.4</td><td>-1219318.7</td><td>1278941.2</td></tr>\n",
              "\t<tr><th scope=row>117</th><td>29811.22</td><td>-793163.6</td><td>852786.0</td><td>-1228820.1</td><td>1288442.5</td></tr>\n",
              "\t<tr><th scope=row>118</th><td>29811.22</td><td>-799329.6</td><td>858952.1</td><td>-1238250.3</td><td>1297872.7</td></tr>\n",
              "\t<tr><th scope=row>119</th><td>29811.22</td><td>-805450.1</td><td>865072.6</td><td>-1247610.8</td><td>1307233.3</td></tr>\n",
              "\t<tr><th scope=row>120</th><td>29811.22</td><td>-811526.2</td><td>871148.6</td><td>-1256903.3</td><td>1316525.7</td></tr>\n",
              "</tbody>\n",
              "</table>\n"
            ],
            "text/markdown": "\nA data.frame: 60 × 5\n\n| <!--/--> | previsão &lt;dbl&gt; | min80 &lt;dbl&gt; | min95 &lt;dbl&gt; | max80 &lt;dbl&gt; | max95 &lt;dbl&gt; |\n|---|---|---|---|---|---|\n|  61 | 29811.22 | -297012.4 | 356634.8 |  -470022.4 |  529644.8 |\n|  62 | 29811.22 | -312242.4 | 371864.9 |  -493314.7 |  552937.2 |\n|  63 | 29811.22 | -326822.7 | 386445.1 |  -515613.3 |  575235.7 |\n|  64 | 29811.22 | -340829.8 | 400452.3 |  -537035.3 |  596657.8 |\n|  65 | 29811.22 | -354326.5 | 413949.0 |  -557676.8 |  617299.2 |\n|  66 | 29811.22 | -367364.9 | 426987.3 |  -577617.2 |  637239.6 |\n|  67 | 29811.22 | -379988.6 | 439611.0 |  -596923.5 |  656545.9 |\n|  68 | 29811.22 | -392234.9 | 451857.3 |  -615652.6 |  675275.0 |\n|  69 | 29811.22 | -404135.7 | 463758.2 |  -633853.3 |  693475.8 |\n|  70 | 29811.22 | -415718.8 | 475341.2 |  -651568.1 |  711190.5 |\n|  71 | 29811.22 | -427008.2 | 486630.7 |  -668833.8 |  728456.3 |\n|  72 | 29811.22 | -438025.3 | 497647.8 |  -685683.0 |  745305.5 |\n|  73 | 29811.22 | -448788.9 | 508411.3 |  -702144.5 |  761766.9 |\n|  74 | 29811.22 | -459315.6 | 518938.1 |  -718243.8 |  777866.2 |\n|  75 | 29811.22 | -469620.6 | 529243.0 |  -734003.8 |  793626.3 |\n|  76 | 29811.22 | -479717.1 | 539339.6 |  -749445.2 |  809067.6 |\n|  77 | 29811.22 | -489617.5 | 549239.9 |  -764586.4 |  824208.9 |\n|  78 | 29811.22 | -499332.6 | 558955.1 |  -779444.5 |  839066.9 |\n|  79 | 29811.22 | -508872.6 | 568495.0 |  -794034.6 |  853657.0 |\n|  80 | 29811.22 | -518246.5 | 577869.0 |  -808370.8 |  867993.2 |\n|  81 | 29811.22 | -527462.8 | 587085.2 |  -822465.8 |  882088.3 |\n|  82 | 29811.22 | -536529.1 | 596151.5 |  -836331.6 |  895954.0 |\n|  83 | 29811.22 | -545452.5 | 605075.0 |  -849978.8 |  909601.2 |\n|  84 | 29811.22 | -554239.6 | 613862.1 |  -863417.5 |  923040.0 |\n|  85 | 29811.22 | -562896.5 | 622519.0 |  -876657.0 |  936279.5 |\n|  86 | 29811.22 | -571428.7 | 631051.2 |  -889705.9 |  949328.4 |\n|  87 | 29811.22 | -579841.6 | 639464.0 |  -902572.3 |  962194.7 |\n|  88 | 29811.22 | -588139.9 | 647762.3 |  -915263.4 |  974885.9 |\n|  89 | 29811.22 | -596328.2 | 655950.7 |  -927786.4 |  987408.8 |\n|  90 | 29811.22 | -604410.8 | 664033.3 |  -940147.7 |  999770.2 |\n|  91 | 29811.22 | -612391.7 | 672014.2 |  -952353.5 | 1011975.9 |\n|  92 | 29811.22 | -620274.7 | 679897.1 |  -964409.4 | 1024031.8 |\n|  93 | 29811.22 | -628063.2 | 687685.6 |  -976320.8 | 1035943.3 |\n|  94 | 29811.22 | -635760.5 | 695383.0 |  -988092.9 | 1047715.4 |\n|  95 | 29811.22 | -643369.9 | 702992.3 |  -999730.4 | 1059352.9 |\n|  96 | 29811.22 | -650894.2 | 710516.6 | -1011237.8 | 1070860.3 |\n|  97 | 29811.22 | -658336.2 | 717958.6 | -1022619.4 | 1082241.9 |\n|  98 | 29811.22 | -665698.6 | 725321.0 | -1033879.2 | 1093501.7 |\n|  99 | 29811.22 | -672983.8 | 732606.3 | -1045021.1 | 1104643.5 |\n| 100 | 29811.22 | -680194.4 | 739816.8 | -1056048.6 | 1115671.1 |\n| 101 | 29811.22 | -687332.4 | 746954.8 | -1066965.3 | 1126587.7 |\n| 102 | 29811.22 | -694400.1 | 754022.5 | -1077774.4 | 1137396.8 |\n| 103 | 29811.22 | -701399.4 | 761021.9 | -1088479.0 | 1148101.4 |\n| 104 | 29811.22 | -708332.4 | 767954.9 | -1099082.1 | 1158704.5 |\n| 105 | 29811.22 | -715200.9 | 774823.4 | -1109586.5 | 1169209.0 |\n| 106 | 29811.22 | -722006.7 | 781629.1 | -1119995.0 | 1179617.5 |\n| 107 | 29811.22 | -728751.3 | 788373.8 | -1130310.1 | 1189932.6 |\n| 108 | 29811.22 | -735436.6 | 795059.0 | -1140534.3 | 1200156.7 |\n| 109 | 29811.22 | -742063.9 | 801686.4 | -1150669.9 | 1210292.4 |\n| 110 | 29811.22 | -748634.8 | 808257.3 | -1160719.3 | 1220341.7 |\n| 111 | 29811.22 | -755150.7 | 814773.2 | -1170684.5 | 1230307.0 |\n| 112 | 29811.22 | -761613.0 | 821235.5 | -1180567.7 | 1240190.2 |\n| 113 | 29811.22 | -768022.9 | 827645.4 | -1190370.8 | 1249993.3 |\n| 114 | 29811.22 | -774381.8 | 834004.2 | -1200095.8 | 1259718.3 |\n| 115 | 29811.22 | -780690.7 | 840313.2 | -1209744.6 | 1269367.0 |\n| 116 | 29811.22 | -786951.0 | 846573.4 | -1219318.7 | 1278941.2 |\n| 117 | 29811.22 | -793163.6 | 852786.0 | -1228820.1 | 1288442.5 |\n| 118 | 29811.22 | -799329.6 | 858952.1 | -1238250.3 | 1297872.7 |\n| 119 | 29811.22 | -805450.1 | 865072.6 | -1247610.8 | 1307233.3 |\n| 120 | 29811.22 | -811526.2 | 871148.6 | -1256903.3 | 1316525.7 |\n\n",
            "text/latex": "A data.frame: 60 × 5\n\\begin{tabular}{r|lllll}\n  & previsão & min80 & min95 & max80 & max95\\\\\n  & <dbl> & <dbl> & <dbl> & <dbl> & <dbl>\\\\\n\\hline\n\t 61 & 29811.22 & -297012.4 & 356634.8 &  -470022.4 &  529644.8\\\\\n\t 62 & 29811.22 & -312242.4 & 371864.9 &  -493314.7 &  552937.2\\\\\n\t 63 & 29811.22 & -326822.7 & 386445.1 &  -515613.3 &  575235.7\\\\\n\t 64 & 29811.22 & -340829.8 & 400452.3 &  -537035.3 &  596657.8\\\\\n\t 65 & 29811.22 & -354326.5 & 413949.0 &  -557676.8 &  617299.2\\\\\n\t 66 & 29811.22 & -367364.9 & 426987.3 &  -577617.2 &  637239.6\\\\\n\t 67 & 29811.22 & -379988.6 & 439611.0 &  -596923.5 &  656545.9\\\\\n\t 68 & 29811.22 & -392234.9 & 451857.3 &  -615652.6 &  675275.0\\\\\n\t 69 & 29811.22 & -404135.7 & 463758.2 &  -633853.3 &  693475.8\\\\\n\t 70 & 29811.22 & -415718.8 & 475341.2 &  -651568.1 &  711190.5\\\\\n\t 71 & 29811.22 & -427008.2 & 486630.7 &  -668833.8 &  728456.3\\\\\n\t 72 & 29811.22 & -438025.3 & 497647.8 &  -685683.0 &  745305.5\\\\\n\t 73 & 29811.22 & -448788.9 & 508411.3 &  -702144.5 &  761766.9\\\\\n\t 74 & 29811.22 & -459315.6 & 518938.1 &  -718243.8 &  777866.2\\\\\n\t 75 & 29811.22 & -469620.6 & 529243.0 &  -734003.8 &  793626.3\\\\\n\t 76 & 29811.22 & -479717.1 & 539339.6 &  -749445.2 &  809067.6\\\\\n\t 77 & 29811.22 & -489617.5 & 549239.9 &  -764586.4 &  824208.9\\\\\n\t 78 & 29811.22 & -499332.6 & 558955.1 &  -779444.5 &  839066.9\\\\\n\t 79 & 29811.22 & -508872.6 & 568495.0 &  -794034.6 &  853657.0\\\\\n\t 80 & 29811.22 & -518246.5 & 577869.0 &  -808370.8 &  867993.2\\\\\n\t 81 & 29811.22 & -527462.8 & 587085.2 &  -822465.8 &  882088.3\\\\\n\t 82 & 29811.22 & -536529.1 & 596151.5 &  -836331.6 &  895954.0\\\\\n\t 83 & 29811.22 & -545452.5 & 605075.0 &  -849978.8 &  909601.2\\\\\n\t 84 & 29811.22 & -554239.6 & 613862.1 &  -863417.5 &  923040.0\\\\\n\t 85 & 29811.22 & -562896.5 & 622519.0 &  -876657.0 &  936279.5\\\\\n\t 86 & 29811.22 & -571428.7 & 631051.2 &  -889705.9 &  949328.4\\\\\n\t 87 & 29811.22 & -579841.6 & 639464.0 &  -902572.3 &  962194.7\\\\\n\t 88 & 29811.22 & -588139.9 & 647762.3 &  -915263.4 &  974885.9\\\\\n\t 89 & 29811.22 & -596328.2 & 655950.7 &  -927786.4 &  987408.8\\\\\n\t 90 & 29811.22 & -604410.8 & 664033.3 &  -940147.7 &  999770.2\\\\\n\t 91 & 29811.22 & -612391.7 & 672014.2 &  -952353.5 & 1011975.9\\\\\n\t 92 & 29811.22 & -620274.7 & 679897.1 &  -964409.4 & 1024031.8\\\\\n\t 93 & 29811.22 & -628063.2 & 687685.6 &  -976320.8 & 1035943.3\\\\\n\t 94 & 29811.22 & -635760.5 & 695383.0 &  -988092.9 & 1047715.4\\\\\n\t 95 & 29811.22 & -643369.9 & 702992.3 &  -999730.4 & 1059352.9\\\\\n\t 96 & 29811.22 & -650894.2 & 710516.6 & -1011237.8 & 1070860.3\\\\\n\t 97 & 29811.22 & -658336.2 & 717958.6 & -1022619.4 & 1082241.9\\\\\n\t 98 & 29811.22 & -665698.6 & 725321.0 & -1033879.2 & 1093501.7\\\\\n\t 99 & 29811.22 & -672983.8 & 732606.3 & -1045021.1 & 1104643.5\\\\\n\t100 & 29811.22 & -680194.4 & 739816.8 & -1056048.6 & 1115671.1\\\\\n\t101 & 29811.22 & -687332.4 & 746954.8 & -1066965.3 & 1126587.7\\\\\n\t102 & 29811.22 & -694400.1 & 754022.5 & -1077774.4 & 1137396.8\\\\\n\t103 & 29811.22 & -701399.4 & 761021.9 & -1088479.0 & 1148101.4\\\\\n\t104 & 29811.22 & -708332.4 & 767954.9 & -1099082.1 & 1158704.5\\\\\n\t105 & 29811.22 & -715200.9 & 774823.4 & -1109586.5 & 1169209.0\\\\\n\t106 & 29811.22 & -722006.7 & 781629.1 & -1119995.0 & 1179617.5\\\\\n\t107 & 29811.22 & -728751.3 & 788373.8 & -1130310.1 & 1189932.6\\\\\n\t108 & 29811.22 & -735436.6 & 795059.0 & -1140534.3 & 1200156.7\\\\\n\t109 & 29811.22 & -742063.9 & 801686.4 & -1150669.9 & 1210292.4\\\\\n\t110 & 29811.22 & -748634.8 & 808257.3 & -1160719.3 & 1220341.7\\\\\n\t111 & 29811.22 & -755150.7 & 814773.2 & -1170684.5 & 1230307.0\\\\\n\t112 & 29811.22 & -761613.0 & 821235.5 & -1180567.7 & 1240190.2\\\\\n\t113 & 29811.22 & -768022.9 & 827645.4 & -1190370.8 & 1249993.3\\\\\n\t114 & 29811.22 & -774381.8 & 834004.2 & -1200095.8 & 1259718.3\\\\\n\t115 & 29811.22 & -780690.7 & 840313.2 & -1209744.6 & 1269367.0\\\\\n\t116 & 29811.22 & -786951.0 & 846573.4 & -1219318.7 & 1278941.2\\\\\n\t117 & 29811.22 & -793163.6 & 852786.0 & -1228820.1 & 1288442.5\\\\\n\t118 & 29811.22 & -799329.6 & 858952.1 & -1238250.3 & 1297872.7\\\\\n\t119 & 29811.22 & -805450.1 & 865072.6 & -1247610.8 & 1307233.3\\\\\n\t120 & 29811.22 & -811526.2 & 871148.6 & -1256903.3 & 1316525.7\\\\\n\\end{tabular}\n",
            "text/plain": [
              "    previsão min80     min95    max80      max95    \n",
              " 61 29811.22 -297012.4 356634.8  -470022.4  529644.8\n",
              " 62 29811.22 -312242.4 371864.9  -493314.7  552937.2\n",
              " 63 29811.22 -326822.7 386445.1  -515613.3  575235.7\n",
              " 64 29811.22 -340829.8 400452.3  -537035.3  596657.8\n",
              " 65 29811.22 -354326.5 413949.0  -557676.8  617299.2\n",
              " 66 29811.22 -367364.9 426987.3  -577617.2  637239.6\n",
              " 67 29811.22 -379988.6 439611.0  -596923.5  656545.9\n",
              " 68 29811.22 -392234.9 451857.3  -615652.6  675275.0\n",
              " 69 29811.22 -404135.7 463758.2  -633853.3  693475.8\n",
              " 70 29811.22 -415718.8 475341.2  -651568.1  711190.5\n",
              " 71 29811.22 -427008.2 486630.7  -668833.8  728456.3\n",
              " 72 29811.22 -438025.3 497647.8  -685683.0  745305.5\n",
              " 73 29811.22 -448788.9 508411.3  -702144.5  761766.9\n",
              " 74 29811.22 -459315.6 518938.1  -718243.8  777866.2\n",
              " 75 29811.22 -469620.6 529243.0  -734003.8  793626.3\n",
              " 76 29811.22 -479717.1 539339.6  -749445.2  809067.6\n",
              " 77 29811.22 -489617.5 549239.9  -764586.4  824208.9\n",
              " 78 29811.22 -499332.6 558955.1  -779444.5  839066.9\n",
              " 79 29811.22 -508872.6 568495.0  -794034.6  853657.0\n",
              " 80 29811.22 -518246.5 577869.0  -808370.8  867993.2\n",
              " 81 29811.22 -527462.8 587085.2  -822465.8  882088.3\n",
              " 82 29811.22 -536529.1 596151.5  -836331.6  895954.0\n",
              " 83 29811.22 -545452.5 605075.0  -849978.8  909601.2\n",
              " 84 29811.22 -554239.6 613862.1  -863417.5  923040.0\n",
              " 85 29811.22 -562896.5 622519.0  -876657.0  936279.5\n",
              " 86 29811.22 -571428.7 631051.2  -889705.9  949328.4\n",
              " 87 29811.22 -579841.6 639464.0  -902572.3  962194.7\n",
              " 88 29811.22 -588139.9 647762.3  -915263.4  974885.9\n",
              " 89 29811.22 -596328.2 655950.7  -927786.4  987408.8\n",
              " 90 29811.22 -604410.8 664033.3  -940147.7  999770.2\n",
              " 91 29811.22 -612391.7 672014.2  -952353.5 1011975.9\n",
              " 92 29811.22 -620274.7 679897.1  -964409.4 1024031.8\n",
              " 93 29811.22 -628063.2 687685.6  -976320.8 1035943.3\n",
              " 94 29811.22 -635760.5 695383.0  -988092.9 1047715.4\n",
              " 95 29811.22 -643369.9 702992.3  -999730.4 1059352.9\n",
              " 96 29811.22 -650894.2 710516.6 -1011237.8 1070860.3\n",
              " 97 29811.22 -658336.2 717958.6 -1022619.4 1082241.9\n",
              " 98 29811.22 -665698.6 725321.0 -1033879.2 1093501.7\n",
              " 99 29811.22 -672983.8 732606.3 -1045021.1 1104643.5\n",
              "100 29811.22 -680194.4 739816.8 -1056048.6 1115671.1\n",
              "101 29811.22 -687332.4 746954.8 -1066965.3 1126587.7\n",
              "102 29811.22 -694400.1 754022.5 -1077774.4 1137396.8\n",
              "103 29811.22 -701399.4 761021.9 -1088479.0 1148101.4\n",
              "104 29811.22 -708332.4 767954.9 -1099082.1 1158704.5\n",
              "105 29811.22 -715200.9 774823.4 -1109586.5 1169209.0\n",
              "106 29811.22 -722006.7 781629.1 -1119995.0 1179617.5\n",
              "107 29811.22 -728751.3 788373.8 -1130310.1 1189932.6\n",
              "108 29811.22 -735436.6 795059.0 -1140534.3 1200156.7\n",
              "109 29811.22 -742063.9 801686.4 -1150669.9 1210292.4\n",
              "110 29811.22 -748634.8 808257.3 -1160719.3 1220341.7\n",
              "111 29811.22 -755150.7 814773.2 -1170684.5 1230307.0\n",
              "112 29811.22 -761613.0 821235.5 -1180567.7 1240190.2\n",
              "113 29811.22 -768022.9 827645.4 -1190370.8 1249993.3\n",
              "114 29811.22 -774381.8 834004.2 -1200095.8 1259718.3\n",
              "115 29811.22 -780690.7 840313.2 -1209744.6 1269367.0\n",
              "116 29811.22 -786951.0 846573.4 -1219318.7 1278941.2\n",
              "117 29811.22 -793163.6 852786.0 -1228820.1 1288442.5\n",
              "118 29811.22 -799329.6 858952.1 -1238250.3 1297872.7\n",
              "119 29811.22 -805450.1 865072.6 -1247610.8 1307233.3\n",
              "120 29811.22 -811526.2 871148.6 -1256903.3 1316525.7"
            ]
          },
          "metadata": {}
        },
        {
          "output_type": "display_data",
          "data": {
            "text/plain": [
              "Plot with title “”"
            ],
            "image/png": "[encoded data removed]"
          },
          "metadata": {
            "image/png": {
              "width": 420,
              "height": 420
            }
          }
        }
      ]
    },
    {
      "cell_type": "code",
      "source": [
        "usuarios=aggregate(\n",
        "  AP_CNSPCN ~ PA_CMP + medicamento, \n",
        "  data = subset(\n",
        "      paam_atendimento,\n",
        "      medicamento == 'ADA' \n",
        "    ),\n",
        "  function(x) length(unique(x))\n",
        ")\n",
        "tail(usuarios,20)\n",
        "\n",
        "arima_data=forecast(auto.arima(\n",
        "    usuarios$AP_CNSPCN,\n",
        "    allowmean = TRUE\n",
        "  ), h = 60)\n",
        "\n",
        "plot(\n",
        "  arima_data,\n",
        "  xlab = \"\",\n",
        "  ylab = \"Usuários\",\n",
        "  main = \"\",\n",
        "  las = 3  ,\n",
        "  xaxt = 'n'\n",
        ")\n",
        "\n",
        "axis(1,\n",
        "     at = 1:(nrow(total)+61),\n",
        "     labels = 1:(nrow(total)+61),\n",
        "     las = 3)\n",
        "\n",
        "arima_data=as.data.frame(arima_data)\n",
        "colnames(arima_data)=c(\"previsão\",\"min80\",\"min95\",\"max80\",\"max95\")\n",
        "tail(arima_data,60)"
      ],
      "metadata": {
        "colab": {
          "base_uri": "https://localhost:8080/",
          "height": 3108
        },
        "id": "LaSk7R1S8cGV",
        "outputId": "c0d7416e-c293-466a-89fa-c4b961ef4f74"
      },
      "execution_count": 126,
      "outputs": [
        {
          "output_type": "display_data",
          "data": {
            "text/html": [
              "<table class=\"dataframe\">\n",
              "<caption>A data.frame: 20 × 3</caption>\n",
              "<thead>\n",
              "\t<tr><th></th><th scope=col>PA_CMP</th><th scope=col>medicamento</th><th scope=col>AP_CNSPCN</th></tr>\n",
              "\t<tr><th></th><th scope=col>&lt;dbl&gt;</th><th scope=col>&lt;chr&gt;</th><th scope=col>&lt;int&gt;</th></tr>\n",
              "</thead>\n",
              "<tbody>\n",
              "\t<tr><th scope=row>41</th><td>202105</td><td>ADA</td><td> 9</td></tr>\n",
              "\t<tr><th scope=row>42</th><td>202106</td><td>ADA</td><td> 9</td></tr>\n",
              "\t<tr><th scope=row>43</th><td>202107</td><td>ADA</td><td>12</td></tr>\n",
              "\t<tr><th scope=row>44</th><td>202108</td><td>ADA</td><td> 8</td></tr>\n",
              "\t<tr><th scope=row>45</th><td>202109</td><td>ADA</td><td> 9</td></tr>\n",
              "\t<tr><th scope=row>46</th><td>202110</td><td>ADA</td><td> 7</td></tr>\n",
              "\t<tr><th scope=row>47</th><td>202111</td><td>ADA</td><td>10</td></tr>\n",
              "\t<tr><th scope=row>48</th><td>202112</td><td>ADA</td><td>11</td></tr>\n",
              "\t<tr><th scope=row>49</th><td>202201</td><td>ADA</td><td>11</td></tr>\n",
              "\t<tr><th scope=row>50</th><td>202202</td><td>ADA</td><td>13</td></tr>\n",
              "\t<tr><th scope=row>51</th><td>202203</td><td>ADA</td><td>13</td></tr>\n",
              "\t<tr><th scope=row>52</th><td>202204</td><td>ADA</td><td>13</td></tr>\n",
              "\t<tr><th scope=row>53</th><td>202205</td><td>ADA</td><td>10</td></tr>\n",
              "\t<tr><th scope=row>54</th><td>202206</td><td>ADA</td><td> 9</td></tr>\n",
              "\t<tr><th scope=row>55</th><td>202207</td><td>ADA</td><td>11</td></tr>\n",
              "\t<tr><th scope=row>56</th><td>202208</td><td>ADA</td><td> 8</td></tr>\n",
              "\t<tr><th scope=row>57</th><td>202209</td><td>ADA</td><td> 9</td></tr>\n",
              "\t<tr><th scope=row>58</th><td>202210</td><td>ADA</td><td> 9</td></tr>\n",
              "\t<tr><th scope=row>59</th><td>202211</td><td>ADA</td><td>11</td></tr>\n",
              "\t<tr><th scope=row>60</th><td>202212</td><td>ADA</td><td>11</td></tr>\n",
              "</tbody>\n",
              "</table>\n"
            ],
            "text/markdown": "\nA data.frame: 20 × 3\n\n| <!--/--> | PA_CMP &lt;dbl&gt; | medicamento &lt;chr&gt; | AP_CNSPCN &lt;int&gt; |\n|---|---|---|---|\n| 41 | 202105 | ADA |  9 |\n| 42 | 202106 | ADA |  9 |\n| 43 | 202107 | ADA | 12 |\n| 44 | 202108 | ADA |  8 |\n| 45 | 202109 | ADA |  9 |\n| 46 | 202110 | ADA |  7 |\n| 47 | 202111 | ADA | 10 |\n| 48 | 202112 | ADA | 11 |\n| 49 | 202201 | ADA | 11 |\n| 50 | 202202 | ADA | 13 |\n| 51 | 202203 | ADA | 13 |\n| 52 | 202204 | ADA | 13 |\n| 53 | 202205 | ADA | 10 |\n| 54 | 202206 | ADA |  9 |\n| 55 | 202207 | ADA | 11 |\n| 56 | 202208 | ADA |  8 |\n| 57 | 202209 | ADA |  9 |\n| 58 | 202210 | ADA |  9 |\n| 59 | 202211 | ADA | 11 |\n| 60 | 202212 | ADA | 11 |\n\n",
            "text/latex": "A data.frame: 20 × 3\n\\begin{tabular}{r|lll}\n  & PA\\_CMP & medicamento & AP\\_CNSPCN\\\\\n  & <dbl> & <chr> & <int>\\\\\n\\hline\n\t41 & 202105 & ADA &  9\\\\\n\t42 & 202106 & ADA &  9\\\\\n\t43 & 202107 & ADA & 12\\\\\n\t44 & 202108 & ADA &  8\\\\\n\t45 & 202109 & ADA &  9\\\\\n\t46 & 202110 & ADA &  7\\\\\n\t47 & 202111 & ADA & 10\\\\\n\t48 & 202112 & ADA & 11\\\\\n\t49 & 202201 & ADA & 11\\\\\n\t50 & 202202 & ADA & 13\\\\\n\t51 & 202203 & ADA & 13\\\\\n\t52 & 202204 & ADA & 13\\\\\n\t53 & 202205 & ADA & 10\\\\\n\t54 & 202206 & ADA &  9\\\\\n\t55 & 202207 & ADA & 11\\\\\n\t56 & 202208 & ADA &  8\\\\\n\t57 & 202209 & ADA &  9\\\\\n\t58 & 202210 & ADA &  9\\\\\n\t59 & 202211 & ADA & 11\\\\\n\t60 & 202212 & ADA & 11\\\\\n\\end{tabular}\n",
            "text/plain": [
              "   PA_CMP medicamento AP_CNSPCN\n",
              "41 202105 ADA          9       \n",
              "42 202106 ADA          9       \n",
              "43 202107 ADA         12       \n",
              "44 202108 ADA          8       \n",
              "45 202109 ADA          9       \n",
              "46 202110 ADA          7       \n",
              "47 202111 ADA         10       \n",
              "48 202112 ADA         11       \n",
              "49 202201 ADA         11       \n",
              "50 202202 ADA         13       \n",
              "51 202203 ADA         13       \n",
              "52 202204 ADA         13       \n",
              "53 202205 ADA         10       \n",
              "54 202206 ADA          9       \n",
              "55 202207 ADA         11       \n",
              "56 202208 ADA          8       \n",
              "57 202209 ADA          9       \n",
              "58 202210 ADA          9       \n",
              "59 202211 ADA         11       \n",
              "60 202212 ADA         11       "
            ]
          },
          "metadata": {}
        },
        {
          "output_type": "display_data",
          "data": {
            "text/html": [
              "<table class=\"dataframe\">\n",
              "<caption>A data.frame: 60 × 5</caption>\n",
              "<thead>\n",
              "\t<tr><th></th><th scope=col>previsão</th><th scope=col>min80</th><th scope=col>min95</th><th scope=col>max80</th><th scope=col>max95</th></tr>\n",
              "\t<tr><th></th><th scope=col>&lt;dbl&gt;</th><th scope=col>&lt;dbl&gt;</th><th scope=col>&lt;dbl&gt;</th><th scope=col>&lt;dbl&gt;</th><th scope=col>&lt;dbl&gt;</th></tr>\n",
              "</thead>\n",
              "<tbody>\n",
              "\t<tr><th scope=row> 61</th><td>10.68896</td><td> 8.542094</td><td>12.83583</td><td> 7.405610</td><td>13.97232</td></tr>\n",
              "\t<tr><th scope=row> 62</th><td>10.82371</td><td> 8.579313</td><td>13.06811</td><td> 7.391200</td><td>14.25623</td></tr>\n",
              "\t<tr><th scope=row> 63</th><td>10.95846</td><td> 8.620599</td><td>13.29633</td><td> 7.383007</td><td>14.53392</td></tr>\n",
              "\t<tr><th scope=row> 64</th><td>11.09322</td><td> 8.665479</td><td>13.52095</td><td> 7.380314</td><td>14.80612</td></tr>\n",
              "\t<tr><th scope=row> 65</th><td>11.22797</td><td> 8.713570</td><td>13.74236</td><td> 7.382529</td><td>15.07340</td></tr>\n",
              "\t<tr><th scope=row> 66</th><td>11.36272</td><td> 8.764550</td><td>13.96088</td><td> 7.389163</td><td>15.33627</td></tr>\n",
              "\t<tr><th scope=row> 67</th><td>11.49747</td><td> 8.818148</td><td>14.17679</td><td> 7.399801</td><td>15.59513</td></tr>\n",
              "\t<tr><th scope=row> 68</th><td>11.63222</td><td> 8.874132</td><td>14.39031</td><td> 7.414089</td><td>15.85035</td></tr>\n",
              "\t<tr><th scope=row> 69</th><td>11.76697</td><td> 8.932304</td><td>14.60164</td><td> 7.431723</td><td>16.10222</td></tr>\n",
              "\t<tr><th scope=row> 70</th><td>11.90172</td><td> 8.992492</td><td>14.81095</td><td> 7.452439</td><td>16.35100</td></tr>\n",
              "\t<tr><th scope=row> 71</th><td>12.03647</td><td> 9.054543</td><td>15.01840</td><td> 7.476005</td><td>16.59694</td></tr>\n",
              "\t<tr><th scope=row> 72</th><td>12.17122</td><td> 9.118325</td><td>15.22412</td><td> 7.502218</td><td>16.84023</td></tr>\n",
              "\t<tr><th scope=row> 73</th><td>12.30597</td><td> 9.183719</td><td>15.42823</td><td> 7.530898</td><td>17.08105</td></tr>\n",
              "\t<tr><th scope=row> 74</th><td>12.44072</td><td> 9.250622</td><td>15.63083</td><td> 7.561883</td><td>17.31956</td></tr>\n",
              "\t<tr><th scope=row> 75</th><td>12.57547</td><td> 9.318937</td><td>15.83201</td><td> 7.595030</td><td>17.55592</td></tr>\n",
              "\t<tr><th scope=row> 76</th><td>12.71023</td><td> 9.388581</td><td>16.03187</td><td> 7.630208</td><td>17.79024</td></tr>\n",
              "\t<tr><th scope=row> 77</th><td>12.84498</td><td> 9.459477</td><td>16.23048</td><td> 7.667301</td><td>18.02265</td></tr>\n",
              "\t<tr><th scope=row> 78</th><td>12.97973</td><td> 9.531555</td><td>16.42790</td><td> 7.706203</td><td>18.25325</td></tr>\n",
              "\t<tr><th scope=row> 79</th><td>13.11448</td><td> 9.604752</td><td>16.62420</td><td> 7.746815</td><td>18.48214</td></tr>\n",
              "\t<tr><th scope=row> 80</th><td>13.24923</td><td> 9.679010</td><td>16.81945</td><td> 7.789050</td><td>18.70941</td></tr>\n",
              "\t<tr><th scope=row> 81</th><td>13.38398</td><td> 9.754276</td><td>17.01368</td><td> 7.832827</td><td>18.93513</td></tr>\n",
              "\t<tr><th scope=row> 82</th><td>13.51873</td><td> 9.830502</td><td>17.20696</td><td> 7.878071</td><td>19.15939</td></tr>\n",
              "\t<tr><th scope=row> 83</th><td>13.65348</td><td> 9.907641</td><td>17.39932</td><td> 7.924713</td><td>19.38225</td></tr>\n",
              "\t<tr><th scope=row> 84</th><td>13.78823</td><td> 9.985654</td><td>17.59081</td><td> 7.972690</td><td>19.60378</td></tr>\n",
              "\t<tr><th scope=row> 85</th><td>13.92298</td><td>10.064501</td><td>17.78147</td><td> 8.021943</td><td>19.82402</td></tr>\n",
              "\t<tr><th scope=row> 86</th><td>14.05773</td><td>10.144146</td><td>17.97132</td><td> 8.072417</td><td>20.04305</td></tr>\n",
              "\t<tr><th scope=row> 87</th><td>14.19249</td><td>10.224556</td><td>18.16041</td><td> 8.124062</td><td>20.26091</td></tr>\n",
              "\t<tr><th scope=row> 88</th><td>14.32724</td><td>10.305701</td><td>18.34877</td><td> 8.176829</td><td>20.47764</td></tr>\n",
              "\t<tr><th scope=row> 89</th><td>14.46199</td><td>10.387551</td><td>18.53642</td><td> 8.230674</td><td>20.69330</td></tr>\n",
              "\t<tr><th scope=row> 90</th><td>14.59674</td><td>10.470079</td><td>18.72340</td><td> 8.285557</td><td>20.90792</td></tr>\n",
              "\t<tr><th scope=row> 91</th><td>14.73149</td><td>10.553259</td><td>18.90972</td><td> 8.341438</td><td>21.12154</td></tr>\n",
              "\t<tr><th scope=row> 92</th><td>14.86624</td><td>10.637069</td><td>19.09541</td><td> 8.398281</td><td>21.33420</td></tr>\n",
              "\t<tr><th scope=row> 93</th><td>15.00099</td><td>10.721485</td><td>19.28050</td><td> 8.456051</td><td>21.54593</td></tr>\n",
              "\t<tr><th scope=row> 94</th><td>15.13574</td><td>10.806485</td><td>19.46500</td><td> 8.514716</td><td>21.75677</td></tr>\n",
              "\t<tr><th scope=row> 95</th><td>15.27049</td><td>10.892052</td><td>19.64893</td><td> 8.574245</td><td>21.96674</td></tr>\n",
              "\t<tr><th scope=row> 96</th><td>15.40524</td><td>10.978164</td><td>19.83232</td><td> 8.634610</td><td>22.17588</td></tr>\n",
              "\t<tr><th scope=row> 97</th><td>15.53999</td><td>11.064805</td><td>20.01518</td><td> 8.695784</td><td>22.38420</td></tr>\n",
              "\t<tr><th scope=row> 98</th><td>15.67474</td><td>11.151958</td><td>20.19753</td><td> 8.757740</td><td>22.59175</td></tr>\n",
              "\t<tr><th scope=row> 99</th><td>15.80950</td><td>11.239607</td><td>20.37938</td><td> 8.820454</td><td>22.79854</td></tr>\n",
              "\t<tr><th scope=row>100</th><td>15.94425</td><td>11.327736</td><td>20.56076</td><td> 8.883903</td><td>23.00459</td></tr>\n",
              "\t<tr><th scope=row>101</th><td>16.07900</td><td>11.416332</td><td>20.74166</td><td> 8.948065</td><td>23.20993</td></tr>\n",
              "\t<tr><th scope=row>102</th><td>16.21375</td><td>11.505379</td><td>20.92212</td><td> 9.012919</td><td>23.41458</td></tr>\n",
              "\t<tr><th scope=row>103</th><td>16.34850</td><td>11.594867</td><td>21.10213</td><td> 9.078445</td><td>23.61855</td></tr>\n",
              "\t<tr><th scope=row>104</th><td>16.48325</td><td>11.684781</td><td>21.28172</td><td> 9.144624</td><td>23.82188</td></tr>\n",
              "\t<tr><th scope=row>105</th><td>16.61800</td><td>11.775110</td><td>21.46089</td><td> 9.211438</td><td>24.02456</td></tr>\n",
              "\t<tr><th scope=row>106</th><td>16.75275</td><td>11.865843</td><td>21.63966</td><td> 9.278870</td><td>24.22663</td></tr>\n",
              "\t<tr><th scope=row>107</th><td>16.88750</td><td>11.956969</td><td>21.81804</td><td> 9.346902</td><td>24.42810</td></tr>\n",
              "\t<tr><th scope=row>108</th><td>17.02225</td><td>12.048477</td><td>21.99603</td><td> 9.415519</td><td>24.62899</td></tr>\n",
              "\t<tr><th scope=row>109</th><td>17.15700</td><td>12.140359</td><td>22.17365</td><td> 9.484707</td><td>24.82930</td></tr>\n",
              "\t<tr><th scope=row>110</th><td>17.29176</td><td>12.232603</td><td>22.35091</td><td> 9.554450</td><td>25.02906</td></tr>\n",
              "\t<tr><th scope=row>111</th><td>17.42651</td><td>12.325202</td><td>22.52781</td><td> 9.624735</td><td>25.22828</td></tr>\n",
              "\t<tr><th scope=row>112</th><td>17.56126</td><td>12.418146</td><td>22.70437</td><td> 9.695548</td><td>25.42697</td></tr>\n",
              "\t<tr><th scope=row>113</th><td>17.69601</td><td>12.511427</td><td>22.88059</td><td> 9.766876</td><td>25.62514</td></tr>\n",
              "\t<tr><th scope=row>114</th><td>17.83076</td><td>12.605038</td><td>23.05648</td><td> 9.838708</td><td>25.82281</td></tr>\n",
              "\t<tr><th scope=row>115</th><td>17.96551</td><td>12.698970</td><td>23.23205</td><td> 9.911032</td><td>26.01999</td></tr>\n",
              "\t<tr><th scope=row>116</th><td>18.10026</td><td>12.793215</td><td>23.40731</td><td> 9.983835</td><td>26.21669</td></tr>\n",
              "\t<tr><th scope=row>117</th><td>18.23501</td><td>12.887768</td><td>23.58226</td><td>10.057108</td><td>26.41291</td></tr>\n",
              "\t<tr><th scope=row>118</th><td>18.36976</td><td>12.982620</td><td>23.75690</td><td>10.130839</td><td>26.60869</td></tr>\n",
              "\t<tr><th scope=row>119</th><td>18.50451</td><td>13.077766</td><td>23.93126</td><td>10.205019</td><td>26.80401</td></tr>\n",
              "\t<tr><th scope=row>120</th><td>18.63926</td><td>13.173199</td><td>24.10533</td><td>10.279638</td><td>26.99889</td></tr>\n",
              "</tbody>\n",
              "</table>\n"
            ],
            "text/markdown": "\nA data.frame: 60 × 5\n\n| <!--/--> | previsão &lt;dbl&gt; | min80 &lt;dbl&gt; | min95 &lt;dbl&gt; | max80 &lt;dbl&gt; | max95 &lt;dbl&gt; |\n|---|---|---|---|---|---|\n|  61 | 10.68896 |  8.542094 | 12.83583 |  7.405610 | 13.97232 |\n|  62 | 10.82371 |  8.579313 | 13.06811 |  7.391200 | 14.25623 |\n|  63 | 10.95846 |  8.620599 | 13.29633 |  7.383007 | 14.53392 |\n|  64 | 11.09322 |  8.665479 | 13.52095 |  7.380314 | 14.80612 |\n|  65 | 11.22797 |  8.713570 | 13.74236 |  7.382529 | 15.07340 |\n|  66 | 11.36272 |  8.764550 | 13.96088 |  7.389163 | 15.33627 |\n|  67 | 11.49747 |  8.818148 | 14.17679 |  7.399801 | 15.59513 |\n|  68 | 11.63222 |  8.874132 | 14.39031 |  7.414089 | 15.85035 |\n|  69 | 11.76697 |  8.932304 | 14.60164 |  7.431723 | 16.10222 |\n|  70 | 11.90172 |  8.992492 | 14.81095 |  7.452439 | 16.35100 |\n|  71 | 12.03647 |  9.054543 | 15.01840 |  7.476005 | 16.59694 |\n|  72 | 12.17122 |  9.118325 | 15.22412 |  7.502218 | 16.84023 |\n|  73 | 12.30597 |  9.183719 | 15.42823 |  7.530898 | 17.08105 |\n|  74 | 12.44072 |  9.250622 | 15.63083 |  7.561883 | 17.31956 |\n|  75 | 12.57547 |  9.318937 | 15.83201 |  7.595030 | 17.55592 |\n|  76 | 12.71023 |  9.388581 | 16.03187 |  7.630208 | 17.79024 |\n|  77 | 12.84498 |  9.459477 | 16.23048 |  7.667301 | 18.02265 |\n|  78 | 12.97973 |  9.531555 | 16.42790 |  7.706203 | 18.25325 |\n|  79 | 13.11448 |  9.604752 | 16.62420 |  7.746815 | 18.48214 |\n|  80 | 13.24923 |  9.679010 | 16.81945 |  7.789050 | 18.70941 |\n|  81 | 13.38398 |  9.754276 | 17.01368 |  7.832827 | 18.93513 |\n|  82 | 13.51873 |  9.830502 | 17.20696 |  7.878071 | 19.15939 |\n|  83 | 13.65348 |  9.907641 | 17.39932 |  7.924713 | 19.38225 |\n|  84 | 13.78823 |  9.985654 | 17.59081 |  7.972690 | 19.60378 |\n|  85 | 13.92298 | 10.064501 | 17.78147 |  8.021943 | 19.82402 |\n|  86 | 14.05773 | 10.144146 | 17.97132 |  8.072417 | 20.04305 |\n|  87 | 14.19249 | 10.224556 | 18.16041 |  8.124062 | 20.26091 |\n|  88 | 14.32724 | 10.305701 | 18.34877 |  8.176829 | 20.47764 |\n|  89 | 14.46199 | 10.387551 | 18.53642 |  8.230674 | 20.69330 |\n|  90 | 14.59674 | 10.470079 | 18.72340 |  8.285557 | 20.90792 |\n|  91 | 14.73149 | 10.553259 | 18.90972 |  8.341438 | 21.12154 |\n|  92 | 14.86624 | 10.637069 | 19.09541 |  8.398281 | 21.33420 |\n|  93 | 15.00099 | 10.721485 | 19.28050 |  8.456051 | 21.54593 |\n|  94 | 15.13574 | 10.806485 | 19.46500 |  8.514716 | 21.75677 |\n|  95 | 15.27049 | 10.892052 | 19.64893 |  8.574245 | 21.96674 |\n|  96 | 15.40524 | 10.978164 | 19.83232 |  8.634610 | 22.17588 |\n|  97 | 15.53999 | 11.064805 | 20.01518 |  8.695784 | 22.38420 |\n|  98 | 15.67474 | 11.151958 | 20.19753 |  8.757740 | 22.59175 |\n|  99 | 15.80950 | 11.239607 | 20.37938 |  8.820454 | 22.79854 |\n| 100 | 15.94425 | 11.327736 | 20.56076 |  8.883903 | 23.00459 |\n| 101 | 16.07900 | 11.416332 | 20.74166 |  8.948065 | 23.20993 |\n| 102 | 16.21375 | 11.505379 | 20.92212 |  9.012919 | 23.41458 |\n| 103 | 16.34850 | 11.594867 | 21.10213 |  9.078445 | 23.61855 |\n| 104 | 16.48325 | 11.684781 | 21.28172 |  9.144624 | 23.82188 |\n| 105 | 16.61800 | 11.775110 | 21.46089 |  9.211438 | 24.02456 |\n| 106 | 16.75275 | 11.865843 | 21.63966 |  9.278870 | 24.22663 |\n| 107 | 16.88750 | 11.956969 | 21.81804 |  9.346902 | 24.42810 |\n| 108 | 17.02225 | 12.048477 | 21.99603 |  9.415519 | 24.62899 |\n| 109 | 17.15700 | 12.140359 | 22.17365 |  9.484707 | 24.82930 |\n| 110 | 17.29176 | 12.232603 | 22.35091 |  9.554450 | 25.02906 |\n| 111 | 17.42651 | 12.325202 | 22.52781 |  9.624735 | 25.22828 |\n| 112 | 17.56126 | 12.418146 | 22.70437 |  9.695548 | 25.42697 |\n| 113 | 17.69601 | 12.511427 | 22.88059 |  9.766876 | 25.62514 |\n| 114 | 17.83076 | 12.605038 | 23.05648 |  9.838708 | 25.82281 |\n| 115 | 17.96551 | 12.698970 | 23.23205 |  9.911032 | 26.01999 |\n| 116 | 18.10026 | 12.793215 | 23.40731 |  9.983835 | 26.21669 |\n| 117 | 18.23501 | 12.887768 | 23.58226 | 10.057108 | 26.41291 |\n| 118 | 18.36976 | 12.982620 | 23.75690 | 10.130839 | 26.60869 |\n| 119 | 18.50451 | 13.077766 | 23.93126 | 10.205019 | 26.80401 |\n| 120 | 18.63926 | 13.173199 | 24.10533 | 10.279638 | 26.99889 |\n\n",
            "text/latex": "A data.frame: 60 × 5\n\\begin{tabular}{r|lllll}\n  & previsão & min80 & min95 & max80 & max95\\\\\n  & <dbl> & <dbl> & <dbl> & <dbl> & <dbl>\\\\\n\\hline\n\t 61 & 10.68896 &  8.542094 & 12.83583 &  7.405610 & 13.97232\\\\\n\t 62 & 10.82371 &  8.579313 & 13.06811 &  7.391200 & 14.25623\\\\\n\t 63 & 10.95846 &  8.620599 & 13.29633 &  7.383007 & 14.53392\\\\\n\t 64 & 11.09322 &  8.665479 & 13.52095 &  7.380314 & 14.80612\\\\\n\t 65 & 11.22797 &  8.713570 & 13.74236 &  7.382529 & 15.07340\\\\\n\t 66 & 11.36272 &  8.764550 & 13.96088 &  7.389163 & 15.33627\\\\\n\t 67 & 11.49747 &  8.818148 & 14.17679 &  7.399801 & 15.59513\\\\\n\t 68 & 11.63222 &  8.874132 & 14.39031 &  7.414089 & 15.85035\\\\\n\t 69 & 11.76697 &  8.932304 & 14.60164 &  7.431723 & 16.10222\\\\\n\t 70 & 11.90172 &  8.992492 & 14.81095 &  7.452439 & 16.35100\\\\\n\t 71 & 12.03647 &  9.054543 & 15.01840 &  7.476005 & 16.59694\\\\\n\t 72 & 12.17122 &  9.118325 & 15.22412 &  7.502218 & 16.84023\\\\\n\t 73 & 12.30597 &  9.183719 & 15.42823 &  7.530898 & 17.08105\\\\\n\t 74 & 12.44072 &  9.250622 & 15.63083 &  7.561883 & 17.31956\\\\\n\t 75 & 12.57547 &  9.318937 & 15.83201 &  7.595030 & 17.55592\\\\\n\t 76 & 12.71023 &  9.388581 & 16.03187 &  7.630208 & 17.79024\\\\\n\t 77 & 12.84498 &  9.459477 & 16.23048 &  7.667301 & 18.02265\\\\\n\t 78 & 12.97973 &  9.531555 & 16.42790 &  7.706203 & 18.25325\\\\\n\t 79 & 13.11448 &  9.604752 & 16.62420 &  7.746815 & 18.48214\\\\\n\t 80 & 13.24923 &  9.679010 & 16.81945 &  7.789050 & 18.70941\\\\\n\t 81 & 13.38398 &  9.754276 & 17.01368 &  7.832827 & 18.93513\\\\\n\t 82 & 13.51873 &  9.830502 & 17.20696 &  7.878071 & 19.15939\\\\\n\t 83 & 13.65348 &  9.907641 & 17.39932 &  7.924713 & 19.38225\\\\\n\t 84 & 13.78823 &  9.985654 & 17.59081 &  7.972690 & 19.60378\\\\\n\t 85 & 13.92298 & 10.064501 & 17.78147 &  8.021943 & 19.82402\\\\\n\t 86 & 14.05773 & 10.144146 & 17.97132 &  8.072417 & 20.04305\\\\\n\t 87 & 14.19249 & 10.224556 & 18.16041 &  8.124062 & 20.26091\\\\\n\t 88 & 14.32724 & 10.305701 & 18.34877 &  8.176829 & 20.47764\\\\\n\t 89 & 14.46199 & 10.387551 & 18.53642 &  8.230674 & 20.69330\\\\\n\t 90 & 14.59674 & 10.470079 & 18.72340 &  8.285557 & 20.90792\\\\\n\t 91 & 14.73149 & 10.553259 & 18.90972 &  8.341438 & 21.12154\\\\\n\t 92 & 14.86624 & 10.637069 & 19.09541 &  8.398281 & 21.33420\\\\\n\t 93 & 15.00099 & 10.721485 & 19.28050 &  8.456051 & 21.54593\\\\\n\t 94 & 15.13574 & 10.806485 & 19.46500 &  8.514716 & 21.75677\\\\\n\t 95 & 15.27049 & 10.892052 & 19.64893 &  8.574245 & 21.96674\\\\\n\t 96 & 15.40524 & 10.978164 & 19.83232 &  8.634610 & 22.17588\\\\\n\t 97 & 15.53999 & 11.064805 & 20.01518 &  8.695784 & 22.38420\\\\\n\t 98 & 15.67474 & 11.151958 & 20.19753 &  8.757740 & 22.59175\\\\\n\t 99 & 15.80950 & 11.239607 & 20.37938 &  8.820454 & 22.79854\\\\\n\t100 & 15.94425 & 11.327736 & 20.56076 &  8.883903 & 23.00459\\\\\n\t101 & 16.07900 & 11.416332 & 20.74166 &  8.948065 & 23.20993\\\\\n\t102 & 16.21375 & 11.505379 & 20.92212 &  9.012919 & 23.41458\\\\\n\t103 & 16.34850 & 11.594867 & 21.10213 &  9.078445 & 23.61855\\\\\n\t104 & 16.48325 & 11.684781 & 21.28172 &  9.144624 & 23.82188\\\\\n\t105 & 16.61800 & 11.775110 & 21.46089 &  9.211438 & 24.02456\\\\\n\t106 & 16.75275 & 11.865843 & 21.63966 &  9.278870 & 24.22663\\\\\n\t107 & 16.88750 & 11.956969 & 21.81804 &  9.346902 & 24.42810\\\\\n\t108 & 17.02225 & 12.048477 & 21.99603 &  9.415519 & 24.62899\\\\\n\t109 & 17.15700 & 12.140359 & 22.17365 &  9.484707 & 24.82930\\\\\n\t110 & 17.29176 & 12.232603 & 22.35091 &  9.554450 & 25.02906\\\\\n\t111 & 17.42651 & 12.325202 & 22.52781 &  9.624735 & 25.22828\\\\\n\t112 & 17.56126 & 12.418146 & 22.70437 &  9.695548 & 25.42697\\\\\n\t113 & 17.69601 & 12.511427 & 22.88059 &  9.766876 & 25.62514\\\\\n\t114 & 17.83076 & 12.605038 & 23.05648 &  9.838708 & 25.82281\\\\\n\t115 & 17.96551 & 12.698970 & 23.23205 &  9.911032 & 26.01999\\\\\n\t116 & 18.10026 & 12.793215 & 23.40731 &  9.983835 & 26.21669\\\\\n\t117 & 18.23501 & 12.887768 & 23.58226 & 10.057108 & 26.41291\\\\\n\t118 & 18.36976 & 12.982620 & 23.75690 & 10.130839 & 26.60869\\\\\n\t119 & 18.50451 & 13.077766 & 23.93126 & 10.205019 & 26.80401\\\\\n\t120 & 18.63926 & 13.173199 & 24.10533 & 10.279638 & 26.99889\\\\\n\\end{tabular}\n",
            "text/plain": [
              "    previsão min80     min95    max80     max95   \n",
              " 61 10.68896  8.542094 12.83583  7.405610 13.97232\n",
              " 62 10.82371  8.579313 13.06811  7.391200 14.25623\n",
              " 63 10.95846  8.620599 13.29633  7.383007 14.53392\n",
              " 64 11.09322  8.665479 13.52095  7.380314 14.80612\n",
              " 65 11.22797  8.713570 13.74236  7.382529 15.07340\n",
              " 66 11.36272  8.764550 13.96088  7.389163 15.33627\n",
              " 67 11.49747  8.818148 14.17679  7.399801 15.59513\n",
              " 68 11.63222  8.874132 14.39031  7.414089 15.85035\n",
              " 69 11.76697  8.932304 14.60164  7.431723 16.10222\n",
              " 70 11.90172  8.992492 14.81095  7.452439 16.35100\n",
              " 71 12.03647  9.054543 15.01840  7.476005 16.59694\n",
              " 72 12.17122  9.118325 15.22412  7.502218 16.84023\n",
              " 73 12.30597  9.183719 15.42823  7.530898 17.08105\n",
              " 74 12.44072  9.250622 15.63083  7.561883 17.31956\n",
              " 75 12.57547  9.318937 15.83201  7.595030 17.55592\n",
              " 76 12.71023  9.388581 16.03187  7.630208 17.79024\n",
              " 77 12.84498  9.459477 16.23048  7.667301 18.02265\n",
              " 78 12.97973  9.531555 16.42790  7.706203 18.25325\n",
              " 79 13.11448  9.604752 16.62420  7.746815 18.48214\n",
              " 80 13.24923  9.679010 16.81945  7.789050 18.70941\n",
              " 81 13.38398  9.754276 17.01368  7.832827 18.93513\n",
              " 82 13.51873  9.830502 17.20696  7.878071 19.15939\n",
              " 83 13.65348  9.907641 17.39932  7.924713 19.38225\n",
              " 84 13.78823  9.985654 17.59081  7.972690 19.60378\n",
              " 85 13.92298 10.064501 17.78147  8.021943 19.82402\n",
              " 86 14.05773 10.144146 17.97132  8.072417 20.04305\n",
              " 87 14.19249 10.224556 18.16041  8.124062 20.26091\n",
              " 88 14.32724 10.305701 18.34877  8.176829 20.47764\n",
              " 89 14.46199 10.387551 18.53642  8.230674 20.69330\n",
              " 90 14.59674 10.470079 18.72340  8.285557 20.90792\n",
              " 91 14.73149 10.553259 18.90972  8.341438 21.12154\n",
              " 92 14.86624 10.637069 19.09541  8.398281 21.33420\n",
              " 93 15.00099 10.721485 19.28050  8.456051 21.54593\n",
              " 94 15.13574 10.806485 19.46500  8.514716 21.75677\n",
              " 95 15.27049 10.892052 19.64893  8.574245 21.96674\n",
              " 96 15.40524 10.978164 19.83232  8.634610 22.17588\n",
              " 97 15.53999 11.064805 20.01518  8.695784 22.38420\n",
              " 98 15.67474 11.151958 20.19753  8.757740 22.59175\n",
              " 99 15.80950 11.239607 20.37938  8.820454 22.79854\n",
              "100 15.94425 11.327736 20.56076  8.883903 23.00459\n",
              "101 16.07900 11.416332 20.74166  8.948065 23.20993\n",
              "102 16.21375 11.505379 20.92212  9.012919 23.41458\n",
              "103 16.34850 11.594867 21.10213  9.078445 23.61855\n",
              "104 16.48325 11.684781 21.28172  9.144624 23.82188\n",
              "105 16.61800 11.775110 21.46089  9.211438 24.02456\n",
              "106 16.75275 11.865843 21.63966  9.278870 24.22663\n",
              "107 16.88750 11.956969 21.81804  9.346902 24.42810\n",
              "108 17.02225 12.048477 21.99603  9.415519 24.62899\n",
              "109 17.15700 12.140359 22.17365  9.484707 24.82930\n",
              "110 17.29176 12.232603 22.35091  9.554450 25.02906\n",
              "111 17.42651 12.325202 22.52781  9.624735 25.22828\n",
              "112 17.56126 12.418146 22.70437  9.695548 25.42697\n",
              "113 17.69601 12.511427 22.88059  9.766876 25.62514\n",
              "114 17.83076 12.605038 23.05648  9.838708 25.82281\n",
              "115 17.96551 12.698970 23.23205  9.911032 26.01999\n",
              "116 18.10026 12.793215 23.40731  9.983835 26.21669\n",
              "117 18.23501 12.887768 23.58226 10.057108 26.41291\n",
              "118 18.36976 12.982620 23.75690 10.130839 26.60869\n",
              "119 18.50451 13.077766 23.93126 10.205019 26.80401\n",
              "120 18.63926 13.173199 24.10533 10.279638 26.99889"
            ]
          },
          "metadata": {}
        },
        {
          "output_type": "display_data",
          "data": {
            "text/plain": [
              "Plot with title “”"
            ],
            "image/png": "[encoded data removed]"
          },
          "metadata": {
            "image/png": {
              "width": 420,
              "height": 420
            }
          }
        }
      ]
    }
  ]
}